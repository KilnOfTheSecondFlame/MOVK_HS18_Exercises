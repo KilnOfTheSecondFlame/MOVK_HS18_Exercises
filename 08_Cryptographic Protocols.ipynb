{
 "cells": [
  {
   "cell_type": "markdown",
   "metadata": {},
   "source": [
    "## Aufgabe 1: Dining-Cryptographers"
   ]
  },
  {
   "cell_type": "markdown",
   "metadata": {},
   "source": [
    "Ziehen Sie das Protokoll Dining-Cryptographers im Falle einer Dreiergruppe einige Male durch,\n",
    "indem sie das Protokoll mit einem Schiedsrichter überprüfen: es sollen also vier Leute in einer\n",
    "Gruppe arbeiten! Aufgabe: erstellen Sie ein kurzes Protokoll!"
   ]
  },
  {
   "cell_type": "markdown",
   "metadata": {},
   "source": [
    "Rico, Pascal, Samuel:\n",
    "\n",
    "$b_{RP}$ = 1, $b_{RS}$ = 1\n",
    "\n",
    "$b_{PR}$ = 1, $b_{PS}$ = 0\n",
    "\n",
    "$b_{SR}$ = 1, $b_{SP}$ = 0\n",
    "\n",
    "Rico: $b_{RP}$ + $b_{RS}$ mod 2 = 1 + 1 mod 2 = 0\n",
    "\n",
    "Pascal: $b_{PR}$ + $b_{PS}$ mod 2 = 1 + 0 mod 2 = 1\n",
    "\n",
    "Samuel: $b_{SP}$ + $b_{SR}$ mod 2 = 0 + 1 + 1 mod 2 = 0\n",
    "\n",
    "Rico + Pascal + Samuel mod 2 = 1\n",
    "\n",
    "Es kommt also korrekt heraus, das einer zahlen will. Wir als allwissende Betrachter wissen, dass es Samuel (der Grosszügige ;-) ) ist."
   ]
  },
  {
   "cell_type": "markdown",
   "metadata": {},
   "source": [
    "## Aufgabe 2: Anonymes Senden"
   ]
  },
  {
   "cell_type": "markdown",
   "metadata": {},
   "source": [
    "Überlegen sie sich ein Beispiel für den zweiten Paragraphen in Abschnitt 6.1! Aufgabe: erstellen\n",
    "Sie ein kurzes Protokoll (es soll ein von Ihnen durchgeführtes Experiment beschreiben)!"
   ]
  },
  {
   "cell_type": "markdown",
   "metadata": {},
   "source": [
    "![AnonymesSenden.png](img\\AnonymesSenden.png)"
   ]
  },
  {
   "cell_type": "markdown",
   "metadata": {},
   "source": [
    "$k_{AB}=0001$\n",
    "\n",
    "$k_{BC}=0010$\n",
    "\n",
    "$k_{CD}=0011$\n",
    "\n",
    "$k_{AD}=0100$\n",
    "\n",
    "$M = 1101$\n",
    "\n",
    "Alice: $k_{AB} + k_{AD} + M = 1000 = k_A$\n",
    "\n",
    "Bob: $k_{AB} + k_{BC} = 0011 = k_B$\n",
    "\n",
    "Cyril: $k_{BC} + k_{CD} = 0001 = k_C$\n",
    "\n",
    "David: $k_{CD} + k_{AD} = 0111 = k_D$\n",
    "\n",
    "$k_A + k_B + k_C + k_D = 1101 = M$"
   ]
  },
  {
   "cell_type": "markdown",
   "metadata": {},
   "source": [
    "## Aufgabe 3: MIXe"
   ]
  },
  {
   "cell_type": "markdown",
   "metadata": {},
   "source": [
    "Spielen das anonyme Versenden von Nachrichten wie in Abschnitt 6.2 beschrieben anhand\n",
    "einfacher Zahlenbeispiele durch. Aufgabe: erstellen Sie ein kurzes Protokoll (es soll ein von\n",
    "Ihnen durchgeführtes Experiment beschreiben)!"
   ]
  },
  {
   "cell_type": "markdown",
   "metadata": {},
   "source": [
    "![MIXe](img/mixe.png)"
   ]
  },
  {
   "cell_type": "markdown",
   "metadata": {},
   "source": [
    "1. A_x verschlüsselt $Message$ und $Empfänger$ $b_x$ zu $Cyphertext_1=E_2(B_x,m_1)$\n",
    "2. $Cyphertext_1$ und Adresse von $MIX_2$ wird verschlüsselt in $Cyphertext_2=E_1(MIX_2,Cyphertext_1)$\n",
    "3. A_x sendet $Cyphertext_2$ an $MIX_1$.\n",
    "4. $MIX_1$ kann den $Cyphertext_2$ entschlüsseln zu $Cyphertext_1$ und Empfänger $MIX_2$. $=> Cyphertext_2=D_1(MIX_2,Cyphertext_1)$\n",
    "5. $MIX_1$ sendet $Cyphertext_1$ zu $MIX_2$.\n",
    "6. $MIX_2$ kann den $Cyphertext_1$ entschlüsseln zu $Message$ und definitivem $Empfänger=B_x$. $=> Cyphertext_1=D_1(B_x,Message)$\n",
    "7. $MIX_2$ sendet die $Message$ zu $B_x$."
   ]
  },
  {
   "cell_type": "markdown",
   "metadata": {},
   "source": [
    "## Aufgabe 4: Anonymität"
   ]
  },
  {
   "cell_type": "markdown",
   "metadata": {},
   "source": [
    "Was ist «traffic analysis»? Welche Art von Anonymität, die Sie gelernt haben, kann eine Lösung\n",
    "dagegen anbieten? Begründen Sie bitte Ihre Antwort."
   ]
  },
  {
   "cell_type": "markdown",
   "metadata": {},
   "source": [
    "\"Traffic analysis is the process of intercepting and examining messages in order to deduce information from patterns in communication, which can be performed even when the messages are encrypted.\" - Wikipedia\n",
    "\n",
    "Es ist also nichts anderes als eine MitM-Attacke auf eine Kommunikation. \n",
    "\n",
    "Der Einsatz von MIXen ist zentral in der Bekämpfung von traffic analysis, da dort weder das Identifizieren der Sender, Empfänger, oder Inhalt der Kommunikation durch Abfangen von Nachrichten möglich ist.\n",
    "\n",
    "Ein Zero-Knowledge Verfahren kann zusätzlich verwendet werden, damit auf dem Kanal kein Geheimnis übermittelt (und so nicht abgefangen werden kann). Trotzdem können Sich die beiden Parteien gegeneinander authentifizieren."
   ]
  },
  {
   "cell_type": "markdown",
   "metadata": {},
   "source": [
    "## Aufgabe 5: Secret Splitting / Geteiltes Geheimnis"
   ]
  },
  {
   "cell_type": "markdown",
   "metadata": {},
   "source": [
    "Verteilen Sie das Geheimnis 01011001 auf drei Leute! Protokollieren Sie das Vorgehen und zeigen\n",
    "Sie, wie man das Geheimnis rekonstruiert."
   ]
  },
  {
   "cell_type": "markdown",
   "metadata": {},
   "source": [
    "$M = 01011001$\n",
    "\n",
    "Alice: $11001100 = A$\n",
    "\n",
    "Bob: $10101010 = B$\n",
    "\n",
    "Cyril: $A + B + M = 00111111 = C$\n",
    "\n",
    "$M = A + B + C = 01011001$"
   ]
  },
  {
   "cell_type": "markdown",
   "metadata": {},
   "source": [
    "## Aufgabe 6: Secret Sharing Schema: Wie hoch ist das Durchschnittsgehalt? (OPTIONAL)"
   ]
  },
  {
   "cell_type": "markdown",
   "metadata": {},
   "source": [
    "Alice, Bob und Carol wollen jedoch nicht verraten, wie viel Geld sie verdienen. Sie möchten\n",
    "jedoch den Durchschnitt ihrer Gehälter berechnen, um mit Hilfe dieses Wertes zu ersehen, ob sie\n",
    "mit ihrem Gehalt zufrieden sind oder ob sie bei der nächsten Gehaltserhöhung kräftig zulangen\n",
    "sollten. Zunächst gehen sie mit einem kryptographischen Protokoll vor. Alice startet. Sie wählt\n",
    "eine Zufallszahl $r$ und addiert ihr Gehalt $a$ dazu. Diesen Wert schickt sie an Bob weiter. Er erhöht\n",
    "diesen Wert um sein Gehalt $b$. Dann fügt Carol Ihr Gehalt $c$ dem vertraulichen Wert $r + a + b$\n",
    "hinzu und gibt ihn an Alice zurück.\n",
    "1. Wie berechnet nun Alice den Durchschnitt ihrer Gehälter?\n",
    "2. Kann eine/r der drei Teilnehmenden das Gehalt einer/s anderen bestimmen? Begründen\n",
    "Sie bitte Ihre Antwort?\n",
    "3. Welche Werte kennt Bob?"
   ]
  },
  {
   "cell_type": "markdown",
   "metadata": {},
   "source": [
    "1. Alice subtrahiert die Zufallszahl $r$ und hat nun das Totalgehalt welches sie durch 3 teilt\n",
    "2. Ein Teilnehmener kann nur das Durchschnitt- oder Totalgehalt der zwei anderen bestimmen\n",
    "3. Bob kennt $r+a$,sein Gehalt $b$ und später der Durchschnitt"
   ]
  },
  {
   "cell_type": "markdown",
   "metadata": {},
   "source": [
    "## Aufgabe 7: Threshold-Verfahren (OPTIONAL)"
   ]
  },
  {
   "cell_type": "markdown",
   "metadata": {},
   "source": [
    "Alice teilt ein Geheimnis $S$ mit einem Polynom des 2. Grades mit. Die Zahl $S$ ist die y-Achsenabschnitt\n",
    "(0, S), die das Geheimnis darstellt. Als Teilgeheimnisse sind drei verschiedene Punkte $(3, 2), (4, 1),\n",
    "(5, 2)$ bekannt. Wie rekonstruieren Sie das Geheimnis?"
   ]
  },
  {
   "cell_type": "markdown",
   "metadata": {},
   "source": [
    "Allgemeines Polynom zweiten Grades: \n",
    "$$f(x) = a_2\\cdot x^2 + a_1\\cdot x^1 + a_0\\cdot 1$$\n",
    "\n",
    "$$ 2 = a_2\\cdot 3^2 + a_1\\cdot 3^1 + a_0\\cdot 1$$\n",
    "$$ 1 = a_2\\cdot 4^2 + a_1\\cdot 4^1 + a_0\\cdot 1$$\n",
    "$$ 2 = a_2\\cdot 5^2 + a_1\\cdot 5^1 + a_0\\cdot 1$$\n",
    "\n",
    "$$\n",
    "\\begin{bmatrix}\n",
    "2\\\\\n",
    "1\\\\\n",
    "2\\\\\n",
    "\\end{bmatrix}\n",
    "=\n",
    "\\begin{bmatrix}\n",
    "9 & 3 & 1\\\\\n",
    "16 & 4 & 1\\\\\n",
    "25 & 5 & 1\\\\\n",
    "\\end{bmatrix}\n",
    "\\cdot\n",
    "\\begin{bmatrix}\n",
    "a_2\\\\\n",
    "a_1\\\\\n",
    "a_0\\\\\n",
    "\\end{bmatrix}\n",
    "$$\n",
    "\n",
    "$$\n",
    "\\begin{bmatrix}\n",
    "a_2\\\\\n",
    "a_1\\\\\n",
    "a_0\\\\\n",
    "\\end{bmatrix}\n",
    "=\n",
    "\\begin{bmatrix}\n",
    "1\\\\\n",
    "-8\\\\\n",
    "17\\\\\n",
    "\\end{bmatrix}\n",
    "$$\n",
    "\n",
    "Und da $S = a_0$ haben wir damit die Lösung $S = 17$."
   ]
  },
  {
   "cell_type": "code",
   "execution_count": 9,
   "metadata": {},
   "outputs": [
    {
     "data": {
      "text/plain": [
       "matrix([[ 1.],\n",
       "        [-8.],\n",
       "        [17.]])"
      ]
     },
     "execution_count": 9,
     "metadata": {},
     "output_type": "execute_result"
    }
   ],
   "source": [
    "import numpy as np\n",
    "np.linalg.inv(np.matrix([[9,3,1],[16,4,1],[25,5,1]]))*np.matrix([[2],[1],[2]])"
   ]
  },
  {
   "cell_type": "markdown",
   "metadata": {},
   "source": [
    "## Aufgabe 8: Blinde Signatur"
   ]
  },
  {
   "cell_type": "markdown",
   "metadata": {},
   "source": [
    "Führen Sie zu Zweit die blinde Signatur durch. Protokollieren Sie das Vorgehen und zeigen Sie,\n",
    "wie der Signierer die Nachricht berechnen kann, welche er (blind) signiert!"
   ]
  },
  {
   "cell_type": "markdown",
   "metadata": {},
   "source": [
    "Bob:\n",
    "\n",
    "- $p = 3$\n",
    "- $q = 7$\n",
    "- $n = 3*7=21$\n",
    "- $e = 5$\n",
    "- $d = e^{-1} \\mod \\varphi(n) = 5^{-1} \\mod 12 = 5$\n",
    "\n",
    "Alice:\n",
    "\n",
    "- $k=13$\n",
    "- $M=10$\n",
    "- $t = M*k^e = 10*13^5 = 4 \\mod 21$\n",
    "\n",
    "Bob:\n",
    "\n",
    "- $u = t^d = 4^{5} = 16 \\mod 21$\n",
    "\n",
    "Alice:\n",
    "\n",
    "- $M^d = u*k^{-1} = 16 * 13^{-1} = 19 \\mod 21$"
   ]
  },
  {
   "cell_type": "code",
   "execution_count": null,
   "metadata": {},
   "outputs": [],
   "source": []
  }
 ],
 "metadata": {
  "kernelspec": {
   "display_name": "Python 3",
   "language": "python",
   "name": "python3"
  },
  "language_info": {
   "codemirror_mode": {
    "name": "ipython",
    "version": 3
   },
   "file_extension": ".py",
   "mimetype": "text/x-python",
   "name": "python",
   "nbconvert_exporter": "python",
   "pygments_lexer": "ipython3",
   "version": "3.6.7"
  }
 },
 "nbformat": 4,
 "nbformat_minor": 2
}
