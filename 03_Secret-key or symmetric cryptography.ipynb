{
 "cells": [
  {
   "cell_type": "markdown",
   "metadata": {},
   "source": [
    "# Secret-key or symmetric cryptography\n",
    "\n",
    "## 1 DES S-box $S_3$\n",
    "\n",
    "The input to the DES S-box $S_3$ is $110111$. What’s the output? Use Wikipedia, google, a book or some other source to find the table for $S_3$."
   ]
  },
  {
   "cell_type": "code",
   "execution_count": null,
   "metadata": {},
   "outputs": [],
   "source": []
  },
  {
   "cell_type": "markdown",
   "metadata": {},
   "source": [
    "## 2 3DES\n",
    "\n",
    "What is the effective key size of 3DES and why is it not 168 bits?"
   ]
  },
  {
   "cell_type": "code",
   "execution_count": null,
   "metadata": {},
   "outputs": [],
   "source": []
  },
  {
   "cell_type": "markdown",
   "metadata": {},
   "source": [
    "## 3 Differences between AES and Rijndeal\n",
    "\n",
    "What are the differences between the AES candidate Rijndeal and AES with respect to block size, key size and number of rounds?"
   ]
  },
  {
   "cell_type": "markdown",
   "metadata": {},
   "source": [
    "As described in \"[The Design of Rijandel](https://www.springer.com/us/book/9783540425809)\": \"The _only_ difference between Rijandel and the AES is the range of supported values for the block length and cipher key length\".\n",
    "\n",
    "Rijndael is a block cipher with both a variable block length and a variable key length. The block length and the key length can be independently specified to any multiple of 32 bits, with a minimum of 128 bits and a maximum of 256 bits. It would be possible to define versions of Rijndael with a higher block length or key length, but currently there seems no need for it.\n",
    "\n",
    "The AES fixes the block length to 128 bits, and supports key lengths of 128, 192 or 256 bits only. The extra block and key lengths in Rijndael were not evaluated in the AES selection process, and consequently they are not adopted in the current FIPS standard."
   ]
  },
  {
   "cell_type": "markdown",
   "metadata": {},
   "source": [
    "##  4 AES S-box\n",
    "\n",
    "If we input the byte $11011101$ into the AES S-box, what’s the output? Use the table in slides!"
   ]
  },
  {
   "cell_type": "code",
   "execution_count": null,
   "metadata": {},
   "outputs": [],
   "source": []
  },
  {
   "cell_type": "markdown",
   "metadata": {},
   "source": [
    "## 5 Other Block ciphers\n",
    "\n",
    "Compare DES, 3DES and AES with other block ciphers like IDEA, Blowfish, Twofisch, RC5, RC6, Serpent and three more of Your choice. Make a table that shows key size, effective key size, block size, number of rounds, relative velocity of a hard- or software implementation."
   ]
  },
  {
   "cell_type": "code",
   "execution_count": null,
   "metadata": {},
   "outputs": [],
   "source": []
  },
  {
   "cell_type": "markdown",
   "metadata": {},
   "source": [
    "## 6 Modes of operation\n",
    "\n",
    "You should be able to produce sketches of the 5 modes of operation and You should be able to write down the equations, relating, IVs (if any), plaintext block, key, ciphertext block, encryption and decryption, XOR.\n",
    "You should also understand the influence of a one-bit error in the ciphertext block."
   ]
  },
  {
   "cell_type": "code",
   "execution_count": null,
   "metadata": {},
   "outputs": [],
   "source": []
  },
  {
   "cell_type": "markdown",
   "metadata": {},
   "source": [
    "## 7 RC4\n",
    "\n",
    "Use python in Jupyter Notebook to programm RC4. Do some research on RC4 and find out, why it should not be used any more!\n",
    "Siehe auch [Webbrowser: Endgültig Schluss mit RC4](https://www.heise.de/security/meldung/Webbrowser-Endgueltig-Schluss-mit-RC4-2805770.html) und [Der Lange Abschied von RC4](https://www.golem.de/news/verschluesselung-der-lange-abschied-von-rc4-1507-114877.html)."
   ]
  },
  {
   "cell_type": "code",
   "execution_count": null,
   "metadata": {},
   "outputs": [],
   "source": []
  },
  {
   "cell_type": "markdown",
   "metadata": {},
   "source": [
    "## 8 Trivium\n",
    "\n",
    "Use python in Jupyter Notebook to programm Trivium. This is not an easy task: do it in groups of two!\n",
    "\n",
    "Use $0x00000000000000000000000000000000$ for the key, IV, and plaintext for initial testing.\n",
    "\n",
    "The expected ciphertext for this should be $0xFBE0BF265859051B517A2E4E239FC97F$.\n",
    "\n",
    "In the algorithm on slide “_Trivium — Initialization_”, the $+$ represents XOR (which in python is “^”), ·\n",
    "represents logical AND (which in python is “&”). The key-stream is\n",
    "\n",
    "$z_i = t_1 + t_2 + t_3$\n",
    "\n",
    "and the $i$th byte of the ciphertext $c_i$ of the plaintext $m_i$ is\n",
    "\n",
    "$c_i = z_i \\oplus m_i$\n",
    "\n",
    "The following [site](https://asecuritysite.com/encryption/trivium) might be of some help!"
   ]
  },
  {
   "cell_type": "code",
   "execution_count": null,
   "metadata": {},
   "outputs": [],
   "source": []
  },
  {
   "cell_type": "markdown",
   "metadata": {},
   "source": [
    "## 9 OTP\n",
    "\n",
    "Make your own example with one-time pad. Why is it perfectly secure? Make sure, the key is truly random not used more than once and kept secret from adversaries."
   ]
  },
  {
   "cell_type": "code",
   "execution_count": null,
   "metadata": {},
   "outputs": [],
   "source": []
  }
 ],
 "metadata": {
  "kernelspec": {
   "display_name": "Python 3",
   "language": "python",
   "name": "python3"
  },
  "language_info": {
   "codemirror_mode": {
    "name": "ipython",
    "version": 3
   },
   "file_extension": ".py",
   "mimetype": "text/x-python",
   "name": "python",
   "nbconvert_exporter": "python",
   "pygments_lexer": "ipython3",
   "version": "3.6.5"
  }
 },
 "nbformat": 4,
 "nbformat_minor": 2
}
