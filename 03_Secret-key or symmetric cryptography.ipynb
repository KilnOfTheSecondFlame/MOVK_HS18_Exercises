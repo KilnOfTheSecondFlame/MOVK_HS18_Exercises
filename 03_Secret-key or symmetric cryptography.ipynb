{
 "cells": [
  {
   "cell_type": "markdown",
   "metadata": {},
   "source": [
    "# Secret-key or symmetric cryptography\n",
    "\n",
    "## 1 DES S-box $S_3$\n",
    "\n",
    "The input to the DES S-box $S_3$ is $110111$. What’s the output? Use Wikipedia, google, a book or some other source to find the table for $S_3$."
   ]
  },
  {
   "cell_type": "markdown",
   "metadata": {},
   "source": [
    "Source: http://celan.informatik.uni-oldenburg.de/kryptos/info/des/sbox/\n",
    "![Des-Box3.png](img/Des-Box3.png)\n",
    "\n",
    "Output: 0011"
   ]
  },
  {
   "cell_type": "markdown",
   "metadata": {},
   "source": [
    "## 2 3DES\n",
    "\n",
    "What is the effective key size of 3DES and why is it not 168 bits?"
   ]
  },
  {
   "cell_type": "raw",
   "metadata": {},
   "source": [
    "it's 112 bits, not 168 due to meet-in-the-middle attack threat."
   ]
  },
  {
   "cell_type": "markdown",
   "metadata": {},
   "source": [
    "## 3 Differences between AES and Rijndeal\n",
    "\n",
    "What are the differences between the AES candidate Rijndeal and AES with respect to block size, key size and number of rounds?"
   ]
  },
  {
   "cell_type": "markdown",
   "metadata": {},
   "source": [
    "As described in \"[The Design of Rijandel](https://www.springer.com/us/book/9783540425809)\": \"The _only_ difference between Rijandel and the AES is the range of supported values for the block length and cipher key length\".\n",
    "\n",
    "Rijndael is a block cipher with both a variable block length and a variable key length. The block length and the key length can be independently specified to any multiple of 32 bits, with a minimum of 128 bits and a maximum of 256 bits. It would be possible to define versions of Rijndael with a higher block length or key length, but currently there seems no need for it.\n",
    "\n",
    "The AES fixes the block length to 128 bits, and supports key lengths of 128, 192 or 256 bits only. The extra block and key lengths in Rijndael were not evaluated in the AES selection process, and consequently they are not adopted in the current FIPS standard."
   ]
  },
  {
   "cell_type": "markdown",
   "metadata": {},
   "source": [
    "##  4 AES S-box\n",
    "\n",
    "If we input the byte $11011101$ into the AES S-box, what’s the output? Use the table in slides!"
   ]
  },
  {
   "cell_type": "markdown",
   "metadata": {},
   "source": [
    "$1101 -> D -> row$\n",
    "\n",
    "$1101 -> D -> column$\n",
    "\n",
    "$11011101 -> C1 -> 11000001$\n",
    "\n",
    "![AES-S-Box.png](img/AES-S-Box.png)"
   ]
  },
  {
   "cell_type": "markdown",
   "metadata": {},
   "source": [
    "## 5 Other Block ciphers\n",
    "\n",
    "Compare DES, 3DES and AES with other block ciphers like IDEA, Blowfish, Twofisch, RC5, RC6, Serpent and three more of Your choice. Make a table that shows key size, effective key size, block size, number of rounds, relative velocity of a hard- or software implementation."
   ]
  },
  {
   "cell_type": "markdown",
   "metadata": {},
   "source": [
    "- https://pdfs.semanticscholar.org/e684/4c748d38997bf0de71cd7d05e58b09e310f6.pdf\n",
    "- https://www.cse.wustl.edu/~jain/cse567-06/ftp/encryption_perf/\n",
    "- http://www.ijcseonline.org/pub_paper/IJCSE-00187.pdf\n",
    "\n",
    "|Ciphers|key size| effective keysize|block size| number of rounds| relative velocity|\n",
    "|:--- |:--- |:--- |:--- |:--- |:--- |\n",
    "|DES|56 bits||64bits|16|1|\n",
    "|3DES| 112 bits ||64bits|48|0.3-0.5|\n",
    "|AES|128,192 or 256||128, 192 or 256|10, 12 or 14|0.6|\n",
    "|IDEA|128 bits||64 bits|8.5\n",
    "|Blowfish|32-448 bits||64 bits|16|1.2-3|\n",
    "|Twofish|\n",
    "|RC5|\n",
    "|RC6|128,192 or 256||128 bits|20|"
   ]
  },
  {
   "cell_type": "markdown",
   "metadata": {},
   "source": [
    "## 6 Modes of operation\n",
    "\n",
    "You should be able to produce sketches of the 5 modes of operation and You should be able to write down the equations, relating, IVs (if any), plaintext block, key, ciphertext block, encryption and decryption, XOR.\n",
    "You should also understand the influence of a one-bit error in the ciphertext block."
   ]
  },
  {
   "cell_type": "markdown",
   "metadata": {},
   "source": [
    "| Modes of Operation | Long Name | Cipher Type |\n",
    "|:--- |:--- |:--- |\n",
    "| ECB | Electronic Code Book Mode | Block |\n",
    "| CBC | Chained Block Cipher Mode | Block |\n",
    "| CFB | Cipher FeedBack Mode | Stream |\n",
    "| OFB | Output FeedBack  Mode| Stream |\n",
    "| CTR | Counter Mode | Stream |"
   ]
  },
  {
   "cell_type": "markdown",
   "metadata": {},
   "source": [
    "### ECB\n",
    "\n",
    "![Electronic CodeBook Mode Diagram](img/ECB_Diagram.png)\n",
    "\n",
    "#### Encryption\n",
    "$c_k = E(k, m_k),\\ k=1,2,3,...$\n",
    "\n",
    "#### Decryption\n",
    "$m_k = D(k, c_k),\\ k=1,2,3,...$\n",
    "\n",
    "#### Error Propagation\n",
    "An error in the ciphertext produces garbage output but does not propagate."
   ]
  },
  {
   "cell_type": "markdown",
   "metadata": {},
   "source": [
    "### CBC\n",
    "\n",
    "![Chained Block Cipher ModeDiagram](img/CBC_Diagram.png)\n",
    "\n",
    "#### Encryption\n",
    "$c_0 = IV$<br/>\n",
    "$c_k = E(k,m_k\\oplus c_{k-1}),\\ k = 1,2,3,...$\n",
    "\n",
    "#### Decryption\n",
    "$c_0 = IV$<br/>\n",
    "$m_k = D(k, c_k)\\oplus c_{k-1},\\ k = 1,2,3,...$\n",
    "\n",
    "#### Error Propagation\n",
    "An error in the ciphertext $c_k$ affects all bits of the corresponding plaintext $m_k$ and the one bit of $m_{k+1}$ with which the erroneous bit in $c_k$ is XOR-ed"
   ]
  },
  {
   "cell_type": "markdown",
   "metadata": {},
   "source": [
    "### CFB\n",
    "\n",
    "![Cipher FeedBack Mode Diagram](img/CFB_Diagram.png)\n",
    "\n",
    "#### Encryption\n",
    "$c_0 = IV$<br/>\n",
    "$c_i = m_i \\oplus E(k, c_{i-1},\\ i=1,2,3...$\n",
    "\n",
    "#### Decryption\n",
    "$c_0 = IV$<br/>\n",
    "$m_i = c_i \\oplus E(k, c_{i-1},\\ i=1,2,3...$\n",
    "\n",
    "#### Error Propagation\n",
    "An error in the cipher block $c_k$ produces one error in the plaintext block $m_k$ at the bit position where the error has occured (as it is XOR-ed), and produces garbage in the next plaintext block $m_{k+1}$ as $E(k,c_{k_{faulty}})$ should produce a completely different output than $E(k, c_k)$, and therefore $c_{k+1}\\oplus E(k,c_{k_{faulty}})$ should be complete gibberish."
   ]
  },
  {
   "cell_type": "markdown",
   "metadata": {},
   "source": [
    "### OFB\n",
    "\n",
    "![Output FeedBack Mode Diagram](img/OFB_Diagram.png)\n",
    "\n",
    "#### Encryption\n",
    "$z_0 = IV$<br/>\n",
    "$z_i = E_k(z_{i-1}),\\ i=1,2,3,...$<br/>\n",
    "$c_i = m_i\\oplus z_i,\\ i=1,2,3,...$\n",
    "\n",
    "#### Decryption\n",
    "$z_0 = IV$<br/>\n",
    "$z_i = E_k(z_{i-1}),\\ i=1,2,3,...$<br/>\n",
    "$m_i = c_i\\oplus z_i,\\ i=1,2,3,...$\n",
    "\n",
    "#### Error Propagation\n",
    "An error in cipher bit $c_i$ leads to an erroneous bit $m_i$ but does not propagate."
   ]
  },
  {
   "cell_type": "markdown",
   "metadata": {},
   "source": [
    "### CTR\n",
    "\n",
    "![Counter Mode Diagram](img/CTR_Diagram.png)\n",
    "\n",
    "#### Encryption\n",
    "$z_0 = IV$<br/>\n",
    "$z_i = IV\\oplus i,\\ i=1,2,3,...$<br/>\n",
    "$y_i = x_i\\oplus E_k(z_i),\\ i=1,2,3,...$\n",
    "\n",
    "#### Decryption\n",
    "$z_0 = IV$<br/>\n",
    "$z_i = IV\\oplus i,\\ i=1,2,3,...$<br/>\n",
    "$y_i = x_i\\oplus E_k(z_i),\\ i=1,2,3,...$\n",
    "\n",
    "#### Note on the IV\n",
    "The IV should be a nonce, but same nonce can be used throughout the session. It's main goal is to offset the counter startpoint, so that using the same key and first message does not generate the same ciphertext (think of handshakes/authentication).\n",
    "\n",
    "#### Error Propagation\n",
    "An error in $y_0$ generates one error in the decrypted $x_0$, but does not propagate."
   ]
  },
  {
   "cell_type": "markdown",
   "metadata": {},
   "source": [
    "## 7 RC4\n",
    "\n",
    "Use python in Jupyter Notebook to programm RC4. Do some research on RC4 and find out, why it should not be used any more!\n",
    "Siehe auch [Webbrowser: Endgültig Schluss mit RC4](https://www.heise.de/security/meldung/Webbrowser-Endgueltig-Schluss-mit-RC4-2805770.html) und [Der Lange Abschied von RC4](https://www.golem.de/news/verschluesselung-der-lange-abschied-von-rc4-1507-114877.html)."
   ]
  },
  {
   "cell_type": "code",
   "execution_count": 12,
   "metadata": {},
   "outputs": [],
   "source": [
    "def KSA(key):\n",
    "    keylength = len(key)\n",
    "    S = list(range(256))\n",
    "    j = 0\n",
    "    \n",
    "    for i in range(256):\n",
    "        j = (j + S[i] + key[i % keylength]) % 256\n",
    "        S[i], S[j] = S[j], S[i]\n",
    "    return S\n",
    "\n",
    "def PRGA(S):\n",
    "    i = 0\n",
    "    j = 0\n",
    "    \n",
    "    while True:\n",
    "        i = (i + 1) % 256\n",
    "        j = (j + S[i]) % 256\n",
    "        S[i], S[j] = S[j], S[i]\n",
    "        yield S[(S[i] + S[j]) % 256]\n",
    "\n",
    "def RC4(key):\n",
    "    S = KSA(key)\n",
    "    return PRGA(S)\n",
    "\n",
    "def convert_key(s):\n",
    "    return [ord(c) for c in s]"
   ]
  },
  {
   "cell_type": "code",
   "execution_count": 13,
   "metadata": {},
   "outputs": [
    {
     "name": "stdout",
     "output_type": "stream",
     "text": [
      "BBF316E8D940AF0AD3"
     ]
    }
   ],
   "source": [
    "key = \"Key\"\n",
    "plaintext = \"Plaintext\"\n",
    "# ciphertext should be BBF316E8D940AF0AD3\n",
    "\n",
    "key = convert_key(key)\n",
    "keystream = RC4(key)\n",
    "\n",
    "import sys\n",
    "\n",
    "for c in plaintext:\n",
    "    sys.stdout.write(\"%02X\" % (ord(c) ^ next(keystream)))"
   ]
  },
  {
   "cell_type": "markdown",
   "metadata": {},
   "source": [
    "Vulnerabilities:\n",
    "\n",
    "- Pseudo Random Number Generator PRNG has higher probabilities for some numbers to appear.<br/>\n",
    "    This lets an attacker analyse some input/output-pairs and find out the key\n",
    "- No nonce as input therefore it needs a new key for each stream.<br/>\n",
    "    Since most applications just concatenate the nonce and the key, this is a problem because \"over all possible RC4 keys, the statistics for the first few bytes of output keystream are strongly non-random, leaking information about the key.\""
   ]
  },
  {
   "cell_type": "markdown",
   "metadata": {},
   "source": [
    "## 8 Trivium\n",
    "\n",
    "Use python in Jupyter Notebook to programm Trivium. This is not an easy task: do it in groups of two!\n",
    "\n",
    "Use $0x00000000000000000000000000000000$ for the key, IV, and plaintext for initial testing.\n",
    "\n",
    "The expected ciphertext for this should be $0xFBE0BF265859051B517A2E4E239FC97F$.\n",
    "\n",
    "In the algorithm on slide “_Trivium — Initialization_”, the $+$ represents XOR (which in python is “^”), ·\n",
    "represents logical AND (which in python is “&”). The key-stream is\n",
    "\n",
    "$z_i = t_1 + t_2 + t_3$\n",
    "\n",
    "and the $i$th byte of the ciphertext $c_i$ of the plaintext $m_i$ is\n",
    "\n",
    "$c_i = z_i \\oplus m_i$\n",
    "\n",
    "The following [site](https://asecuritysite.com/encryption/trivium) might be of some help!"
   ]
  },
  {
   "cell_type": "code",
   "execution_count": 1,
   "metadata": {},
   "outputs": [
    {
     "name": "stdout",
     "output_type": "stream",
     "text": [
      "Key: 0F62B5085BAE0154A7FA\n",
      "IV:  288FF65DC42B92F960C7\n",
      "Stream: A4386C6D7624983FEA8DBE7314E5FE1F\n"
     ]
    }
   ],
   "source": [
    "from collections import deque\n",
    "from itertools import repeat\n",
    "from sys import version_info\n",
    "\n",
    "\n",
    "class Trivium:\n",
    "    def __init__(self, key, iv):\n",
    "        \"\"\"in the beginning we need to transform the key as well as the IV.\n",
    "        Afterwards we initialize the state.\"\"\"\n",
    "        self.state = None\n",
    "        self.counter = 0\n",
    "        self.key = key  # self._setLength(key)\n",
    "        self.iv = iv  # self._setLength(iv)\n",
    "\n",
    "        # Initialize state\n",
    "        # len 93\n",
    "        init_list = list(map(int, list(self.key)))\n",
    "        init_list += list(repeat(0, 13))\n",
    "        # len 84\n",
    "        init_list += list(map(int, list(self.iv)))\n",
    "        init_list += list(repeat(0, 4))\n",
    "        # len 111\n",
    "        init_list += list(repeat(0, 108))\n",
    "        init_list += list([1, 1, 1])\n",
    "        self.state = deque(init_list)\n",
    "\n",
    "        # Do 4 full cycles, drop output\n",
    "        for i in range(4*288):\n",
    "            self._gen_keystream()\n",
    "\n",
    "    def encrypt(self, message):\n",
    "        \"\"\"To be implemented\"\"\"\n",
    "        pass\n",
    "\n",
    "    def decrypt(self, cipher):\n",
    "        \"\"\"To be implemented\"\"\"\n",
    "        #maybe with code from here https://github.com/mortasoft/Trivium/blob/master/trivium.py\n",
    "        # Line 119\n",
    "        pass\n",
    "\n",
    "    def keystream(self):\n",
    "        \"\"\"output keystream\n",
    "        only use this when you know what you are doing!!\"\"\"\n",
    "        while self.counter < 2**64:\n",
    "            self.counter += 1\n",
    "            yield self._gen_keystream()\n",
    "\n",
    "    def _setLength(self, input_data):\n",
    "        \"\"\"we cut off after 80 bits, alternatively we pad these with zeros.\"\"\"\n",
    "        input_data = \"{0:080b}\".format(input_data)\n",
    "        if len(input_data) > 80:\n",
    "            input_data = input_data[:(len(input_data)-81):-1]\n",
    "        else:\n",
    "            input_data = input_data[::-1]\n",
    "        return input_data\n",
    "\n",
    "    def _gen_keystream(self):\n",
    "        \"\"\"this method generates triviums keystream\"\"\"\n",
    "        \n",
    "        t_1 = self.state[65] ^ self.state[92]\n",
    "        t_2 = self.state[161] ^ self.state[176]\n",
    "        t_3 = self.state[242] ^ self.state[287]\n",
    "\n",
    "        out = t_1 ^ t_2 ^ t_3\n",
    "\n",
    "        u_1 = t_1 ^ self.state[90]  & self.state[91]  ^ self.state[170]\n",
    "        u_2 = t_2 ^ self.state[174] & self.state[175] ^ self.state[263]\n",
    "        u_3 = t_3 ^ self.state[285] & self.state[286] ^ self.state[68]\n",
    "\n",
    "        self.state.rotate(1)\n",
    "\n",
    "        self.state[0] = u_3\n",
    "        self.state[93] = u_1\n",
    "        self.state[177] = u_2\n",
    "\n",
    "        return out\n",
    "import sys\n",
    "\n",
    "k1=\"0F62B5085BAE0154A7FA\"\n",
    "i1=\"288FF65DC42B92F960C7\"\n",
    "\n",
    "print (\"Key: \"+k1)\n",
    "print (\"IV:  \"+i1)\n",
    "def main():\n",
    "    KEY = hex_to_bits(k1)[::-1]\n",
    "    IV = hex_to_bits(i1)[::-1]\n",
    "    trivium = Trivium(KEY, IV)\n",
    "\n",
    "\n",
    "    next_key_bit = trivium.keystream().__next__\n",
    "\n",
    "    for i in range(1):\n",
    "        keystream = []\n",
    "        for j in range(128):\n",
    "            keystream.append(next_key_bit())\n",
    "        print (\"Stream: \"+bits_to_hex(keystream))\n",
    "\n",
    "# Convert strings of hex to strings of bytes and back, little-endian style\n",
    "_allbytes = dict([(\"%02X\" % i, i) for i in range(256)])\n",
    "\n",
    "\n",
    "def _hex_to_bytes(s):\n",
    "    return [_allbytes[s[i:i+2].upper()] for i in range(0, len(s), 2)]\n",
    "\n",
    "\n",
    "def hex_to_bits(s):\n",
    "    return [(b >> i) & 1 for b in _hex_to_bytes(s)\n",
    "            for i in range(8)]\n",
    "\n",
    "\n",
    "def bits_to_hex(b):\n",
    "    return \"\".join([\"%02X\" % sum([b[i + j] << j for j in range(8)])\n",
    "                    for i in range(0, len(b), 8)])\n",
    "\n",
    "\n",
    "if __name__ == \"__main__\":\n",
    "    main()\n"
   ]
  },
  {
   "cell_type": "markdown",
   "metadata": {},
   "source": [
    "## 9 OTP\n",
    "\n",
    "Make your own example with one-time pad. Why is it perfectly secure? Make sure, the key is truly random not used more than once and kept secret from adversaries."
   ]
  },
  {
   "cell_type": "markdown",
   "metadata": {},
   "source": [
    "$m = 0110100001100101011011000110110001101111001000000111011101101111011100100110110001100100$<br />\n",
    "$k = 0110110111011101100100110001101100000001010001110010110111101010101110010001101100011100$"
   ]
  },
  {
   "cell_type": "code",
   "execution_count": 18,
   "metadata": {},
   "outputs": [
    {
     "name": "stdout",
     "output_type": "stream",
     "text": [
      "m: 0110100001100101011011000110110001101111001000000111011101101111011100100110110001100100\n",
      "k: 0110110111011101100100110001101100000001010001110010110111101010101110010001101100011100\n",
      "c: 0000010110111000111111110111011101101110011001110101101010000101110010110111011101111000\n",
      "d: 0110100001100101011011000110110001101111001000000111011101101111011100100110110001100100\n",
      "m: 0110100001100101011011000110110001101111001000000111011101101111011100100110110001100100\n"
     ]
    }
   ],
   "source": [
    "m = '0110100001100101011011000110110001101111001000000111011101101111011100100110110001100100'\n",
    "k = '0110110111011101100100110001101100000001010001110010110111101010101110010001101100011100'\n",
    "\n",
    "c = int(m,2)^int(k,2)\n",
    "\n",
    "print('m: ' + m)\n",
    "print('k: ' + k)\n",
    "print('c: ' + bin(c)[2:].zfill(len(m)))\n",
    "print('d: ' + bin(c^int(k,2))[2:].zfill(len(m)))\n",
    "print('m: ' + m)"
   ]
  }
 ],
 "metadata": {
  "kernelspec": {
   "display_name": "Python 3",
   "language": "python",
   "name": "python3"
  },
  "language_info": {
   "codemirror_mode": {
    "name": "ipython",
    "version": 3
   },
   "file_extension": ".py",
   "mimetype": "text/x-python",
   "name": "python",
   "nbconvert_exporter": "python",
   "pygments_lexer": "ipython3",
   "version": "3.6.6"
  }
 },
 "nbformat": 4,
 "nbformat_minor": 2
}
