{
 "cells": [
  {
   "cell_type": "markdown",
   "metadata": {},
   "source": [
    "# Secret-key or symmetric cryptography\n",
    "\n",
    "## 1 DES S-box $S_3$\n",
    "\n",
    "The input to the DES S-box $S_3$ is $110111$. What’s the output? Use Wikipedia, google, a book or some other source to find the table for $S_3$."
   ]
  },
  {
   "cell_type": "code",
   "execution_count": null,
   "metadata": {},
   "outputs": [],
   "source": []
  },
  {
   "cell_type": "markdown",
   "metadata": {},
   "source": [
    "## 2 3DES\n",
    "\n",
    "What is the effective key size of 3DES and why is it not 168 bits?"
   ]
  },
  {
   "cell_type": "code",
   "execution_count": null,
   "metadata": {},
   "outputs": [],
   "source": []
  },
  {
   "cell_type": "markdown",
   "metadata": {},
   "source": [
    "## 3 Differences between AES and Rijndeal\n",
    "\n",
    "What are the differences between the AES candidate Rijndeal and AES with respect to block size, key size and number of rounds?"
   ]
  },
  {
   "cell_type": "markdown",
   "metadata": {},
   "source": [
    "As described in \"[The Design of Rijandel](https://www.springer.com/us/book/9783540425809)\": \"The _only_ difference between Rijandel and the AES is the range of supported values for the block length and cipher key length\".\n",
    "\n",
    "Rijndael is a block cipher with both a variable block length and a variable key length. The block length and the key length can be independently specified to any multiple of 32 bits, with a minimum of 128 bits and a maximum of 256 bits. It would be possible to define versions of Rijndael with a higher block length or key length, but currently there seems no need for it.\n",
    "\n",
    "The AES fixes the block length to 128 bits, and supports key lengths of 128, 192 or 256 bits only. The extra block and key lengths in Rijndael were not evaluated in the AES selection process, and consequently they are not adopted in the current FIPS standard."
   ]
  },
  {
   "cell_type": "markdown",
   "metadata": {},
   "source": [
    "##  4 AES S-box\n",
    "\n",
    "If we input the byte $11011101$ into the AES S-box, what’s the output? Use the table in slides!"
   ]
  },
  {
   "cell_type": "code",
   "execution_count": null,
   "metadata": {},
   "outputs": [],
   "source": []
  },
  {
   "cell_type": "markdown",
   "metadata": {},
   "source": [
    "## 5 Other Block ciphers\n",
    "\n",
    "Compare DES, 3DES and AES with other block ciphers like IDEA, Blowfish, Twofisch, RC5, RC6, Serpent and three more of Your choice. Make a table that shows key size, effective key size, block size, number of rounds, relative velocity of a hard- or software implementation."
   ]
  },
  {
   "cell_type": "code",
   "execution_count": null,
   "metadata": {},
   "outputs": [],
   "source": []
  },
  {
   "cell_type": "markdown",
   "metadata": {},
   "source": [
    "## 6 Modes of operation\n",
    "\n",
    "You should be able to produce sketches of the 5 modes of operation and You should be able to write down the equations, relating, IVs (if any), plaintext block, key, ciphertext block, encryption and decryption, XOR.\n",
    "You should also understand the influence of a one-bit error in the ciphertext block."
   ]
  },
  {
   "cell_type": "markdown",
   "metadata": {},
   "source": [
    "| Modes of Operation | Long Name | Cipher Type |\n",
    "|:--- |:--- |:--- |\n",
    "| ECB | Electronic Code Book Mode | Block |\n",
    "| CBC | Chained Block Cipher Mode | Block |\n",
    "| CFB | Cipher FeedBack Mode | Stream |\n",
    "| OFB | Output FeedBack  Mode| Stream |\n",
    "| CTR | Counter Mode | Stream |"
   ]
  },
  {
   "cell_type": "markdown",
   "metadata": {},
   "source": [
    "### ECB\n",
    "\n",
    "![Electronic CodeBook Mode Diagram](img/ECB_Diagram.png)\n",
    "\n",
    "#### Encryption\n",
    "$c_k = E(k, m_k),\\ k=1,2,3,...$\n",
    "\n",
    "#### Decryption\n",
    "$m_k = D(k, c_k),\\ k=1,2,3,...$\n",
    "\n",
    "#### Error Propagation\n",
    "An error in the ciphertext produces garbage output but does not propagate."
   ]
  },
  {
   "cell_type": "markdown",
   "metadata": {},
   "source": [
    "### CBC\n",
    "\n",
    "![Chained Block Cipher ModeDiagram](img/CBC_Diagram.png)\n",
    "\n",
    "#### Encryption\n",
    "$c_0 = IV$<br/>\n",
    "$c_k = E(k,m_k\\oplus c_{k-1}),\\ k = 1,2,3,...$\n",
    "\n",
    "#### Decryption\n",
    "$c_0 = IV$<br/>\n",
    "$m_k = D(k, c_k)\\oplus c_{k-1},\\ k = 1,2,3,...$\n",
    "\n",
    "#### Error Propagation\n",
    "An error in the ciphertext $c_k$ affects all bits of the corresponding plaintext $m_k$ and the one bit of $m_{k+1}$ with which the erroneous bit in $c_k$ is XOR-ed"
   ]
  },
  {
   "cell_type": "markdown",
   "metadata": {},
   "source": [
    "### CFB\n",
    "\n",
    "![Cipher FeedBack Mode Diagram](img/CFB_Diagram.png)\n",
    "\n",
    "#### Encryption\n",
    "$c_0 = IV$<br/>\n",
    "$c_i = m_i \\oplus E(k, c_{i-1},\\ i=1,2,3...$\n",
    "\n",
    "#### Decryption\n",
    "$c_0 = IV$<br/>\n",
    "$m_i = c_i \\oplus E(k, c_{i-1},\\ i=1,2,3...$\n",
    "\n",
    "#### Error Propagation\n",
    "An error in the cipher block $c_k$ produces one error in the plaintext block $m_k$ at the bit position where the error has occured (as it is XOR-ed), and produces garbage in the next plaintext block $m_{k+1}$ as $E(k,c_{k_{faulty}})$ should produce a completely different output than $E(k, c_k)$, and therefore $c_{k+1}\\oplus E(k,c_{k_{faulty}})$ should be complete gibberish."
   ]
  },
  {
   "cell_type": "markdown",
   "metadata": {},
   "source": [
    "### OFB\n",
    "\n",
    "![Output FeedBack Mode Diagram](img/OFB_Diagram.png)\n",
    "\n",
    "#### Encryption\n",
    "$z_0 = IV$<br/>\n",
    "$z_i = E_k(z_{i-1}),\\ i=1,2,3,...$<br/>\n",
    "$c_i = m_i\\oplus z_i,\\ i=1,2,3,...$\n",
    "\n",
    "#### Decryption\n",
    "$z_0 = IV$<br/>\n",
    "$z_i = E_k(z_{i-1}),\\ i=1,2,3,...$<br/>\n",
    "$m_i = c_i\\oplus z_i,\\ i=1,2,3,...$\n",
    "\n",
    "#### Error Propagation\n",
    "An error in cipher bit $c_i$ leads to an erroneous bit $m_i$ but does not propagate."
   ]
  },
  {
   "cell_type": "markdown",
   "metadata": {},
   "source": [
    "### CTR\n",
    "\n",
    "![Counter Mode Diagram](img/CTR_Diagram.png)\n",
    "\n",
    "#### Encryption\n",
    "$z_0 = IV$<br/>\n",
    "$z_i = IV\\oplus i,\\ i=1,2,3,...$<br/>\n",
    "$y_i = x_i\\oplus E_k(z_i),\\ i=1,2,3,...$\n",
    "\n",
    "#### Decryption\n",
    "$z_0 = IV$<br/>\n",
    "$z_i = IV\\oplus i,\\ i=1,2,3,...$<br/>\n",
    "$y_i = x_i\\oplus E_k(z_i),\\ i=1,2,3,...$\n",
    "\n",
    "#### Error Propagation\n",
    "The IV should be a nonce, but same nonce can be used throughout the same session. It's main goal is to offset the counter startpoint, so that using the same key and plaintext does An error in $y_0$ generates one error in the decrypted $x_0$, but does not propagate."
   ]
  },
  {
   "cell_type": "markdown",
   "metadata": {},
   "source": [
    "## 7 RC4\n",
    "\n",
    "Use python in Jupyter Notebook to programm RC4. Do some research on RC4 and find out, why it should not be used any more!\n",
    "Siehe auch [Webbrowser: Endgültig Schluss mit RC4](https://www.heise.de/security/meldung/Webbrowser-Endgueltig-Schluss-mit-RC4-2805770.html) und [Der Lange Abschied von RC4](https://www.golem.de/news/verschluesselung-der-lange-abschied-von-rc4-1507-114877.html)."
   ]
  },
  {
   "cell_type": "code",
   "execution_count": null,
   "metadata": {},
   "outputs": [],
   "source": []
  },
  {
   "cell_type": "markdown",
   "metadata": {},
   "source": [
    "## 8 Trivium\n",
    "\n",
    "Use python in Jupyter Notebook to programm Trivium. This is not an easy task: do it in groups of two!\n",
    "\n",
    "Use $0x00000000000000000000000000000000$ for the key, IV, and plaintext for initial testing.\n",
    "\n",
    "The expected ciphertext for this should be $0xFBE0BF265859051B517A2E4E239FC97F$.\n",
    "\n",
    "In the algorithm on slide “_Trivium — Initialization_”, the $+$ represents XOR (which in python is “^”), ·\n",
    "represents logical AND (which in python is “&”). The key-stream is\n",
    "\n",
    "$z_i = t_1 + t_2 + t_3$\n",
    "\n",
    "and the $i$th byte of the ciphertext $c_i$ of the plaintext $m_i$ is\n",
    "\n",
    "$c_i = z_i \\oplus m_i$\n",
    "\n",
    "The following [site](https://asecuritysite.com/encryption/trivium) might be of some help!"
   ]
  },
  {
   "cell_type": "code",
   "execution_count": null,
   "metadata": {},
   "outputs": [],
   "source": []
  },
  {
   "cell_type": "markdown",
   "metadata": {},
   "source": [
    "## 9 OTP\n",
    "\n",
    "Make your own example with one-time pad. Why is it perfectly secure? Make sure, the key is truly random not used more than once and kept secret from adversaries."
   ]
  },
  {
   "cell_type": "code",
   "execution_count": null,
   "metadata": {},
   "outputs": [],
   "source": []
  }
 ],
 "metadata": {
  "kernelspec": {
   "display_name": "Python 3",
   "language": "python",
   "name": "python3"
  },
  "language_info": {
   "codemirror_mode": {
    "name": "ipython",
    "version": 3
   },
   "file_extension": ".py",
   "mimetype": "text/x-python",
   "name": "python",
   "nbconvert_exporter": "python",
   "pygments_lexer": "ipython3",
   "version": "3.6.5"
  }
 },
 "nbformat": 4,
 "nbformat_minor": 2
}
