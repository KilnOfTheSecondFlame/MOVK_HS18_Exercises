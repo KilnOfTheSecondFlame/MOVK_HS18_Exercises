{
 "cells": [
  {
   "cell_type": "markdown",
   "metadata": {},
   "source": [
    "## Aufgabe 1: Dining-Cryptographers"
   ]
  },
  {
   "cell_type": "markdown",
   "metadata": {},
   "source": [
    "Ziehen Sie das Protokoll Dining-Cryptographers im Falle einer Dreiergruppe einige Male durch,\n",
    "indem sie das Protokoll mit einem Schiedsrichter überprüfen: es sollen also vier Leute in einer\n",
    "Gruppe arbeiten! Aufgabe: erstellen Sie ein kurzes Protokoll!"
   ]
  },
  {
   "cell_type": "markdown",
   "metadata": {},
   "source": []
  },
  {
   "cell_type": "markdown",
   "metadata": {},
   "source": [
    "## Aufgabe 2: Anonymes Senden"
   ]
  },
  {
   "cell_type": "markdown",
   "metadata": {},
   "source": [
    "Überlegen sie sich ein Beispiel für den zweiten Paragraphen in Abschnitt 6.1! Aufgabe: erstellen\n",
    "Sie ein kurzes Protokoll (es soll ein von Ihnen durchgeführtes Experiment beschreiben)!"
   ]
  },
  {
   "attachments": {},
   "cell_type": "markdown",
   "metadata": {},
   "source": [
    "![AnonymesSenden.png](img\\AnonymesSenden.png)"
   ]
  },
  {
   "cell_type": "markdown",
   "metadata": {},
   "source": [
    "$k_{AB}=0001$\n",
    "\n",
    "$k_{BC}=0010$\n",
    "\n",
    "$k_{CD}=0011$\n",
    "\n",
    "$k_{AD}=0100$\n",
    "\n",
    "$M = 1101$\n",
    "\n",
    "Alice: $k_{AB} + k_{AD} + M = 1000 = k_A$\n",
    "\n",
    "Bob: $k_{AB} + k_{BC} = 0011 = k_B$\n",
    "\n",
    "Cyril: $k_{BC} + k_{CD} = 0001 = k_C$\n",
    "\n",
    "David: $k_{CD} + k_{AD} = 0111 = k_D$\n",
    "\n",
    "$k_A + k_B + k_C + k_D = 1101 = M$"
   ]
  },
  {
   "cell_type": "markdown",
   "metadata": {},
   "source": [
    "## Aufgabe 3: MIXe"
   ]
  },
  {
   "cell_type": "markdown",
   "metadata": {},
   "source": [
    "Spielen das anonyme Versenden von Nachrichten wie in Abschnitt 6.2 beschrieben anhand\n",
    "einfacher Zahlenbeispiele durch. Aufgabe: erstellen Sie ein kurzes Protokoll (es soll ein von\n",
    "Ihnen durchgeführtes Experiment beschreiben)!"
   ]
  },
  {
   "cell_type": "markdown",
   "metadata": {},
   "source": []
  },
  {
   "cell_type": "markdown",
   "metadata": {},
   "source": [
    "## Aufgabe 4: Anonymität"
   ]
  },
  {
   "cell_type": "markdown",
   "metadata": {},
   "source": [
    "Was ist «traffic analysis»? Welche Art von Anonymität, die Sie gelernt haben, kann eine Lösung\n",
    "dagegen anbieten? Begründen Sie bitte Ihre Antwort."
   ]
  },
  {
   "cell_type": "markdown",
   "metadata": {},
   "source": []
  },
  {
   "cell_type": "markdown",
   "metadata": {},
   "source": [
    "## Aufgabe 5: Secret Splitting / Geteiltes Geheimnis"
   ]
  },
  {
   "cell_type": "markdown",
   "metadata": {},
   "source": [
    "Verteilen Sie das Geheimnis 01011001 auf drei Leute! Protokollieren Sie das Vorgehen und zeigen\n",
    "Sie, wie man das Geheimnis rekonstruiert."
   ]
  },
  {
   "cell_type": "markdown",
   "metadata": {},
   "source": [
    "$M = 01011001$\n",
    "\n",
    "Alice: $11001100 = A$\n",
    "\n",
    "Bob: $10101010 = B$\n",
    "\n",
    "Cyril: $A + B + M = 00111111 = C$\n",
    "\n",
    "$M = A + B + C = 01011001$"
   ]
  },
  {
   "cell_type": "markdown",
   "metadata": {},
   "source": [
    "## Aufgabe 6: Secret Sharing Schema: Wie hoch ist das Durchschnittsgehalt? (OPTIONAL)"
   ]
  },
  {
   "cell_type": "markdown",
   "metadata": {},
   "source": [
    "Alice, Bob und Carol wollen jedoch nicht verraten, wie viel Geld sie verdienen. Sie möchten\n",
    "jedoch den Durchschnitt ihrer Gehälter berechnen, um mit Hilfe dieses Wertes zu ersehen, ob sie\n",
    "mit ihrem Gehalt zufrieden sind oder ob sie bei der nächsten Gehaltserhöhung kräftig zulangen\n",
    "sollten. Zunächst gehen sie mit einem kryptographischen Protokoll vor. Alice startet. Sie wählt\n",
    "eine Zufallszahl $r$ und addiert ihr Gehalt $a$ dazu. Diesen Wert schickt sie an Bob weiter. Er erhöht\n",
    "diesen Wert um sein Gehalt $b$. Dann fügt Carol Ihr Gehalt $c$ dem vertraulichen Wert $r + a + b$\n",
    "hinzu und gibt ihn an Alice zurück.\n",
    "1. Wie berechnet nun Alice den Durchschnitt ihrer Gehälter?\n",
    "2. Kann eine/r der drei Teilnehmenden das Gehalt einer/s anderen bestimmen? Begründen\n",
    "Sie bitte Ihre Antwort?\n",
    "3. Welche Werte kennt Bob?"
   ]
  },
  {
   "cell_type": "markdown",
   "metadata": {},
   "source": []
  },
  {
   "cell_type": "markdown",
   "metadata": {},
   "source": [
    "## Aufgabe 7: Threshold-Verfahren (OPTIONAL)"
   ]
  },
  {
   "cell_type": "markdown",
   "metadata": {},
   "source": [
    "Alice teilt ein Geheimnis $S$ mit einem Polynom des 2. Grades mit. Die Zahl $S$ ist die y-Achsenabschnitt\n",
    "(0, S), die das Geheimnis darstellt. Als Teilgeheimnisse sind drei verschiedene Punkte $(3, 2), (4, 1),\n",
    "(5, 2)$ bekannt. Wie rekonstruieren Sie das Geheimnis?"
   ]
  },
  {
   "cell_type": "markdown",
   "metadata": {},
   "source": []
  },
  {
   "cell_type": "markdown",
   "metadata": {},
   "source": [
    "## Aufgabe 8: Blinde Signatur"
   ]
  },
  {
   "cell_type": "markdown",
   "metadata": {},
   "source": [
    "Führen Sie zu Zweit die blinde Signatur durch. Protokollieren Sie das Vorgehen und zeigen Sie,\n",
    "wie der Signierer die Nachricht berechnen kann, welche er (blind) signiert!"
   ]
  },
  {
   "cell_type": "markdown",
   "metadata": {},
   "source": [
    "$n = 17$\n",
    "\n",
    "$e = 3$\n",
    "\n",
    "Alice:\n",
    "\n",
    "- $k=12$\n",
    "- $M=10$\n",
    "- $t = 10 * 12^3 = 8 \\mod 17$\n",
    "\n",
    "Bob:\n",
    "\n",
    "- $d = 13$\n",
    "- $u = 8^{13} = 9 \\mod 17$\n",
    "\n",
    "Alice:\n",
    "\n",
    "- $M^d = 9 * 12^{-1} = 9 * 10 = 5 \\mod 17$"
   ]
  },
  {
   "cell_type": "code",
   "execution_count": null,
   "metadata": {},
   "outputs": [],
   "source": []
  }
 ],
 "metadata": {
  "kernelspec": {
   "display_name": "Python 3",
   "language": "python",
   "name": "python3"
  },
  "language_info": {
   "codemirror_mode": {
    "name": "ipython",
    "version": 3
   },
   "file_extension": ".py",
   "mimetype": "text/x-python",
   "name": "python",
   "nbconvert_exporter": "python",
   "pygments_lexer": "ipython3",
   "version": "3.6.7"
  }
 },
 "nbformat": 4,
 "nbformat_minor": 2
}
