{
 "cells": [
  {
   "cell_type": "markdown",
   "metadata": {},
   "source": [
    "# Homomorphe Verschlüsselung\n",
    "\n",
    "## Aufgabe 1: Homomorphe Verschlüsselung\n",
    "\n",
    "1. Welches der drei Verschlüsselungsverfahren (RSA, EL-GAMAL, Paillier) ist eher geeignet für die Verwendung in homomorpher Verschlüsselung? Begründen bitte Ihre Antwort."
   ]
  },
  {
   "cell_type": "markdown",
   "metadata": {},
   "source": []
  },
  {
   "cell_type": "markdown",
   "metadata": {},
   "source": [
    "2. Geben Sie ein Beispiel, in welchem Bereich das Paillier-Verfahren eingesetzt werden könnte? Begründen Sie Ihre Antwort"
   ]
  },
  {
   "cell_type": "markdown",
   "metadata": {},
   "source": []
  },
  {
   "cell_type": "markdown",
   "metadata": {},
   "source": [
    "## Aufgabe 2: Homomorphie-Eigenschaft von EL-GAMAL\n",
    "Berechnen Sie bitte jeden Schritt im unteren Teil des Beispiels. Die Berechnung\n",
    "für den oberen Teil finden Sie auf den Folien SW10.\n",
    "\n",
    "![El Gamal Diagramm](img/ElGamal_Diagram.png)"
   ]
  },
  {
   "cell_type": "markdown",
   "metadata": {},
   "source": [
    "$q = 23$, $g = 7$, private key $x = 5$, public key $y=g^x=7^5=17 \\mod 23$,\n",
    "\n",
    "$pk=(q,g,y)=(23,7,17)$"
   ]
  },
  {
   "cell_type": "code",
   "execution_count": 11,
   "metadata": {},
   "outputs": [],
   "source": [
    "def getR(enc, res1, res2):\n",
    "    r = 1\n",
    "    while (7 ** r % 23)!=res1 or (enc*17**r % 23)!=res2:\n",
    "        r+=1\n",
    "    return r"
   ]
  },
  {
   "cell_type": "markdown",
   "metadata": {},
   "source": [
    "$r$ für $Enc(8) = (21,20)$"
   ]
  },
  {
   "cell_type": "code",
   "execution_count": 14,
   "metadata": {},
   "outputs": [
    {
     "data": {
      "text/plain": [
       "3"
      ]
     },
     "execution_count": 14,
     "metadata": {},
     "output_type": "execute_result"
    }
   ],
   "source": [
    "getR(8,21,20)"
   ]
  },
  {
   "cell_type": "markdown",
   "metadata": {},
   "source": [
    "$r=3$\n",
    "\n",
    "$Enc(8)=(g^r, 8 \\cdot y^r) \\mod q$\n",
    "\n",
    "$\\qquad \\quad =(7^3, 8 \\cdot 17^3) \\mod 23$\n",
    "\n",
    "$\\qquad\\quad=(21, 20) \\mod 23$"
   ]
  },
  {
   "cell_type": "markdown",
   "metadata": {},
   "source": [
    "$r$ für $Enc(4) = (5,11)$"
   ]
  },
  {
   "cell_type": "code",
   "execution_count": 15,
   "metadata": {},
   "outputs": [
    {
     "data": {
      "text/plain": [
       "7"
      ]
     },
     "execution_count": 15,
     "metadata": {},
     "output_type": "execute_result"
    }
   ],
   "source": [
    "getR(4,5,11)"
   ]
  },
  {
   "cell_type": "markdown",
   "metadata": {},
   "source": [
    "$r=7$\n",
    "\n",
    "$Enc(4)=(g^r, 4 \\cdot y^r) \\mod q$\n",
    "\n",
    "$\\qquad \\quad =(7^7, 4 \\cdot 17^7) \\mod 23$\n",
    "\n",
    "$\\qquad \\quad =(5, 11) \\mod 23$\n",
    "\n",
    "\n",
    "$(21,20) \\cdot (5,11) \\mod 23 = (13,13)$\n",
    "\n",
    "\n",
    "$Dec(13,13)=13 \\cdot (13^5)^{-1} = 9 \\mod 23$\n",
    "\n",
    "$ \\qquad \\qquad =13 \\cdot 6 = 9 \\mod 23$"
   ]
  },
  {
   "cell_type": "markdown",
   "metadata": {},
   "source": [
    "## Aufgabe 3: Paillier-Verfahren\n",
    "\n",
    "Gegeben sind zwei Primzahlen $p=3$ und $q=5$. $g=16$ sei zufällig gewählt.\n",
    "\n",
    "1. Berechnen Sie jeweils den öffentlichen und privaten Schlüssel.\n",
    "2. Verschlüssen Sie den Klartext $m=13$.\n",
    "3. Entschlüssen Sie den Ciphertext $c=72$.\n",
    "\n",
    "Hinweis: Code als Ergebnis wird akzeptiert."
   ]
  },
  {
   "cell_type": "markdown",
   "metadata": {},
   "source": [
    "1. Schlüsselgenerierung\n",
    "$$ n = p\\cdot q$$\n",
    "$$ n = 15 , \\lambda = 4$$\n",
    "$$ g = 16, g\\in \\mathbb{Z}^*_{n^2}$$\n",
    "$$ \\mu = 4, \\mu = (\\frac{(g^\\lambda\\ \\text{mod}\\ n^2) - 1}{n})^{-1}\\ \\text{mod}\\ n$$\n",
    "$$K_{Public} = (15, 16), K_{Private} = (4,4)$$\n",
    "\n",
    "2. Verschlüsselung von $m=13$\n",
    "$$ 0<r<n\\ \\text{and} r \\mathbb{Z}^*_{n^2},\\ gcd(r,n) = 1 \\rightarrow r=7$$\n",
    "$$ Enc(13) = c = g^m\\cdot r^n\\ \\text{mod}\\ n^2 = 16^{13}\\cdot 7^{15}\\ \\text{mod}\\ 225 = 178$$\n",
    "\n",
    "3. Entschlüsselung von $c=72$\n",
    "$$ m = (L(c^\\lambda\\ \\text{mod}\\ n^2)\\cdot (\\mu\\ \\text{mod}\\ n)$$\n",
    "$$ m = (L(72^4\\ \\text{mod}\\ 225)\\cdot (4\\ \\text{mod}\\ 15)$$\n",
    "$$ m = L(81)\\cdot 4$$\n",
    "$$ m = (\\frac{81-1}{15}) * 4$$\n",
    "$$ m = 5 * 4 = 20 $$"
   ]
  },
  {
   "cell_type": "markdown",
   "metadata": {},
   "source": []
  }
 ],
 "metadata": {
  "kernelspec": {
   "display_name": "Python 3",
   "language": "python",
   "name": "python3"
  },
  "language_info": {
   "codemirror_mode": {
    "name": "ipython",
    "version": 3
   },
   "file_extension": ".py",
   "mimetype": "text/x-python",
   "name": "python",
   "nbconvert_exporter": "python",
   "pygments_lexer": "ipython3",
   "version": "3.6.6"
  }
 },
 "nbformat": 4,
 "nbformat_minor": 2
}
