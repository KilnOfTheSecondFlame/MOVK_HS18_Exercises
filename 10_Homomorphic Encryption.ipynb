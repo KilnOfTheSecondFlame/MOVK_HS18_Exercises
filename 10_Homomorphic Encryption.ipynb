{
 "cells": [
  {
   "cell_type": "markdown",
   "metadata": {},
   "source": [
    "# Homomorphe Verschlüsselung\n",
    "\n",
    "## Aufgabe 1: Homomorphe Verschlüsselung\n",
    "\n",
    "1. Welches der drei Verschlüsselungsverfahren (RSA, EL-GAMAL, Paillier) ist eher geeignet für die Verwendung in homomorpher Verschlüsselung? Begründen bitte Ihre Antwort."
   ]
  },
  {
   "cell_type": "markdown",
   "metadata": {},
   "source": []
  },
  {
   "cell_type": "markdown",
   "metadata": {},
   "source": [
    "2. Geben Sie ein Beispiel, in welchem Bereich das Paillier-Verfahren eingesetzt werden könnte? Begründen Sie Ihre Antwort"
   ]
  },
  {
   "cell_type": "markdown",
   "metadata": {},
   "source": []
  },
  {
   "cell_type": "markdown",
   "metadata": {},
   "source": [
    "## Aufgabe 2: Homomorphie-Eigenschaft von EL-GAMAL\n",
    "Berechnen Sie bitte jeden Schritt im unteren Teil des Beispiels. Die Berechnung\n",
    "für den oberen Teil finden Sie auf den Folien SW10.\n",
    "\n",
    "![El Gamal Diagramm](img/ElGamal_Diagram.png)"
   ]
  },
  {
   "cell_type": "markdown",
   "metadata": {},
   "source": []
  },
  {
   "cell_type": "markdown",
   "metadata": {},
   "source": [
    "## Aufgabe 3: Paillier-Verfahren\n",
    "\n",
    "Gegeben sind zwei Primzahlen $p=3$ und $q=5$. $g=16$ sei zufällig gewählt.\n",
    "\n",
    "1. Berechnen Sie jeweils den öffentlichen und privaten Schlüssel.\n",
    "2. Verschlüssen Sie den Klartext $m=13$.\n",
    "3. Entschlüssen Sie den Ciphertext $c=72$.\n",
    "\n",
    "Hinweis: Code als Ergebnis wird akzeptiert."
   ]
  },
  {
   "cell_type": "markdown",
   "metadata": {},
   "source": []
  }
 ],
 "metadata": {
  "kernelspec": {
   "display_name": "Python 3",
   "language": "python",
   "name": "python3"
  },
  "language_info": {
   "codemirror_mode": {
    "name": "ipython",
    "version": 3
   },
   "file_extension": ".py",
   "mimetype": "text/x-python",
   "name": "python",
   "nbconvert_exporter": "python",
   "pygments_lexer": "ipython3",
   "version": "3.7.0"
  }
 },
 "nbformat": 4,
 "nbformat_minor": 2
}
