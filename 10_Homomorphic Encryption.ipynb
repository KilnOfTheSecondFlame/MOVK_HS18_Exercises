{
 "cells": [
  {
   "cell_type": "markdown",
   "metadata": {},
   "source": [
    "# Homomorphe Verschlüsselung\n",
    "\n",
    "## Aufgabe 1: Homomorphe Verschlüsselung\n",
    "\n",
    "1. Welches der drei Verschlüsselungsverfahren (RSA, EL-GAMAL, Paillier) ist eher geeignet für die Verwendung in homomorpher Verschlüsselung? Begründen bitte Ihre Antwort."
   ]
  },
  {
   "cell_type": "markdown",
   "metadata": {},
   "source": []
  },
  {
   "cell_type": "markdown",
   "metadata": {},
   "source": [
    "2. Geben Sie ein Beispiel, in welchem Bereich das Paillier-Verfahren eingesetzt werden könnte? Begründen Sie Ihre Antwort"
   ]
  },
  {
   "cell_type": "markdown",
   "metadata": {},
   "source": []
  },
  {
   "cell_type": "markdown",
   "metadata": {},
   "source": [
    "## Aufgabe 2: Homomorphie-Eigenschaft von EL-GAMAL\n",
    "Berechnen Sie bitte jeden Schritt im unteren Teil des Beispiels. Die Berechnung\n",
    "für den oberen Teil finden Sie auf den Folien SW10.\n",
    "\n",
    "![El Gamal Diagramm](img/ElGamal_Diagram.png)"
   ]
  },
  {
   "cell_type": "markdown",
   "metadata": {},
   "source": []
  },
  {
   "cell_type": "markdown",
   "metadata": {},
   "source": [
    "## Aufgabe 3: Paillier-Verfahren\n",
    "\n",
    "Gegeben sind zwei Primzahlen $p=3$ und $q=5$. $g=16$ sei zufällig gewählt.\n",
    "\n",
    "1. Berechnen Sie jeweils den öffentlichen und privaten Schlüssel.\n",
    "2. Verschlüssen Sie den Klartext $m=13$.\n",
    "3. Entschlüssen Sie den Ciphertext $c=72$.\n",
    "\n",
    "Hinweis: Code als Ergebnis wird akzeptiert."
   ]
  },
  {
   "cell_type": "markdown",
   "metadata": {},
   "source": [
    "1. Schlüsselgenerierung\n",
    "$$ n = p\\cdot q$$\n",
    "$$ n = 15 , \\lambda = 4$$\n",
    "$$ g = 16, g\\in \\mathbb{Z}^*_{n^2}$$\n",
    "$$ \\mu = 4, \\mu = (\\frac{(g^\\lambda\\ \\text{mod}\\ n^2) - 1}{n})^{-1}\\ \\text{mod}\\ n$$\n",
    "$$K_{Public} = (15, 16), K_{Private} = (4,4)$$\n",
    "\n",
    "2. Verschlüsselung von $m=13$\n",
    "$$ 0<r<n\\ \\text{and} r \\mathbb{Z}^*_{n^2},\\ gcd(r,n) = 1 \\rightarrow r=7$$\n",
    "$$ Enc(13) = c = g^m\\cdot r^n\\ \\text{mod}\\ n^2 = 16^{13}\\cdot 7^{15}\\ \\text{mod}\\ 225 = 178$$\n",
    "\n",
    "3. Entschlüsselung von $c=72$\n",
    "$$ m = (L(c^\\lambda\\ \\text{mod}\\ n^2)\\cdot (\\mu\\ \\text{mod}\\ n)$$\n",
    "$$ m = (L(72^4\\ \\text{mod}\\ 225)\\cdot (4\\ \\text{mod}\\ 15)$$\n",
    "$$ m = L(81)\\cdot 4$$\n",
    "$$ m = (\\frac{81-1}{15}) * 4$$\n",
    "$$ m = 5 * 4 = 20 $$"
   ]
  },
  {
   "cell_type": "markdown",
   "metadata": {},
   "source": []
  }
 ],
 "metadata": {
  "kernelspec": {
   "display_name": "Python 3",
   "language": "python",
   "name": "python3"
  },
  "language_info": {
   "codemirror_mode": {
    "name": "ipython",
    "version": 3
   },
   "file_extension": ".py",
   "mimetype": "text/x-python",
   "name": "python",
   "nbconvert_exporter": "python",
   "pygments_lexer": "ipython3",
   "version": "3.7.0"
  }
 },
 "nbformat": 4,
 "nbformat_minor": 2
}
