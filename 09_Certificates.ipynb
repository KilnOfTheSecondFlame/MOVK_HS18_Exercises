{
 "cells": [
  {
   "cell_type": "markdown",
   "metadata": {},
   "source": [
    "## Aufgabe 1: Zertifikate"
   ]
  },
  {
   "cell_type": "markdown",
   "metadata": {},
   "source": [
    "Erstellen Sie ein kurzes Protokoll zur Zertifikaterstellung und Zertifikatüberprüfung."
   ]
  },
  {
   "cell_type": "markdown",
   "metadata": {},
   "source": [
    "### Zertifikaterstellung\n",
    "1. Alle Teilnehmer einigen sich auf eine Trusted Third Party (TTP) für die Verwaltung der Zertifikate\n",
    "2. Jeder Teilnehmer lässt seinen Namen und seinen öffentlichen Schlüssel im Register der TTP eintragen und signieren\n",
    "3. Dieser Eintrag ist das Zertifikat des Teilnehmers\n",
    "\n",
    "### Zertifikatsüberprüfung\n",
    "1. Der Empfänger prüft bei erhalt einer Nachricht die Signierung des Zertifikats\n",
    "2. Ist im Registereintrag sein Name enthalten, kann er die Nachricht mit seinem privaten Schlüssel entschlüsseln."
   ]
  },
  {
   "cell_type": "markdown",
   "metadata": {},
   "source": [
    "## Aufgabe 2: Zertifikatshierarchie"
   ]
  },
  {
   "cell_type": "markdown",
   "metadata": {},
   "source": [
    "1. Welche Vorteile hat eine Zertifikatshierarchie für eine Firma und für die einzelne Benutzerin?\n",
    "2. Welche Nachteile hat eine Zertifikatshierarchie für eine Firma und für den einzelnen Benutzer?"
   ]
  },
  {
   "cell_type": "markdown",
   "metadata": {},
   "source": [
    "## Aufgabe 3: Client-Server Authentifizierung"
   ]
  },
  {
   "cell_type": "markdown",
   "metadata": {},
   "source": [
    "Studentin Alice will von Zuhause über ein lokales Netz auf einem Rechner der HSLU arbeiten.\n",
    "Welche Probleme können sich dabei ergeben? Erstellen Sie ein kurzes einfaches Protokoll, um\n",
    "eine sichere Authentifizierung zu ermöglichen"
   ]
  },
  {
   "cell_type": "markdown",
   "metadata": {},
   "source": [
    "## Aufgabe 4: PGP"
   ]
  },
  {
   "cell_type": "markdown",
   "metadata": {},
   "source": [
    "Beschreiben Sie den Begriff «Key Escrow» (Schlüsselhinterlegung)."
   ]
  },
  {
   "cell_type": "markdown",
   "metadata": {},
   "source": [
    "Davon wird gesprochen, wenn der Privatschlüssel zusätzlich an dritter Stelle, z.B. bei staatlichen Behörden, abgelegt wird, damit diese die Daten ebenfalls lesen können."
   ]
  },
  {
   "cell_type": "markdown",
   "metadata": {},
   "source": [
    "## Aufgabe 5: PGA"
   ]
  },
  {
   "cell_type": "markdown",
   "metadata": {},
   "source": [
    "Warum wird die Kommunikation auf Dark Web häufig mit Hilfe von PGA realisiert?"
   ]
  },
  {
   "cell_type": "code",
   "execution_count": null,
   "metadata": {},
   "outputs": [],
   "source": []
  }
 ],
 "metadata": {
  "kernelspec": {
   "display_name": "Python 3",
   "language": "python",
   "name": "python3"
  },
  "language_info": {
   "codemirror_mode": {
    "name": "ipython",
    "version": 3
   },
   "file_extension": ".py",
   "mimetype": "text/x-python",
   "name": "python",
   "nbconvert_exporter": "python",
   "pygments_lexer": "ipython3",
   "version": "3.6.6"
  }
 },
 "nbformat": 4,
 "nbformat_minor": 2
}
