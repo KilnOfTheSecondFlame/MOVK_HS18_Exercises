{
 "cells": [
  {
   "cell_type": "markdown",
   "metadata": {},
   "source": [
    "# Public Key Cryptography II\n",
    "\n",
    "## 1 Elliptic curve over real numbers $\\mathbb{R}$\n",
    "\n",
    "Given the elliptic curve $E\\ :\\ y^2 =x^3−3x+9$. If this curve is not singular (check this), compute $a$ and $b$, such that $P_1 = (0,a)$ and $P_2 = (2,b)$ lay on $E$. Compute $P = P_1 +P_2$ and draw $E$ together with $P_1$ , $P_2$ and $P$."
   ]
  },
  {
   "cell_type": "code",
   "execution_count": null,
   "metadata": {},
   "outputs": [],
   "source": [
    "\n"
   ]
  },
  {
   "cell_type": "markdown",
   "metadata": {},
   "source": [
    "## 2 Elliptic curve over real numbers $\\mathbb{R}$\n",
    "\n",
    "Given the elliptic curve $E\\ :\\ y^2 = x^3 −3x+5$ and point $P = (2,2.65)\\in E$.\n",
    "\n",
    "\n",
    "__Your Task__: Draw $E$, point $P$ and compute $2P$, $4P$ and $8P$. Solve this problem with minimal computational work!"
   ]
  },
  {
   "cell_type": "code",
   "execution_count": null,
   "metadata": {},
   "outputs": [],
   "source": []
  },
  {
   "cell_type": "markdown",
   "metadata": {},
   "source": [
    "## 3 Singular elliptic curve\n",
    "\n",
    "Show that the condition $4a^3 +27b^2 \\neq 0 \\mod p$ is satisfied for the elliptic curve\n",
    "\n",
    "$$y^2 \\equiv x^3 +2x+7 \\mod 17$$"
   ]
  },
  {
   "cell_type": "markdown",
   "metadata": {},
   "source": [
    "For this elliptic curve, the two coefficients are $a,b = 2, 7$, hence the condition is $4\\cdot 2^3 + 27\\cdot 7^2 \\equiv 12 \\mod 17$, which means our ECC is non-singular (has no cusps or intersections)"
   ]
  },
  {
   "cell_type": "code",
   "execution_count": 9,
   "metadata": {},
   "outputs": [
    {
     "name": "stdout",
     "output_type": "stream",
     "text": [
      "12\n"
     ]
    }
   ],
   "source": [
    "print((4*2**3 + 27 * 7**2)%17)"
   ]
  },
  {
   "cell_type": "markdown",
   "metadata": {},
   "source": [
    "Example of a singular ECC"
   ]
  },
  {
   "cell_type": "code",
   "execution_count": 24,
   "metadata": {},
   "outputs": [
    {
     "data": {
      "image/png": "[encoded data removed]",
      "text/plain": [
       "<Figure size 432x288 with 1 Axes>"
      ]
     },
     "metadata": {
      "needs_background": "light"
     },
     "output_type": "display_data"
    }
   ],
   "source": [
    "import numpy as np\n",
    "import matplotlib.pyplot as plt\n",
    "\n",
    "a = -3\n",
    "b = 2\n",
    "xlist = np.linspace( - 3, 4, 100)\n",
    "ylist = np.linspace( - 6.0, 6.0, 100)\n",
    "X, Y = np.meshgrid(xlist, ylist)\n",
    "Z = Y ** 2 - X ** 3 - a * X - b\n",
    "plt.contour(X, Y, Z, [0], colors='red') \n",
    "plt.grid()\n",
    "plt.axis('scaled')\n",
    "plt.show()"
   ]
  },
  {
   "cell_type": "markdown",
   "metadata": {},
   "source": [
    "## 4 Elliptic curve over finite field $\\mathbb{Z}_7$\n",
    "\n",
    "Let $E\\ :\\ y^2 \\equiv x^3 +3x+2 \\mod 7$ an elliptic curve over $\\mathbb{Z}_7$.\n",
    "\n",
    "\n",
    "__Your Task__:\n",
    "1. Compute all points on $E$ over $\\mathbb{Z}_7$.\n",
    "2. What is the order of the group? (Hint: Do not miss the identity element $O$)\n",
    "3. Given the element $\\alpha = (0,3)$, determine the order of $\\alpha$. Is $\\alpha$ a primitive element?"
   ]
  },
  {
   "cell_type": "code",
   "execution_count": null,
   "metadata": {},
   "outputs": [],
   "source": []
  },
  {
   "cell_type": "markdown",
   "metadata": {},
   "source": [
    "## 5 Diffie-Hellman using ECC\n",
    "Alice and Bob agree to use the elliptic curve $E\\ :\\ y^2 = x^3 +x+1$ and point $P = (5,4) \\in E$. Alice chooses her secret number $a = 5$, whereas Bob chooses $b = 7$.\n",
    "\n",
    "\n",
    "__Your Task__: Describe the key agreement protocol step by step using the above assumptions about $a$ and $b$. What is the common secret key?"
   ]
  },
  {
   "cell_type": "code",
   "execution_count": null,
   "metadata": {},
   "outputs": [],
   "source": []
  },
  {
   "cell_type": "markdown",
   "metadata": {},
   "source": [
    "## 6 Elliptic Curve Discrete Logarithm Problem (ECDLP)\n",
    "Assume Mallory intercepts the message $A = (10,6)$ from Alice to Bob and $B = (7,11)$ from Bob to Alice. He also knows the elliptic curve $E\\ :\\ y^2 \\equiv x^3 +2x+2 \\mod 17$, which forms a cyclic group of order 19, and point $P = (5,1)$.\n",
    "\n",
    "__Your Task__: Suppose Mallory wants to know the common key. Describe his steps to find this key!"
   ]
  },
  {
   "cell_type": "code",
   "execution_count": null,
   "metadata": {},
   "outputs": [],
   "source": []
  }
 ],
 "metadata": {
  "kernelspec": {
   "display_name": "Python 3",
   "language": "python",
   "name": "python3"
  },
  "language_info": {
   "codemirror_mode": {
    "name": "ipython",
    "version": 3
   },
   "file_extension": ".py",
   "mimetype": "text/x-python",
   "name": "python",
   "nbconvert_exporter": "python",
   "pygments_lexer": "ipython3",
   "version": "3.7.0"
  }
 },
 "nbformat": 4,
 "nbformat_minor": 2
}
