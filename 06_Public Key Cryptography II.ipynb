{
 "cells": [
  {
   "cell_type": "markdown",
   "metadata": {},
   "source": [
    "# Public Key Cryptography II\n",
    "\n",
    "## 1 Elliptic curve over real numbers $\\mathbb{R}$\n",
    "\n",
    "Given the elliptic curve $E\\ :\\ y^2 =x^3−3x+9$. If this curve is not singular (check this), compute $a$ and $b$, such that $P_1 = (0,a)$ and $P_2 = (2,b)$ lay on $E$. Compute $P = P_1 +P_2$ and draw $E$ together with $P_1$ , $P_2$ and $P$."
   ]
  },
  {
   "cell_type": "code",
   "execution_count": null,
   "metadata": {},
   "outputs": [],
   "source": [
    "\n"
   ]
  },
  {
   "cell_type": "markdown",
   "metadata": {},
   "source": [
    "## 2 Elliptic curve over real numbers $\\mathbb{R}$\n",
    "\n",
    "Given the elliptic curve $E\\ :\\ y^2 = x^3 −3x+5$ and point $P = (2,2.65)\\in E$.\n",
    "\n",
    "\n",
    "__Your Task__: Draw $E$, point $P$ and compute $2P$, $4P$ and $8P$. Solve this problem with minimal computational work!"
   ]
  },
  {
   "cell_type": "code",
   "execution_count": null,
   "metadata": {},
   "outputs": [],
   "source": []
  },
  {
   "cell_type": "markdown",
   "metadata": {},
   "source": [
    "## 3 Singular elliptic curve\n",
    "\n",
    "Show that the condition $4a^3 +27b^2 \\neq 0 \\mod p$ is satisfied for the elliptic curve\n",
    "\n",
    "$$y^2 \\equiv x^3 +2x+7 \\mod 17$$"
   ]
  },
  {
   "cell_type": "markdown",
   "metadata": {},
   "source": [
    "For this elliptic curve, the two coefficients are $a,b = 2, 7$, hence the condition is $4\\cdot 2^3 + 27\\cdot 7^2 \\equiv 12 \\mod 17$, which means our ECC is non-singular (has no cusps or intersections)"
   ]
  },
  {
   "cell_type": "code",
   "execution_count": 1,
   "metadata": {},
   "outputs": [
    {
     "name": "stdout",
     "output_type": "stream",
     "text": [
      "12\n"
     ]
    }
   ],
   "source": [
    "print((4*2**3 + 27 * 7**2)%17)"
   ]
  },
  {
   "cell_type": "markdown",
   "metadata": {},
   "source": [
    "Example of a singular ECC"
   ]
  },
  {
   "cell_type": "code",
   "execution_count": 2,
   "metadata": {},
   "outputs": [
    {
     "data": {
      "text/plain": [
       "<Figure size 640x480 with 1 Axes>"
      ]
     },
     "metadata": {},
     "output_type": "display_data"
    }
   ],
   "source": [
    "import numpy as np\n",
    "import matplotlib.pyplot as plt\n",
    "\n",
    "a = -3\n",
    "b = 2\n",
    "xlist = np.linspace( - 3, 4, 100)\n",
    "ylist = np.linspace( - 6.0, 6.0, 100)\n",
    "X, Y = np.meshgrid(xlist, ylist)\n",
    "Z = Y ** 2 - X ** 3 - a * X - b\n",
    "plt.contour(X, Y, Z, [0], colors='red') \n",
    "plt.grid()\n",
    "plt.axis('scaled')\n",
    "plt.show()"
   ]
  },
  {
   "cell_type": "markdown",
   "metadata": {},
   "source": [
    "## 4 Elliptic curve over finite field $\\mathbb{Z}_7$\n",
    "\n",
    "Let $E\\ :\\ y^2 \\equiv x^3 +3x+2 \\mod 7$ an elliptic curve over $\\mathbb{Z}_7$.\n",
    "\n",
    "\n",
    "__Your Task__:\n",
    "1. Compute all points on $E$ over $\\mathbb{Z}_7$.\n",
    "2. What is the order of the group? (Hint: Do not miss the identity element $O$)\n",
    "3. Given the element $\\alpha = (0,3)$, determine the order of $\\alpha$. Is $\\alpha$ a primitive element?"
   ]
  },
  {
   "cell_type": "code",
   "execution_count": null,
   "metadata": {},
   "outputs": [],
   "source": []
  },
  {
   "cell_type": "markdown",
   "metadata": {},
   "source": [
    "## 5 Diffie-Hellman using ECC\n",
    "Alice and Bob agree to use the elliptic curve $E\\ :\\ y^2 = x^3 +x+1$ and point $P = (5,4) \\in E$. Alice chooses her secret number $a = 5$, whereas Bob chooses $b = 7$.\n",
    "\n",
    "\n",
    "__Your Task__: Describe the key agreement protocol step by step using the above assumptions about $a$ and $b$. What is the common secret key?"
   ]
  },
  {
   "cell_type": "code",
   "execution_count": null,
   "metadata": {},
   "outputs": [],
   "source": []
  },
  {
   "cell_type": "markdown",
   "metadata": {},
   "source": [
    "## 6 Elliptic Curve Discrete Logarithm Problem (ECDLP)\n",
    "Assume Mallory intercepts the message $A = (10,6)$ from Alice to Bob and $B = (7,11)$ from Bob to Alice. He also knows the elliptic curve $E\\ :\\ y^2 \\equiv x^3 +2x+2 \\mod 17$, which forms a cyclic group of order 19, and point $P = (5,1)$.\n",
    "\n",
    "__Your Task__: Suppose Mallory wants to know the common key. Describe his steps to find this key!"
   ]
  },
  {
   "cell_type": "code",
   "execution_count": 3,
   "metadata": {},
   "outputs": [
    {
     "data": {
      "text/plain": [
       "1"
      ]
     },
     "execution_count": 3,
     "metadata": {},
     "output_type": "execute_result"
    }
   ],
   "source": [
    "(5**3+10+2)%17"
   ]
  },
  {
   "cell_type": "markdown",
   "metadata": {},
   "source": [
    "$P$ is therefore located on $E$.\n",
    "\n",
    "Mallory now calculates the remainder group, with somethin akin to the square-and-multiply algorithm:\n",
    "$$ 1P = P $$\n",
    "$$ 2P = P + P $$\n",
    "$$ 3P = 2P + P $$\n",
    "$$ 4P = 2P + 2P $$\n",
    "$$ 5P = 4P + P $$\n",
    "$$ \\vdots $$"
   ]
  },
  {
   "cell_type": "code",
   "execution_count": 4,
   "metadata": {},
   "outputs": [
    {
     "name": "stdout",
     "output_type": "stream",
     "text": [
      "(-3.478395061728395, -5.04338134430727)\n"
     ]
    }
   ],
   "source": [
    "def ecc_add(a, b, point_1, point_2):\n",
    "    assert isinstance(point_1, tuple)\n",
    "    assert isinstance(point_2, tuple)\n",
    "    x1,y1 = point_1\n",
    "    x2,y2 = point_2\n",
    "    if (x1 == x2):\n",
    "        if (y1 == -y2):\n",
    "            return (0,0)\n",
    "        if (y1 == y2 and y1 != 0):\n",
    "            s = (3 * x1 ** 2 + a)/(2 * y1)\n",
    "    else:\n",
    "        s = (y2 - y1)/(x2 - x1)\n",
    "    x3 = s ** 2 - x1 - x2\n",
    "    y3 = s * (x1 - x3) - y1\n",
    "    return (x3,y3)\n",
    "\n",
    "def ecc_double(a, b, point):\n",
    "    assert isinstance(point, tuple)\n",
    "    return ecc_add(a, b, point, point)\n",
    "\n",
    "# Test for y^2 = x^3 + 73 (a,b = 1,73), should result in (-3.5555555555, -5.29629629)\n",
    "print(ecc_double(1,73,(2,9)))"
   ]
  },
  {
   "cell_type": "markdown",
   "metadata": {},
   "source": [
    "And as we are computing in a remainder group we have to change our program as follows:"
   ]
  },
  {
   "cell_type": "code",
   "execution_count": 15,
   "metadata": {},
   "outputs": [
    {
     "name": "stdout",
     "output_type": "stream",
     "text": [
      "Test should result in (4,2): (4, 2)\n",
      "1*P: (5, 1)\n",
      "2*P: (6, 3)\n",
      "3*P: (10, 6)\n",
      "4*P: (3, 1)\n",
      "5*P: (9, 16)\n",
      "6*P: (16, 13)\n",
      "7*P: (0, 6)\n",
      "8*P: (13, 7)\n",
      "9*P: (7, 6)\n",
      "10*P: (7, 11)\n",
      "11*P: (13, 10)\n",
      "12*P: (0, 11)\n",
      "13*P: (16, 4)\n",
      "14*P: (9, 1)\n",
      "15*P: (3, 16)\n",
      "16*P: (10, 11)\n",
      "17*P: (6, 14)\n",
      "18*P: (5, 16)\n"
     ]
    }
   ],
   "source": [
    "import math\n",
    "\n",
    "# Source: https://stackoverflow.com/questions/4798654/modular-multiplicative-inverse-function-in-python\n",
    "def egcd(a, b):\n",
    "    if a == 0:\n",
    "        return (b, 0, 1)\n",
    "    else:\n",
    "        g, y, x = egcd(b % a, a)\n",
    "        return (g, x - (b // a) * y, y)\n",
    "\n",
    "def modinv(a, m):\n",
    "    # If a is negative, replace it with an equivalent positive integer in the same remainder class\n",
    "    if a < 0:\n",
    "        a = a + m\n",
    "    g, x, y = egcd(a, m)\n",
    "    if g != 1:\n",
    "        raise Exception('modular inverse does not exist')\n",
    "    else:\n",
    "        return x % m\n",
    "\n",
    "def ecc_add(a, b, p, point_1, point_2):\n",
    "    assert isinstance(point_1, tuple)\n",
    "    assert isinstance(point_2, tuple)\n",
    "    x1,y1 = point_1\n",
    "    x2,y2 = point_2\n",
    "    if (x1 == x2):\n",
    "        if (y1 == -y2):\n",
    "            return (0,0)\n",
    "        if (y1 == y2 and y1 != 0):\n",
    "            s = ((3 * x1 ** 2 + a) * modinv((2 * y1), p)) % p\n",
    "    else:\n",
    "        s = ((y2 - y1)* modinv((x2 - x1), p)) % p\n",
    "    x3 = (s ** 2 - x1 - x2) % p\n",
    "    y3 = (s * (x1 - x3) - y1) % p\n",
    "    return (x3,y3)\n",
    "\n",
    "def ecc_double(a, b, p, point):\n",
    "    assert isinstance(point, tuple)\n",
    "    return ecc_add(a, b, p, point, point)\n",
    "\n",
    "def ecc_multiply(a,b,p, point, n):\n",
    "    assert isinstance(point, tuple)\n",
    "    result = point\n",
    "    if (n == 0):\n",
    "        result = (0,0)\n",
    "    # if n = 1, we just return the point\n",
    "    if (n != 1):\n",
    "        # if n is bigger than 1 we differentiate between odd and even n\n",
    "        if (n%2 == 0):\n",
    "            result = ecc_multiply(a,b,p,ecc_double(a,b,p,point),n/2)\n",
    "        else:\n",
    "            result = ecc_add(a,b,p,ecc_multiply(a,b,p,point, n-1), point)\n",
    "    return result\n",
    "\n",
    "# Test for y^2 = x^3 + x + 1 mod 5 (a,b = 1,1), and Generator (0,1) should result in (4,2)\n",
    "print(\"Test should result in (4,2): \" + str(ecc_double(1,1,5,(0,1))))\n",
    "\n",
    "a,b,p = 2,2,17\n",
    "P = (5,1)\n",
    "for i in range(1,19):\n",
    "    print(str(i) + \"*P: \" + str(ecc_multiply(a,b,p, P, i)))"
   ]
  },
  {
   "cell_type": "markdown",
   "metadata": {},
   "source": [
    "As Alice's key $Q_A = n_A\\cdot P$ and Bob's $Q_B = n_B \\cdot P$, Mallory is able to looks up the corresponding values of $n$ for the points $Q_A = (10,6)$ and $Q_B = (7,11)$. Which are:\n",
    "$$n_A = 3$$\n",
    "$$n_B = 10$$\n",
    "\n",
    "She is thus able to compute the common key $n_A\\cdot Q_B = n_B\\cdot Q_A = $"
   ]
  },
  {
   "cell_type": "code",
   "execution_count": 14,
   "metadata": {},
   "outputs": [
    {
     "name": "stdout",
     "output_type": "stream",
     "text": [
      "nA*QB: (13, 10)\n",
      "nB*QA: (13, 10)\n"
     ]
    }
   ],
   "source": [
    "print(\"nA*QB: \" + str(ecc_multiply(2,2,17,(7,11),3)))\n",
    "print(\"nB*QA: \" + str(ecc_multiply(2,2,17,(10,6),10)))"
   ]
  }
 ],
 "metadata": {
  "kernelspec": {
   "display_name": "Python 3",
   "language": "python",
   "name": "python3"
  },
  "language_info": {
   "codemirror_mode": {
    "name": "ipython",
    "version": 3
   },
   "file_extension": ".py",
   "mimetype": "text/x-python",
   "name": "python",
   "nbconvert_exporter": "python",
   "pygments_lexer": "ipython3",
   "version": "3.7.0"
  }
 },
 "nbformat": 4,
 "nbformat_minor": 2
}
