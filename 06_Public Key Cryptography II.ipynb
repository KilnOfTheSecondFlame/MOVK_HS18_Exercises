{
 "cells": [
  {
   "cell_type": "markdown",
   "metadata": {},
   "source": [
    "# Public Key Cryptography II\n",
    "\n",
    "## 1 Elliptic curve over real numbers $\\mathbb{R}$\n",
    "\n",
    "Given the elliptic curve $E\\ :\\ y^2 =x^3−3x+9$. If this curve is not singular (check this), compute $a$ and $b$, such that $P_1 = (0,a)$ and $P_2 = (2,b)$ lay on $E$. Compute $P = P_1 +P_2$ and draw $E$ together with $P_1$ , $P_2$ and $P$."
   ]
  },
  {
   "cell_type": "code",
   "execution_count": null,
   "metadata": {},
   "outputs": [],
   "source": [
    "\n"
   ]
  },
  {
   "cell_type": "markdown",
   "metadata": {},
   "source": [
    "## 2 Elliptic curve over real numbers $\\mathbb{R}$\n",
    "\n",
    "Given the elliptic curve $E\\ :\\ y^2 = x^3 −3x+5$ and point $P = (2,2.65)\\in E$.\n",
    "\n",
    "\n",
    "__Your Task__: Draw $E$, point $P$ and compute $2P$, $4P$ and $8P$. Solve this problem with minimal computational work!"
   ]
  },
  {
   "cell_type": "code",
   "execution_count": null,
   "metadata": {},
   "outputs": [],
   "source": []
  },
  {
   "cell_type": "markdown",
   "metadata": {},
   "source": [
    "## 3 Singular elliptic curve\n",
    "\n",
    "Show that the condition $4a^3 +27b^2 \\neq 0 \\mod p$ is satisfied for the elliptic curve\n",
    "\n",
    "$$y^2 \\equiv x^3 +2x+7 \\mod 17$$"
   ]
  },
  {
   "cell_type": "markdown",
   "metadata": {},
   "source": [
    "For this elliptic curve, the two coefficients are $a,b = 2, 7$, hence the condition is $4\\cdot 2^3 + 27\\cdot 7^2 \\equiv 12 \\mod 17$, which means our ECC is non-singular (has no cusps or intersections)"
   ]
  },
  {
   "cell_type": "code",
   "execution_count": 9,
   "metadata": {},
   "outputs": [
    {
     "name": "stdout",
     "output_type": "stream",
     "text": [
      "12\n"
     ]
    }
   ],
   "source": [
    "print((4*2**3 + 27 * 7**2)%17)"
   ]
  },
  {
   "cell_type": "markdown",
   "metadata": {},
   "source": [
    "Example of a singular ECC"
   ]
  },
  {
   "cell_type": "code",
   "execution_count": 24,
   "metadata": {},
   "outputs": [
    {
     "data": {
      "image/png": "[encoded data removed]",
      "text/plain": [
       "<Figure size 432x288 with 1 Axes>"
      ]
     },
     "metadata": {
      "needs_background": "light"
     },
     "output_type": "display_data"
    }
   ],
   "source": [
    "import numpy as np\n",
    "import matplotlib.pyplot as plt\n",
    "\n",
    "a = -3\n",
    "b = 2\n",
    "xlist = np.linspace( - 3, 4, 100)\n",
    "ylist = np.linspace( - 6.0, 6.0, 100)\n",
    "X, Y = np.meshgrid(xlist, ylist)\n",
    "Z = Y ** 2 - X ** 3 - a * X - b\n",
    "plt.contour(X, Y, Z, [0], colors='red') \n",
    "plt.grid()\n",
    "plt.axis('scaled')\n",
    "plt.show()"
   ]
  },
  {
   "cell_type": "markdown",
   "metadata": {},
   "source": [
    "## 4 Elliptic curve over finite field $\\mathbb{Z}_7$\n",
    "\n",
    "Let $E\\ :\\ y^2 \\equiv x^3 +3x+2 \\mod 7$ an elliptic curve over $\\mathbb{Z}_7$.\n",
    "\n",
    "\n",
    "__Your Task__:\n",
    "1. Compute all points on $E$ over $\\mathbb{Z}_7$.\n",
    "2. What is the order of the group? (Hint: Do not miss the identity element $O$)\n",
    "3. Given the element $\\alpha = (0,3)$, determine the order of $\\alpha$. Is $\\alpha$ a primitive element?"
   ]
  },
  {
   "cell_type": "code",
   "execution_count": null,
   "metadata": {},
   "outputs": [],
   "source": []
  },
  {
   "cell_type": "markdown",
   "metadata": {},
   "source": [
    "## 5 Diffie-Hellman using ECC\n",
    "Alice and Bob agree to use the elliptic curve $E\\ :\\ y^2 = x^3 +x+1$ and point $P = (5,4) \\in E$. Alice chooses her secret number $a = 5$, whereas Bob chooses $b = 7$.\n",
    "\n",
    "\n",
    "__Your Task__: Describe the key agreement protocol step by step using the above assumptions about $a$ and $b$. What is the common secret key?"
   ]
  },
  {
   "cell_type": "code",
   "execution_count": null,
   "metadata": {},
   "outputs": [],
   "source": []
  },
  {
   "cell_type": "markdown",
   "metadata": {},
   "source": [
    "## 6 Elliptic Curve Discrete Logarithm Problem (ECDLP)\n",
    "Assume Mallory intercepts the message $A = (10,6)$ from Alice to Bob and $B = (7,11)$ from Bob to Alice. He also knows the elliptic curve $E\\ :\\ y^2 \\equiv x^3 +2x+2 \\mod 17$, which forms a cyclic group of order 19, and point $P = (5,1)$.\n",
    "\n",
    "__Your Task__: Suppose Mallory wants to know the common key. Describe his steps to find this key!"
   ]
  },
  {
   "cell_type": "code",
   "execution_count": 26,
   "metadata": {},
   "outputs": [
    {
     "data": {
      "text/plain": [
       "1"
      ]
     },
     "execution_count": 26,
     "metadata": {},
     "output_type": "execute_result"
    }
   ],
   "source": [
    "(5**3+10+2)%17"
   ]
  },
  {
   "cell_type": "markdown",
   "metadata": {},
   "source": [
    "$P$ is therefore located on $E$.\n",
    "\n",
    "Mallory now calculates the remainder group, with somethin akin to the square-and-multiply algorithm:\n",
    "$$ 1P = P $$\n",
    "$$ 2P = P + P $$\n",
    "$$ 3P = 2P + P $$\n",
    "$$ 4P = 2P + 2P $$\n",
    "$$ 5P = 4P + P $$\n",
    "$$ \\vdots $$"
   ]
  },
  {
   "cell_type": "code",
   "execution_count": 8,
   "metadata": {},
   "outputs": [
    {
     "name": "stdout",
     "output_type": "stream",
     "text": [
      "(-3.478395061728395, -5.04338134430727)\n"
     ]
    }
   ],
   "source": [
    "def ecc_add(a, b, point_1, point_2):\n",
    "    assert isinstance(point_1, tuple)\n",
    "    assert isinstance(point_2, tuple)\n",
    "    x1,y1 = point_1\n",
    "    x2,y2 = point_2\n",
    "    if (x1 == x2):\n",
    "        if (y1 == -y2):\n",
    "            return (0,0)\n",
    "        if (y1 == y2 and y1 != 0):\n",
    "            s = (3 * x1 ** 2 + a)/(2 * y1)\n",
    "    else:\n",
    "        s = (y2 - y1)/(x2 - x1)\n",
    "    x3 = s ** 2 - x1 - x2\n",
    "    y3 = s * (x1 - x3) - y1\n",
    "    return (x3,y3)\n",
    "\n",
    "def ecc_double(a, b, point):\n",
    "    assert isinstance(point, tuple)\n",
    "    return ecc_add(a, b, point, point)\n",
    "\n",
    "# Test for y^2 = x^3 + 73 (a,b = 1,73), should result in (-3.5555555555, -5.29629629)\n",
    "print(ecc_double(1,73,(2,9)))"
   ]
  },
  {
   "cell_type": "markdown",
   "metadata": {},
   "source": [
    "And as we are computing in a remainder group we have to change our program as follows:"
   ]
  },
  {
   "cell_type": "code",
   "execution_count": 16,
   "metadata": {},
   "outputs": [
    {
     "name": "stdout",
     "output_type": "stream",
     "text": [
      "Test should result in (4,2): (4, 2)\n"
     ]
    },
    {
     "ename": "Exception",
     "evalue": "modular inverse does not exist",
     "output_type": "error",
     "traceback": [
      "\u001b[1;31m---------------------------------------------------------------------------\u001b[0m",
      "\u001b[1;31mException\u001b[0m                                 Traceback (most recent call last)",
      "\u001b[1;32m<ipython-input-16-b73a99ce81a5>\u001b[0m in \u001b[0;36m<module>\u001b[1;34m\u001b[0m\n\u001b[0;32m     41\u001b[0m \u001b[0mP\u001b[0m \u001b[1;33m=\u001b[0m \u001b[1;33m(\u001b[0m\u001b[1;36m5\u001b[0m\u001b[1;33m,\u001b[0m\u001b[1;36m1\u001b[0m\u001b[1;33m)\u001b[0m\u001b[1;33m\u001b[0m\u001b[0m\n\u001b[0;32m     42\u001b[0m \u001b[0mP2\u001b[0m \u001b[1;33m=\u001b[0m \u001b[0mecc_double\u001b[0m\u001b[1;33m(\u001b[0m\u001b[0ma\u001b[0m\u001b[1;33m,\u001b[0m\u001b[0mb\u001b[0m\u001b[1;33m,\u001b[0m\u001b[0mp\u001b[0m\u001b[1;33m,\u001b[0m\u001b[0mP\u001b[0m\u001b[1;33m)\u001b[0m\u001b[1;33m\u001b[0m\u001b[0m\n\u001b[1;32m---> 43\u001b[1;33m \u001b[0mP3\u001b[0m \u001b[1;33m=\u001b[0m \u001b[0mecc_add\u001b[0m\u001b[1;33m(\u001b[0m\u001b[0ma\u001b[0m\u001b[1;33m,\u001b[0m\u001b[0mb\u001b[0m\u001b[1;33m,\u001b[0m\u001b[0mp\u001b[0m\u001b[1;33m,\u001b[0m\u001b[0mP2\u001b[0m\u001b[1;33m,\u001b[0m\u001b[0mP\u001b[0m\u001b[1;33m)\u001b[0m\u001b[1;33m\u001b[0m\u001b[0m\n\u001b[0m\u001b[0;32m     44\u001b[0m \u001b[0mP4\u001b[0m \u001b[1;33m=\u001b[0m \u001b[0mecc_double\u001b[0m\u001b[1;33m(\u001b[0m\u001b[0ma\u001b[0m\u001b[1;33m,\u001b[0m\u001b[0mb\u001b[0m\u001b[1;33m,\u001b[0m\u001b[0mp\u001b[0m\u001b[1;33m,\u001b[0m\u001b[0mP2\u001b[0m\u001b[1;33m)\u001b[0m\u001b[1;33m\u001b[0m\u001b[0m\n\u001b[0;32m     45\u001b[0m \u001b[0mP5\u001b[0m \u001b[1;33m=\u001b[0m \u001b[0mecc_add\u001b[0m\u001b[1;33m(\u001b[0m\u001b[0ma\u001b[0m\u001b[1;33m,\u001b[0m\u001b[0mb\u001b[0m\u001b[1;33m,\u001b[0m\u001b[0mp\u001b[0m\u001b[1;33m,\u001b[0m\u001b[0mP4\u001b[0m\u001b[1;33m,\u001b[0m\u001b[0mP\u001b[0m\u001b[1;33m)\u001b[0m\u001b[1;33m\u001b[0m\u001b[0m\n",
      "\u001b[1;32m<ipython-input-16-b73a99ce81a5>\u001b[0m in \u001b[0;36mecc_add\u001b[1;34m(a, b, p, point_1, point_2)\u001b[0m\n\u001b[0;32m     25\u001b[0m             \u001b[0ms\u001b[0m \u001b[1;33m=\u001b[0m \u001b[1;33m(\u001b[0m\u001b[1;33m(\u001b[0m\u001b[1;36m3\u001b[0m \u001b[1;33m*\u001b[0m \u001b[0mx1\u001b[0m \u001b[1;33m**\u001b[0m \u001b[1;36m2\u001b[0m \u001b[1;33m+\u001b[0m \u001b[0ma\u001b[0m\u001b[1;33m)\u001b[0m \u001b[1;33m*\u001b[0m \u001b[0mmodinv\u001b[0m\u001b[1;33m(\u001b[0m\u001b[1;33m(\u001b[0m\u001b[1;36m2\u001b[0m \u001b[1;33m*\u001b[0m \u001b[0my1\u001b[0m\u001b[1;33m)\u001b[0m\u001b[1;33m,\u001b[0m \u001b[0mp\u001b[0m\u001b[1;33m)\u001b[0m\u001b[1;33m)\u001b[0m \u001b[1;33m%\u001b[0m \u001b[0mp\u001b[0m\u001b[1;33m\u001b[0m\u001b[0m\n\u001b[0;32m     26\u001b[0m     \u001b[1;32melse\u001b[0m\u001b[1;33m:\u001b[0m\u001b[1;33m\u001b[0m\u001b[0m\n\u001b[1;32m---> 27\u001b[1;33m         \u001b[0ms\u001b[0m \u001b[1;33m=\u001b[0m \u001b[1;33m(\u001b[0m\u001b[1;33m(\u001b[0m\u001b[0my2\u001b[0m \u001b[1;33m-\u001b[0m \u001b[0my1\u001b[0m\u001b[1;33m)\u001b[0m\u001b[1;33m*\u001b[0m \u001b[0mmodinv\u001b[0m\u001b[1;33m(\u001b[0m\u001b[1;33m(\u001b[0m\u001b[0mx2\u001b[0m \u001b[1;33m-\u001b[0m \u001b[0mx1\u001b[0m\u001b[1;33m)\u001b[0m\u001b[1;33m,\u001b[0m \u001b[0mp\u001b[0m\u001b[1;33m)\u001b[0m\u001b[1;33m)\u001b[0m \u001b[1;33m%\u001b[0m \u001b[0mp\u001b[0m\u001b[1;33m\u001b[0m\u001b[0m\n\u001b[0m\u001b[0;32m     28\u001b[0m     \u001b[0mx3\u001b[0m \u001b[1;33m=\u001b[0m \u001b[1;33m(\u001b[0m\u001b[0ms\u001b[0m \u001b[1;33m**\u001b[0m \u001b[1;36m2\u001b[0m \u001b[1;33m-\u001b[0m \u001b[0mx1\u001b[0m \u001b[1;33m-\u001b[0m \u001b[0mx2\u001b[0m\u001b[1;33m)\u001b[0m \u001b[1;33m%\u001b[0m \u001b[0mp\u001b[0m\u001b[1;33m\u001b[0m\u001b[0m\n\u001b[0;32m     29\u001b[0m     \u001b[0my3\u001b[0m \u001b[1;33m=\u001b[0m \u001b[1;33m(\u001b[0m\u001b[0ms\u001b[0m \u001b[1;33m*\u001b[0m \u001b[1;33m(\u001b[0m\u001b[0mx1\u001b[0m \u001b[1;33m-\u001b[0m \u001b[0mx3\u001b[0m\u001b[1;33m)\u001b[0m \u001b[1;33m-\u001b[0m \u001b[0my1\u001b[0m\u001b[1;33m)\u001b[0m \u001b[1;33m%\u001b[0m \u001b[0mp\u001b[0m\u001b[1;33m\u001b[0m\u001b[0m\n",
      "\u001b[1;32m<ipython-input-16-b73a99ce81a5>\u001b[0m in \u001b[0;36mmodinv\u001b[1;34m(a, m)\u001b[0m\n\u001b[0;32m     10\u001b[0m     \u001b[0mg\u001b[0m\u001b[1;33m,\u001b[0m \u001b[0mx\u001b[0m\u001b[1;33m,\u001b[0m \u001b[0my\u001b[0m \u001b[1;33m=\u001b[0m \u001b[0megcd\u001b[0m\u001b[1;33m(\u001b[0m\u001b[0ma\u001b[0m\u001b[1;33m,\u001b[0m \u001b[0mm\u001b[0m\u001b[1;33m)\u001b[0m\u001b[1;33m\u001b[0m\u001b[0m\n\u001b[0;32m     11\u001b[0m     \u001b[1;32mif\u001b[0m \u001b[0mg\u001b[0m \u001b[1;33m!=\u001b[0m \u001b[1;36m1\u001b[0m\u001b[1;33m:\u001b[0m\u001b[1;33m\u001b[0m\u001b[0m\n\u001b[1;32m---> 12\u001b[1;33m         \u001b[1;32mraise\u001b[0m \u001b[0mException\u001b[0m\u001b[1;33m(\u001b[0m\u001b[1;34m'modular inverse does not exist'\u001b[0m\u001b[1;33m)\u001b[0m\u001b[1;33m\u001b[0m\u001b[0m\n\u001b[0m\u001b[0;32m     13\u001b[0m     \u001b[1;32melse\u001b[0m\u001b[1;33m:\u001b[0m\u001b[1;33m\u001b[0m\u001b[0m\n\u001b[0;32m     14\u001b[0m         \u001b[1;32mreturn\u001b[0m \u001b[0mx\u001b[0m \u001b[1;33m%\u001b[0m \u001b[0mm\u001b[0m\u001b[1;33m\u001b[0m\u001b[0m\n",
      "\u001b[1;31mException\u001b[0m: modular inverse does not exist"
     ]
    }
   ],
   "source": [
    "# Source: https://stackoverflow.com/questions/4798654/modular-multiplicative-inverse-function-in-python\n",
    "def egcd(a, b):\n",
    "    if a == 0:\n",
    "        return (b, 0, 1)\n",
    "    else:\n",
    "        g, y, x = egcd(b % a, a)\n",
    "        return (g, x - (b // a) * y, y)\n",
    "\n",
    "def modinv(a, m):\n",
    "    g, x, y = egcd(a, m)\n",
    "    if g != 1:\n",
    "        raise Exception('modular inverse does not exist')\n",
    "    else:\n",
    "        return x % m\n",
    "\n",
    "def ecc_add(a, b, p, point_1, point_2):\n",
    "    assert isinstance(point_1, tuple)\n",
    "    assert isinstance(point_2, tuple)\n",
    "    x1,y1 = point_1\n",
    "    x2,y2 = point_2\n",
    "    if (x1 == x2):\n",
    "        if (y1 == -y2):\n",
    "            return (0,0)\n",
    "        if (y1 == y2 and y1 != 0):\n",
    "            s = ((3 * x1 ** 2 + a) * modinv((2 * y1), p)) % p\n",
    "    else:\n",
    "        s = ((y2 - y1)* modinv((x2 - x1), p)) % p\n",
    "    x3 = (s ** 2 - x1 - x2) % p\n",
    "    y3 = (s * (x1 - x3) - y1) % p\n",
    "    return (x3,y3)\n",
    "\n",
    "def ecc_double(a, b, p, point):\n",
    "    assert isinstance(point, tuple)\n",
    "    return ecc_add(a, b, p, point, point)\n",
    "\n",
    "# Test for y^2 = x^3 + x + 1 mod 5 (a,b = 1,1), and Generator (0,1) should result in (4,2)\n",
    "print(\"Test should result in (4,2): \" + str(ecc_double(1,1,5,(0,1))))\n",
    "\n",
    "a,b,p = 2,2,17\n",
    "\n",
    "P = (5,1)\n",
    "P2 = ecc_double(a,b,p,P)\n",
    "P3 = ecc_add(a,b,p,P2,P)\n",
    "P4 = ecc_double(a,b,p,P2)\n",
    "P5 = ecc_add(a,b,p,P4,P)\n",
    "P6 = ecc_double(a,b,p,P3)\n",
    "P7 = ecc_add(a,b,p,P6,P)\n",
    "P8 = ecc_double(a,b,p,P4)\n",
    "P9 = ecc_add(a,b,p,P8,P)\n",
    "P10 = ecc_double(a,b,p,P5)\n",
    "P11 = ecc_add(a,b,p,P10,P)\n",
    "P12 = ecc_double(a,b,p,P6)\n",
    "P13 = ecc_add(a,b,p,P12,P)\n",
    "P14 = ecc_double(a,b,p,P7)\n",
    "P15 = ecc_add(a,b,p,P14,P)\n",
    "P16 = ecc_double(a,b,p,P8)\n",
    "P17 = ecc_add(a,b,p,P16,P)\n",
    "P18 = ecc_double(a,b,p,P9)\n",
    "P19 = ecc_add(a,b,p,P8,P)\n",
    "P20 = ecc_double(a,b,p,P10)\n",
    "P21 = ecc_add(a,b,p,P20,P)\n",
    "\n",
    "print(\"1*P: \" + str(P))\n",
    "print(\"2*P: \" + str(P2))\n",
    "print(\"3*P: \" + str(P3))\n",
    "print(\"4*P: \" + str(P4))\n",
    "print(\"5*P: \" + str(P5))\n",
    "print(\"6*P: \" + str(P6))\n",
    "print(\"7*P: \" + str(P7))\n",
    "print(\"8*P: \" + str(P8))\n",
    "print(\"9*P: \" + str(P9))\n",
    "print(\"10*P: \" + str(P10))\n",
    "print(\"11*P: \" + str(P11))\n",
    "print(\"12*P: \" + str(P12))\n",
    "print(\"13*P: \" + str(P13))\n",
    "print(\"14*P: \" + str(P14))\n",
    "print(\"15*P: \" + str(P15))\n",
    "print(\"16*P: \" + str(P16))\n",
    "print(\"17*P: \" + str(P17))\n",
    "print(\"18*P: \" + str(P18))\n",
    "print(\"19*P: \" + str(P19))\n",
    "print(\"20*P: \" + str(P20))\n",
    "print(\"21*P: \" + str(P21))"
   ]
  },
  {
   "cell_type": "code",
   "execution_count": null,
   "metadata": {},
   "outputs": [],
   "source": []
  }
 ],
 "metadata": {
  "kernelspec": {
   "display_name": "Python 3",
   "language": "python",
   "name": "python3"
  },
  "language_info": {
   "codemirror_mode": {
    "name": "ipython",
    "version": 3
   },
   "file_extension": ".py",
   "mimetype": "text/x-python",
   "name": "python",
   "nbconvert_exporter": "python",
   "pygments_lexer": "ipython3",
   "version": "3.7.0"
  }
 },
 "nbformat": 4,
 "nbformat_minor": 2
}
