{
 "cells": [
  {
   "cell_type": "markdown",
   "metadata": {},
   "source": [
    "# Mathematical Basis II"
   ]
  },
  {
   "cell_type": "markdown",
   "metadata": {},
   "source": [
    "## 1 Generator or primitive element of a group\n",
    "\n",
    "Is 3 a generator of $(\\mathbb{Z}*_{11};·)$. Find a generator of $(\\mathbb{Z}*_{11};·)$."
   ]
  },
  {
   "cell_type": "markdown",
   "metadata": {},
   "source": [
    "$3^1=3; \\> 3^2=9; \\> 3^3=6 \\mod 11; \\> 3^4=4 \\mod 11; \\> 3^5=1; \\> 3^6=3=3^1;$ -> **not cyclic**"
   ]
  },
  {
   "cell_type": "markdown",
   "metadata": {},
   "source": [
    "$2^1=2; \\> 2^2=4; \\> 2^3=8; \\> 2^4=5 \\mod 11; \\> 2^5=10; \\> 2^6=9; \\> 2^7=7; \\> 2^8=3; \\> 2^9=6; \\> 2^{10}=1; \\> 2^{11}=2=2^1;$ -> **cyclic**\n",
    "\n",
    "this will repeat 2,4,8,5,10,9,7,3,6,1,2..."
   ]
  },
  {
   "cell_type": "markdown",
   "metadata": {},
   "source": [
    "## 2 Field\n",
    "Show that if $p$ is prime, then $\\mathbb{Z}_p$ together with addition and multiplication modulo $p$ constitues\n",
    "a field. Check whether the rules (i)-(ix) hold?"
   ]
  },
  {
   "cell_type": "markdown",
   "metadata": {},
   "source": [
    "We check if the structure $(\\mathbb{Z}_p, +, \\cdot)$ is a field:\n",
    "\n",
    "(i) $(a+b)+c = a+(b+c) \\text{ mod } p$ \n",
    "\n",
    "(ii) $a+b = b+a \\text{ mod } p$\n",
    "\n",
    "(iii) $a + 0 = a \\text{ mod } p$\n",
    "\n",
    "(iv) $a + (-a) = 0 \\text{ mod } p$\n",
    "\n",
    "(v) $(a\\cdot b)\\cdot c = a\\cdot(b\\cdot c)\\text{ mod } p$\n",
    "\n",
    "(vi) $ a\\cdot b = b\\cdot a \\text{ mod } p$\n",
    "\n",
    "(vii) $ a\\cdot 1 = a\\text{ mod } p$\n",
    "\n",
    "(i)-(vii) are true in $\\mathbb{Z}$, hence also in $\\mathbb{Z}_p$\n",
    "\n",
    "(viii) $ a\\cdot a^{-1} = 1  \\text{ mod } p$\n",
    "\n",
    "$a^{-1}$ is the multiplicative inverse of $a$, it exists because $gcd(a, p)=1$ because $p$ is prime and $a<p$ cause $a\\in \\mathbb{Z}_p$.\n",
    "\n",
    "(ix) $ a\\cdot (b+c) = a\\cdot b + a\\cdot c  \\text{ mod } p$\n",
    "\n",
    "Follows from the commutativity from $\\mathbb{Z}_p$. Thus we follow that $\\mathbb{Z}_p$ is a field. Which we check with the slides from the input.\n",
    "![Fields summary](img/Fields_Summary.png)"
   ]
  },
  {
   "cell_type": "markdown",
   "metadata": {},
   "source": [
    "## 3 The Galois Field $GF(2^2)$"
   ]
  },
  {
   "cell_type": "markdown",
   "metadata": {},
   "source": [
    "A theorem says that there is a finite filed with $2^2 = 4$ elements, because 4 is the 2nd power of\n",
    "the prime number 2. Let’s call this field $GF(2^2)$. Let’s represent the elements by bitstrings of\n",
    "length two: 00, 01, 10, and 11. Assume 00 is the neutral element with respect to addition and\n",
    "01 the neutral element with respect to multiplication.\n",
    "\n",
    "Complete the following tables for addition (left) and multiplication (right):"
   ]
  },
  {
   "cell_type": "markdown",
   "metadata": {},
   "source": [
    "| +  | 00  | 01  | 10  | 11  |\n",
    "|----|---|----|----|----|\n",
    "| 00  | 00  | 01  | 10  | 11  |\n",
    "|01|01|10|11|00|\n",
    "|10|10|11|00|01|\n",
    "|11|11|00|01|10|\n",
    "\n",
    "|·| 00 |01 |10 |11|\n",
    "|----|---|----|----|----|\n",
    "|00 |00 |00 |00 |00|\n",
    "|01 |00 |01 |10 |11|\n",
    "|10 |00 |10|11|01|\n",
    "|11 |00 |11|01|10|"
   ]
  },
  {
   "cell_type": "markdown",
   "metadata": {},
   "source": [
    "Note: in order to have inverse elements, the tables must be latin squares, i.e. each element\n",
    "occurs exactly once in each row and exactly once in each column. It helps to watch the Youtube\n",
    "video *Was sind Galoiskörper?*"
   ]
  },
  {
   "cell_type": "markdown",
   "metadata": {},
   "source": [
    "## 4 Legendre symbol\n",
    "\n",
    "Compute $(\\frac{713}{1009})$ using the rules on slides of the presentation (Solution is −1)."
   ]
  },
  {
   "cell_type": "markdown",
   "metadata": {},
   "source": [
    "1009 is a prime, but 713 isn't, so we split it to get prime multplicatives of 713.\n",
    "we find\n",
    "\n",
    "$(\\frac{713}{1009})=(\\frac{31}{1009})(\\frac{23}{1009})$\n",
    "\n",
    "using the law of quadratic reciprocity,\n",
    "\n",
    "$(\\frac{31}{1009})(\\frac{1009}{31})=(-1)^{(1009-1)(31-1)/4}=(-1)^{(1008)(30)/4}=(-1)^{7560}=1$ rule (7)\n",
    "\n",
    "$(\\frac{23}{1009})(\\frac{1009}{23})=(-1)^{(1009-1)(23-1)/4}=(-1)^{(1008)(22)/4}=(-1)^{5544}=1$ rule (7)\n",
    "\n",
    "Thus in both cases the symbols have the same sign. Now,\n",
    "\n",
    "$1009 ≡ 17 \\mod 31$, which is a non-quadratic residue mod 31\n",
    "\n",
    "$1009 ≡ 20 \\mod 23$, which is a non-quadratic residue mod 23\n",
    "\n",
    "\n",
    "Therefore,\n",
    "\n",
    "$(\\frac{713}{1009})=(\\frac{31}{1009})(\\frac{23}{1009}) = (\\frac{1009}{31})(\\frac{1009}{23}) = -1 * -1 = 1$\n",
    "\n",
    "**713 is a quadratic residue module 1009.**"
   ]
  },
  {
   "cell_type": "code",
   "execution_count": 4,
   "metadata": {},
   "outputs": [],
   "source": [
    "def squarerootmod(quadratic, mod):\n",
    "    for i in range (1,mod):\n",
    "        if pow(i,2,mod)==quadratic:\n",
    "            return i\n",
    "    return -1"
   ]
  },
  {
   "cell_type": "code",
   "execution_count": 5,
   "metadata": {},
   "outputs": [
    {
     "data": {
      "text/plain": [
       "210"
      ]
     },
     "execution_count": 5,
     "metadata": {},
     "output_type": "execute_result"
    }
   ],
   "source": [
    "squarerootmod(713,1009)"
   ]
  },
  {
   "cell_type": "markdown",
   "metadata": {},
   "source": [
    "## 5 Quadratic congruence\n",
    "\n",
    "Does the linear congruence $x^2 ≡ 446 (mod 1129)$ have a solution x? You need not compute\n",
    "x; just decide, if a solution exists. Use the Legendre symbol $(\\frac{446}{1129})$ to answer this question!\n",
    "(Solution is YES)."
   ]
  },
  {
   "cell_type": "markdown",
   "metadata": {},
   "source": [
    "The linear congruence $x^2 \\equiv 446 (\\text{ mod } 1129)$ has a solution if 446 is a quadratic residue (mod p). If that's true then Legendre symbol must be one.\n",
    "\n",
    "$(\\frac{446}{1129})=(\\frac{223}{1129})(\\frac{2}{1129})$ | Rule (2)\n",
    "\n",
    "$(\\frac{223}{1129})(\\frac{2}{1129})=(\\frac{223}{1129})(-1)^{\\frac{1129-1}{8}}$ | Rule (6)\n",
    "\n",
    "$(\\frac{223}{1129})(\\frac{2}{1129})=(\\frac{223}{1129})\\cdot 1$\n",
    "\n",
    "$(\\frac{223}{1129})(\\frac{1129}{223})=(-1)^{\\frac{223-1}{2}\\cdot{\\frac{1129-1}{2}}}$ | Rule 7\n",
    "\n",
    "$(-1)^{\\frac{223-1}{2}\\cdot{\\frac{1129-1}{2}}}=1$"
   ]
  },
  {
   "cell_type": "markdown",
   "metadata": {},
   "source": [
    "## 6 Quadratic congruence\n",
    "Implement the square and multiply algorithm and check, if it works reasonable even the numbers have 100 or more digits. Compare Your results with the pow function in python."
   ]
  },
  {
   "cell_type": "code",
   "execution_count": 25,
   "metadata": {},
   "outputs": [],
   "source": [
    "def squareAndMultiply(a,e,m):\n",
    "    binexp = []\n",
    "    \n",
    "    while e != 0:\n",
    "        binexp.append(e % 2)\n",
    "        e = e // 2\n",
    "    \n",
    "    res = 1\n",
    "    binexp.reverse()\n",
    "    \n",
    "    for i in binexp:\n",
    "        if i == 0:\n",
    "            res = (res*res) % m\n",
    "        else:\n",
    "            res = (res*res*a) % m\n",
    "    \n",
    "    return res"
   ]
  },
  {
   "cell_type": "code",
   "execution_count": 26,
   "metadata": {},
   "outputs": [
    {
     "name": "stdout",
     "output_type": "stream",
     "text": [
      "\n",
      "result: 3\n",
      "pow: 3\n"
     ]
    }
   ],
   "source": [
    "print (\"\\nresult: \" + str(squareAndMultiply(3^300,17^439,13)))\n",
    "print(\"pow: \" + str(pow(3^300,17^439)%13))"
   ]
  },
  {
   "cell_type": "markdown",
   "metadata": {},
   "source": [
    "## 7 Bases $a$ to which $45$ is a Fermat pseudoprimes ($< 45$)\n",
    "Show, that the bases $a$ to which 45 is a Fermat pseudoprime are 1; 8; 17; 19; 26; 28; 37; 44."
   ]
  },
  {
   "cell_type": "code",
   "execution_count": 14,
   "metadata": {
    "scrolled": true
   },
   "outputs": [
    {
     "name": "stdout",
     "output_type": "stream",
     "text": [
      "1\n",
      "8\n",
      "17\n",
      "19\n",
      "26\n",
      "28\n",
      "37\n",
      "44\n"
     ]
    }
   ],
   "source": [
    "for a in range(1,45):\n",
    "    if pow(a,45-1,45)==1: print(a)"
   ]
  },
  {
   "cell_type": "markdown",
   "metadata": {},
   "source": [
    "## 8 Fermat pseudoprimes to base $a = 2$\n",
    "A Fermat pseudoprime to base $a$ is a number $p$ such that $a^{p−1} ≡ 1 (mod p)$. Compute, using\n",
    "appropriate python code, all Fermat pseudoprimes to base $2$ for $2 < p ≤ 2000$."
   ]
  },
  {
   "cell_type": "code",
   "execution_count": 1,
   "metadata": {
    "scrolled": true
   },
   "outputs": [
    {
     "name": "stdout",
     "output_type": "stream",
     "text": [
      "all probalbe primes < 2000\n",
      "[3, 5, 7, 11, 13, 17, 19, 23, 29, 31, 37, 41, 43, 47, 53, 59, 61, 67, 71, 73, 79, 83, 89, 97, 101, 103, 107, 109, 113, 127, 131, 137, 139, 149, 151, 157, 163, 167, 173, 179, 181, 191, 193, 197, 199, 211, 223, 227, 229, 233, 239, 241, 251, 257, 263, 269, 271, 277, 281, 283, 293, 307, 311, 313, 317, 331, 337, 341, 347, 349, 353, 359, 367, 373, 379, 383, 389, 397, 401, 409, 419, 421, 431, 433, 439, 443, 449, 457, 461, 463, 467, 479, 487, 491, 499, 503, 509, 521, 523, 541, 547, 557, 561, 563, 569, 571, 577, 587, 593, 599, 601, 607, 613, 617, 619, 631, 641, 643, 645, 647, 653, 659, 661, 673, 677, 683, 691, 701, 709, 719, 727, 733, 739, 743, 751, 757, 761, 769, 773, 787, 797, 809, 811, 821, 823, 827, 829, 839, 853, 857, 859, 863, 877, 881, 883, 887, 907, 911, 919, 929, 937, 941, 947, 953, 967, 971, 977, 983, 991, 997, 1009, 1013, 1019, 1021, 1031, 1033, 1039, 1049, 1051, 1061, 1063, 1069, 1087, 1091, 1093, 1097, 1103, 1105, 1109, 1117, 1123, 1129, 1151, 1153, 1163, 1171, 1181, 1187, 1193, 1201, 1213, 1217, 1223, 1229, 1231, 1237, 1249, 1259, 1277, 1279, 1283, 1289, 1291, 1297, 1301, 1303, 1307, 1319, 1321, 1327, 1361, 1367, 1373, 1381, 1387, 1399, 1409, 1423, 1427, 1429, 1433, 1439, 1447, 1451, 1453, 1459, 1471, 1481, 1483, 1487, 1489, 1493, 1499, 1511, 1523, 1531, 1543, 1549, 1553, 1559, 1567, 1571, 1579, 1583, 1597, 1601, 1607, 1609, 1613, 1619, 1621, 1627, 1637, 1657, 1663, 1667, 1669, 1693, 1697, 1699, 1709, 1721, 1723, 1729, 1733, 1741, 1747, 1753, 1759, 1777, 1783, 1787, 1789, 1801, 1811, 1823, 1831, 1847, 1861, 1867, 1871, 1873, 1877, 1879, 1889, 1901, 1905, 1907, 1913, 1931, 1933, 1949, 1951, 1973, 1979, 1987, 1993, 1997, 1999]\n",
      "\n",
      "pseudo primes to base 2\n",
      "[341, 561, 645, 1105, 1387, 1729, 1905]\n"
     ]
    }
   ],
   "source": [
    "from random import randint\n",
    "\n",
    "# Thanks to jaunerc for this MillerRabin test\n",
    "# https://github.com/binerdy/MOVK/blob/master/sw2_mathematical_basis/loes_jaunerc/sw2_math_basic2.ipynb\n",
    "def MillerRabin(p):\n",
    "    d = p-1\n",
    "    r = 0\n",
    "    while d % 2 == 0:\n",
    "        d //= 2\n",
    "        r += 1\n",
    "    a = randint(2, p-1)\n",
    "    x = (a ** d) % p\n",
    "    if x == 1 or x == p-1:\n",
    "        return True\n",
    "    while r > 1:\n",
    "        x = (x * x) % p\n",
    "        if x == 1:\n",
    "            return False\n",
    "        if x == p-1:\n",
    "            return True\n",
    "        r -= 1\n",
    "    return False\n",
    "\n",
    "def MillerRabinTest(p, k=10):\n",
    "    for i in range(0,k):\n",
    "        if not MillerRabin(p):\n",
    "            return False\n",
    "    return True\n",
    "\n",
    "probablePrimes = [p for p in range(2, 2000) if (2**(p-1)%p == 1)]\n",
    "pseudoPrimes = [probablePrimes[p] for p in range(0, len(probablePrimes)) if not MillerRabinTest(probablePrimes[p])]\n",
    "\n",
    "print(\"all probalbe primes < 2000\")\n",
    "print(probablePrimes)\n",
    "print()\n",
    "print(\"pseudo primes to base 2\")\n",
    "print(pseudoPrimes)"
   ]
  },
  {
   "cell_type": "markdown",
   "metadata": {},
   "source": [
    "## 9 Prime number tests\n",
    "Verify, that\n",
    "\n",
    "$2^{561} ≡ 2 mod 561$\n",
    "\n",
    "$3^{561} ≡ 3 mod 561$\n",
    "\n",
    "$4^{561} ≡ 4 mod 561$\n",
    "\n",
    "...\n",
    "\n",
    "$560^{561} ≡ 560 mod 561$"
   ]
  },
  {
   "cell_type": "code",
   "execution_count": 27,
   "metadata": {},
   "outputs": [
    {
     "name": "stdout",
     "output_type": "stream",
     "text": [
      "True\n"
     ]
    }
   ],
   "source": [
    "def Test():\n",
    "    for i in range(2, 561):\n",
    "        if squareAndMultiply(i,561,561) != i:\n",
    "            return False\n",
    "\n",
    "    return True\n",
    "\n",
    "print(Test())"
   ]
  },
  {
   "cell_type": "code",
   "execution_count": null,
   "metadata": {},
   "outputs": [],
   "source": []
  }
 ],
 "metadata": {
  "kernelspec": {
   "display_name": "Python 3",
   "language": "python",
   "name": "python3"
  },
  "language_info": {
   "codemirror_mode": {
    "name": "ipython",
    "version": 3
   },
   "file_extension": ".py",
   "mimetype": "text/x-python",
   "name": "python",
   "nbconvert_exporter": "python",
   "pygments_lexer": "ipython3",
   "version": "3.6.5"
  }
 },
 "nbformat": 4,
 "nbformat_minor": 2
}
