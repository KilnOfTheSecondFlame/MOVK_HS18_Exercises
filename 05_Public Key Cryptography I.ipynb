{
 "cells": [
  {
   "cell_type": "markdown",
   "metadata": {},
   "source": [
    "# Public Key Cryptography I\n",
    "\n",
    "## 1 Shamir’s three-pass protocol\n",
    "\n",
    "Alice and Bob want the implement Shamir’s three-pass protocol using the Vernam cipher, i.e. one-time pad. This is supposed to provide perfect secrecy. Is the following protocol secure?\n",
    "\n",
    "![Vernam ciphers (otp) commute!](img/VernamCiphers.png)\n",
    "\n",
    "__Your Task__: Can You compute the message? Make an example with $M = 010110111101$,\n",
    "$K_A = 101101110100$, and $K_B = 001011011011$."
   ]
  },
  {
   "cell_type": "code",
   "execution_count": null,
   "metadata": {},
   "outputs": [],
   "source": []
  },
  {
   "cell_type": "markdown",
   "metadata": {},
   "source": [
    "## 2 Diffie Hellman\n",
    "\n",
    "_Alice_ and _Bob_ agree to use $n = 13$ and $e = 11$. Alice chooses her secret number $a = 5$, whereas Bob chooses $b = 7$.\n",
    "\n",
    "__Your Task__: What are the requirements for $n$ and $e$? Are they fullfilled? Describe the key agreement protocol step by step using the above assumptions about a and b. What is the common secret key?"
   ]
  },
  {
   "cell_type": "markdown",
   "metadata": {},
   "source": [
    "$e$ must be a generator for $\\mathbb{Z}_n^*$, this is true:"
   ]
  },
  {
   "cell_type": "code",
   "execution_count": 1,
   "metadata": {},
   "outputs": [
    {
     "name": "stdout",
     "output_type": "stream",
     "text": [
      "[1, 2, 3, 4, 5, 6, 7, 8, 9, 10, 11, 12]\n"
     ]
    }
   ],
   "source": [
    "Zp = []\n",
    "for i in range(1,13):\n",
    "    Zp.append(11**i%13)\n",
    "\n",
    "Zp.sort()\n",
    "print(Zp)"
   ]
  },
  {
   "cell_type": "code",
   "execution_count": 2,
   "metadata": {},
   "outputs": [
    {
     "name": "stdout",
     "output_type": "stream",
     "text": [
      "7\n",
      "2\n",
      "6\n"
     ]
    }
   ],
   "source": [
    "print(11**5%13)\n",
    "print(11**7%13)\n",
    "print(11**(5*7)%13)"
   ]
  },
  {
   "cell_type": "markdown",
   "metadata": {},
   "source": [
    "Alice sends $e^a \\mod n$ to Bob\n",
    "\n",
    "$$ 11^5 \\mod 13 = 7 $$\n",
    "\n",
    "Bob sends $e^b \\mod n$ to Alice\n",
    "$$ 11^7 \\mod 13 = 2 $$\n",
    "\n",
    "Both of them compute the secret key k:\n",
    "$$ 7^7 \\mod 13 = 2^5 \\mod 13 = 11^{5\\cdot 7} \\mod 13 = 6 $$"
   ]
  },
  {
   "cell_type": "markdown",
   "metadata": {},
   "source": [
    "## 3 Discrete Logarithm Problem\n",
    "\n",
    "Assume Mallory intercepts the message $A = 9$ from Alice to Bob and B = 3 from Bob to Alice.\n",
    "He also knows $n = 13$ and $g = 11$.\n",
    "\n",
    "__Your Task__: Suppose Mallory wants to know the common key. Describe his steps to find this key!"
   ]
  },
  {
   "cell_type": "code",
   "execution_count": null,
   "metadata": {},
   "outputs": [],
   "source": []
  },
  {
   "cell_type": "markdown",
   "metadata": {},
   "source": [
    "## 4 Attack on textbook RSA\n",
    "\n",
    "The public key $(n,e) = (2537,13)$ was used to encrypt the plaintext $M$. Eve intercepts the ciphertext $C = 2081$.\n",
    "\n",
    "__Your Task__: Show how Eve computes the plaintext $M$!"
   ]
  },
  {
   "cell_type": "code",
   "execution_count": null,
   "metadata": {},
   "outputs": [],
   "source": []
  },
  {
   "cell_type": "markdown",
   "metadata": {},
   "source": [
    "## 5 Attack on textbook RSA — small exponent e\n",
    "\n",
    "Frequently, the exponent $e$ in the public key $(n,e)$ is choosen very small, say $e = 3$. Hence, encryption of $m$ is very fast\n",
    "\n",
    "$$ c = m^3 \\mod n$$\n",
    "\n",
    "because modular exponentiation with small exponent is fast.\n",
    "\n",
    "Unfortunately, this is is bad, if a small message, $m < n^{\\frac{1}{3}}$ is encrypted, because there is no modular reduction and the attacker only has to compute the cubic root of $c$.\n",
    "\n",
    "In the preceding exercise we constructed an attack which works for arbitrary messages $m, (1 < m < n−2)$. To this end, we assume $e = 3$ and send the same message to three people with public keys $(n_1 ,e), (n_2 ,e)$, and $(n_3 ,e)$:\n",
    "\n",
    "$$ c_1 = m^3 \\mod n_1,\\ c_2 = m^3 \\mod n_2,\\ c_3 = m^3 \\mod n_3 .$$\n",
    "\n",
    "Furthermore we assume, that the moduli $n_1, n_2$, and $n_3$ are pairwise co-prime, i.e. $\\gcd(n_i ,n_j)=1,\\ \n",
    "for\\ i \\neq j$.\n",
    "\n",
    "According to the chinese remainder theorem (CRT), there is a solution to these three linear congruences\n",
    "\n",
    "$$ c_1 = m^3 \\mod n_1,\\ c_2 = m^3 \\mod n_2,\\ c_3 = m^3 \\mod n_3 .$$\n",
    "\n",
    "First let $n = n_1 \\cdot n_2 \\cdot n_3$ and\n",
    "\n",
    "$$ N_1 =\\frac{n}{n_1}=n_2n_3,\\ \\ N_2 =\\frac{n}{n_2}=n_1n_3, \\ \\  N_3 =\\frac{n}{n_3}=n_1n_2$$\n",
    "\n",
    "Because $n_i$ and $n_j$ are co-prime if $i \\neq j$, it follows that $\\gcd(n_i,N_i) = 1$. Consequently, we can compute the (multiplicative) inverse $y_i$ of $N_i$ modulo $n_i$ such that\n",
    "\n",
    "$$ N_1 y_1 \\equiv 1\\ (\\text{mod}\\ n_1 ),\\ N_2 y_2 \\equiv 1\\ (\\text{mod}\\ n_2 ),\\ N_3 y_3 \\equiv 1\\ (\\text{mod}\\ n_3 ) .$$\n",
    "\n",
    "Then the simultaneous solution of the system of linear congruences is\n",
    "\n",
    "$$ m^3 =\\sum_{i=1}^{3}c_i N_i y_i = c_1 N_1 y_1 +c_2 N_2 y_2 + c_3 N_3 y_3 .$$\n",
    "\n",
    "Here $m^3$ is unique up to a multiple of $n_1 n_2 n_3$. Because $m^3$ is typically smaller than $n_1 n_2 n_3$ we can just take the cube root of $m^3$ to find $m$.\n",
    "\n",
    "\n",
    "__Your Task__: Assume the message $m$ is sent to 3 different people using textbook RSA, with moduli $n_1 = 377,\\ n_2 = 391$, and $n_3 = 589$. You get hold of the corresponding ciphertexts\n",
    "\n",
    "$$330 = m^3 \\mod 377$$\n",
    "$$34 = m^3 \\mod 391$$\n",
    "$$419 = m^3 \\mod 589$$\n",
    "\n",
    "Compute $m =\\sqrt[3]{x}$ using the CRT, where $x = m^3$ satisfies the system of linear congruences\n",
    "\n",
    "$$ x \\equiv 330 \\mod 377 $$\n",
    "$$ x \\equiv 34  \\mod 391 $$\n",
    "$$ x \\equiv 419 \\mod 589 $$\n",
    "\n",
    "Use python in a Jupyter notebook. Use the (extended) Euklidean algorithm to compute the inverses and find or invent a python code, which implements the CRT."
   ]
  },
  {
   "cell_type": "code",
   "execution_count": 37,
   "metadata": {},
   "outputs": [
    {
     "name": "stdout",
     "output_type": "stream",
     "text": [
      "330.0\n",
      "34.0\n",
      "419.0\n",
      "3924.1905678776743\n"
     ]
    }
   ],
   "source": [
    "def extended_euclidian_algorithm(a, b):\n",
    "    if (a>0 and b>0):\n",
    "        x,y = 0, 0\n",
    "        gcd = 0\n",
    "        s = [1, 0]\n",
    "        t = [0, 1]\n",
    "        q = [0,0]\n",
    "        if (b>a):\n",
    "            r = [b,a]\n",
    "        else:\n",
    "            r = [a,b]\n",
    "        i = 1\n",
    "        while (r[i] != 0):\n",
    "            # Get the quotient and remainder\n",
    "            q_i, r_i = divmod(r[i-1], r[i])\n",
    "            q.append(q_i)\n",
    "            r.append(r_i)\n",
    "            s.append(s[i-1] - q[i+1] * s[i])\n",
    "            t.append(t[i-1] - q[i+1] * t[i])\n",
    "            i = i+1\n",
    "        if (b>a):\n",
    "            gcd, x, y = r[i-1], t[i-1], s[i-1]\n",
    "        else:\n",
    "            gcd, x, y = r[i-1], s[i-1], t[i-1]\n",
    "    else:\n",
    "        gcd, x, y = 0,0,0\n",
    "    return gcd,x,y\n",
    "\n",
    "def chinese_remainder_theorem(remainder_1, modulo_1, remainder_2, modulo_2, remainder_3, modulo_3):\n",
    "    m = modulo_1 * modulo_2 * modulo_3\n",
    "    M_1 = m/modulo_1\n",
    "    M_2 = m/modulo_2\n",
    "    M_3 = m/modulo_3\n",
    "    _,_,d_1 = extended_euclidian_algorithm(modulo_1, M_1)\n",
    "    if (d_1<0):\n",
    "        d_1 = d_1 + modulo_1\n",
    "    _,_,d_2 = extended_euclidian_algorithm(modulo_2, M_2)\n",
    "    if (d_2<0):\n",
    "        d_2 = d_2 + modulo_2\n",
    "    _,_,d_3 = extended_euclidian_algorithm(modulo_3, M_3)\n",
    "    if (d_3<0):\n",
    "        d_3 = d_3 + modulo_3\n",
    "    return remainder_1*M_1*d_1 + remainder_2*M_2*d_2 + remainder_3*M_3*d_3\n",
    "\n",
    "m3 = chinese_remainder_theorem(330, 377, 34, 391, 419, 589)\n",
    "print(m3 % 377)\n",
    "print(m3 % 391)\n",
    "print(m3 % 589)\n",
    "print(m3 ** (1. /3))"
   ]
  },
  {
   "cell_type": "markdown",
   "metadata": {},
   "source": [
    "## 6 Attack on textbook RSA — common module n\n",
    "\n",
    "Suppose the CTO of a company wants that all employees use the same module $n$. The individual employees have pairwise different $(e_i , d_i )$. Suppose, two employees $A$ and $B$ have the public keys $(n,e_A)$ and $(n,e_B)$ where $\\gcd(e_A,e_B) = 1$.\n",
    "\n",
    "Now the administration sends the encrypted message $m$ to the two employees\n",
    "\n",
    "$$c_A = m^{e_A} \\mod n $$\n",
    "$$ c_B = m^{e_B} \\mod n$$\n",
    "\n",
    "We will now show, that Eve is able to compute $m$ if she knows the two ciphertexts $c_A$ and $c_B$. She first computes $a$ and $b$ such that\n",
    "\n",
    "$$ae_A +be_B = 1$$\n",
    "\n",
    "She does it using the extended Euclidean algorithm which works because $\\gcd(e_A,e_B)=1$. Then she computes\n",
    "\n",
    "$$ c_A^{a}c_B^{b} \\equiv (m^{e_A})^a (m^{e_B})^b \\equiv m^{ae_A +be_B} \\equiv m^1 \\equiv m$$\n",
    "\n",
    "Hence, as promised, she can compute $m$.\n",
    "\n",
    "__Your Task__: Design a example with small numbers which demonstrates, this attack! Assume $n = 11\\cdot 13$, i.e. $p = 11$ and $q = 13$."
   ]
  },
  {
   "cell_type": "code",
   "execution_count": null,
   "metadata": {},
   "outputs": [],
   "source": []
  },
  {
   "cell_type": "markdown",
   "metadata": {},
   "source": [
    "## 7 Elgamal\n",
    "\n",
    "The prime number $p=13$ and the generator $g=3$ were used. Check if 3 is a generator: otherwise use the next larger number after 3. Bob chooses the secret key $sk_B = j = 3$ and Alice $sk_A = i = 4$.\n",
    "\n",
    "__Your Task__: Compute all intermediate results if Alice wants to securely send the message $m = 12$ to Bob."
   ]
  },
  {
   "cell_type": "markdown",
   "metadata": {},
   "source": []
  },
  {
   "cell_type": "markdown",
   "metadata": {},
   "source": [
    "## 8 Elgamal 2nd\n",
    "\n",
    "Alice uses the private key $a=1751$ and computes the public key $(p=2357,\\alpha=2,\\alpha^a =1185)$.\n",
    "Now Bob wants to encrypt the message $m = 2035$. He uses the random $k = 1520$.\n",
    "\n",
    "__Your Task__: Compute the encrypted message and show how Alice decrypts the message."
   ]
  },
  {
   "cell_type": "markdown",
   "metadata": {},
   "source": [
    "#### Alice\n",
    "\n",
    "Primzahl $p$\n",
    "\n",
    "Erzeugende $a \\in \\mathbb{Z}_p^*$\n",
    "\n",
    "$s_{K_b} = j\\in {2,...,p-2}$\n",
    "\n",
    "$p_{K_b} = \\beta = a^j \\mod p $\n",
    "\n",
    "$(\\beta, p, a) \\to$ Bob\n",
    "\n",
    "#### Bob\n",
    "$s_{K_a} = p_{K_a} = a^i mod p$\n",
    "\n",
    "Temporärer Schlüssel $K_E = p_{K_a} = a^i\\mod p$\n",
    "\n",
    "Session Key $K_M = \\beta^i \\mod p$\n",
    "\n",
    "Ciphertext $ y = x\\cdot K_M \\mod p$\n",
    "\n",
    "$(y, K_E) \\to$ Alice\n",
    "\n",
    "#### Alice\n",
    "\n",
    "$K_M = K_E^j \\mod p$\n",
    "\n",
    "$x = K_M^{-1}y \\mod p$"
   ]
  },
  {
   "cell_type": "code",
   "execution_count": 42,
   "metadata": {},
   "outputs": [
    {
     "name": "stdout",
     "output_type": "stream",
     "text": [
      "Public Key Beta: 1185\n",
      "Temp. Key: 1430\n",
      "Session Key von Bob: 2084\n",
      "Ciphertext: 697\n",
      "Session Key von Alice: 2084\n",
      "Klartext Alice: 2035\n"
     ]
    }
   ],
   "source": [
    "# Primzahl\n",
    "p = 2357\n",
    "# Erzeugende\n",
    "alpha = 2\n",
    "# Private Key Alice\n",
    "a = 1751\n",
    "# Public Key Alice\n",
    "beta = alpha ** a % p\n",
    "print(\"Public Key Beta: \" + str(beta))\n",
    "# Bob's Private Key\n",
    "k = 1520\n",
    "# Temporärer Schlüssel\n",
    "K_E = alpha ** k % p\n",
    "print(\"Temp. Key: \" + str(K_E))\n",
    "# Session key\n",
    "K_M_1 = beta ** k % p\n",
    "print(\"Session Key von Bob: \" + str(K_M_1))\n",
    "# Klartext\n",
    "m = 2035\n",
    "# Ciphertext\n",
    "y = m * K_M % p\n",
    "print(\"Ciphertext: \" + str(y))\n",
    "# Alice berechnet Session Key\n",
    "K_M_2 = K_E ** a % p\n",
    "print(\"Session Key von Alice: \" + str(K_M_2))\n",
    "# Alice berechnet Klartext\n",
    "x = pow(K_M_2, p-2, p) * y % p\n",
    "print(\"Klartext Alice: \" + str(x))"
   ]
  }
 ],
 "metadata": {
  "kernelspec": {
   "display_name": "Python 3",
   "language": "python",
   "name": "python3"
  },
  "language_info": {
   "codemirror_mode": {
    "name": "ipython",
    "version": 3
   },
   "file_extension": ".py",
   "mimetype": "text/x-python",
   "name": "python",
   "nbconvert_exporter": "python",
   "pygments_lexer": "ipython3",
   "version": "3.7.0"
  }
 },
 "nbformat": 4,
 "nbformat_minor": 2
}
