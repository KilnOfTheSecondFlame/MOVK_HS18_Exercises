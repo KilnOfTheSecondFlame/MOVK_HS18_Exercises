{
 "cells": [
  {
   "cell_type": "markdown",
   "metadata": {},
   "source": [
    "# Cryptographic Utilities\n",
    "\n",
    "## Exercise 1: MD5, SHA1, SHA256, SHA512\n",
    "\n",
    "Generate the previsously mentioned hash values of the string `Hello World!`. Do You get the same result as Your neighbour? Check the size of each hash value! What are the corresponding block sizes?\n",
    "Make a table! How many hash values would You have to generate in order to find a collision with a probability of at least 50% (90%)?"
   ]
  },
  {
   "cell_type": "code",
   "execution_count": 16,
   "metadata": {},
   "outputs": [
    {
     "name": "stdout",
     "output_type": "stream",
     "text": [
      "MD5:    ed076287532e86365e841e92bfc50d8c\n",
      "Length: 128\n",
      "\n",
      "SHA1:   2ef7bde608ce5404e97d5f042f95f89f1c232871\n",
      "Length: 160\n",
      "\n",
      "SHA256: 7f83b1657ff1fc53b92dc18148a1d65dfc2d4b1fa3d677284addd200126d9069\n",
      "Length: 256\n",
      "\n",
      "SHA512: 861844d6704e8573fec34d967e20bcfef3d424cf48be04e6dc08f2bd58c729743371015ead891cc3cf1c9d34b49264b510751b1ff9e537937bc46b5d6ff4ecc8\n",
      "Length: 512\n",
      "\n",
      "SHA3:   32400b5e89822de254e8d5d94252c52bdcb27a3562ca593e980364d9848b8041b98eabe16c1a6797484941d2376864a1b0e248b0f7af8b1555a778c336a5bf48\n",
      "Length: 512\n",
      "\n"
     ]
    }
   ],
   "source": [
    "import hashlib\n",
    "\n",
    "string = 'Hello World!'\n",
    "\n",
    "# Hashes\n",
    "md5 = hashlib.md5(string.encode()).hexdigest()\n",
    "sha1 = hashlib.sha1(string.encode()).hexdigest()\n",
    "sha256 = hashlib.sha256(string.encode()).hexdigest()\n",
    "sha512 = hashlib.sha512(string.encode()).hexdigest()\n",
    "sha3_512 = hashlib.sha3_512(string.encode()).hexdigest()\n",
    "\n",
    "# We calculate the Bit length of the hash as follows: Lenght of string (in HEX) * 4 (Bits per HEX digit)\n",
    "print('MD5:    ' + str(md5))\n",
    "print('Length: ' + str(len(md5) * 4) + '\\n')\n",
    "print('SHA1:   ' + str(sha1))\n",
    "print('Length: ' + str(len(sha1) * 4) + '\\n')\n",
    "print('SHA256: ' + str(sha256))\n",
    "print('Length: ' + str(len(sha256) * 4) + '\\n')\n",
    "print('SHA512: ' + str(sha512))\n",
    "print('Length: ' + str(len(sha512) * 4) + '\\n')\n",
    "print('SHA3:   ' + str(sha3_512))\n",
    "print('Length: ' + str(len(sha3_512) * 4) + '\\n')"
   ]
  },
  {
   "cell_type": "markdown",
   "metadata": {},
   "source": [
    "To calculate the corresponding collision probabilities, we use the formula from the slides:\n",
    "\n",
    "$$ n \\approx 2^{\\frac{m+1}{2}}\\sqrt{\\ln(\\frac{1}{1-p})} $$"
   ]
  },
  {
   "cell_type": "code",
   "execution_count": 18,
   "metadata": {},
   "outputs": [
    {
     "name": "stdout",
     "output_type": "stream",
     "text": [
      "MD5, p = 0.5:  2.171938135516356e+19\n",
      "MD5, p = 0.8:  3.30957200331212e+19\n",
      "SHA1, p = 0.5:  1.4234013764919992e+24\n",
      "SHA1, p = 0.8:  2.1689611080906308e+24\n",
      "SHA256, p = 0.5:  4.006518692980012e+38\n",
      "SHA256, p = 0.8:  6.1050827738612895e+38\n",
      "SHA512, p = 0.5:  1.3633476639602231e+77\n",
      "SHA512, p = 0.8:  2.077452016537768e+77\n",
      "SHA3, p = 0.5:  1.3633476639602231e+77\n",
      "SHA3, p = 0.8:  2.077452016537768e+77\n"
     ]
    }
   ],
   "source": [
    "import numpy as np\n",
    "\n",
    "def number_hashes_for_collision(message_digest_length, probability_threshold):\n",
    "    n = 2 ** ((message_digest_length+1)/2) * np.sqrt(np.log(1/(1-probability_threshold)))\n",
    "    return n\n",
    "\n",
    "print('MD5, p = 0.5:  ' + str(number_hashes_for_collision(128,0.5)))\n",
    "print('MD5, p = 0.8:  ' + str(number_hashes_for_collision(128,0.8)))\n",
    "print('SHA1, p = 0.5:  ' + str(number_hashes_for_collision(160,0.5)))\n",
    "print('SHA1, p = 0.8:  ' + str(number_hashes_for_collision(160,0.8)))\n",
    "print('SHA256, p = 0.5:  ' + str(number_hashes_for_collision(256,0.5)))\n",
    "print('SHA256, p = 0.8:  ' + str(number_hashes_for_collision(256,0.8)))\n",
    "print('SHA512, p = 0.5:  ' + str(number_hashes_for_collision(512,0.5)))\n",
    "print('SHA512, p = 0.8:  ' + str(number_hashes_for_collision(512,0.8)))\n",
    "print('SHA3, p = 0.5:  ' + str(number_hashes_for_collision(512,0.5)))\n",
    "print('SHA3, p = 0.8:  ' + str(number_hashes_for_collision(512,0.8)))"
   ]
  },
  {
   "cell_type": "markdown",
   "metadata": {},
   "source": [
    "Data from the [Secure Hash Standard - FIPS.180-4](https://nvlpubs.nist.gov/nistpubs/FIPS/NIST.FIPS.180-4.pdf):\n",
    "\n",
    "| Hash function | Message Digest size | Block size | n Hashes p(Collision) > 50% | n Hashes p(Collision) > 90% |\n",
    "|:--- |:--- |:--- |:--- |:--- |\n",
    "| MD5 | $128$ | $512$ | $ 2.18\\cdot 10^{19} $ | $ 3.31\\cdot 10^{19} $ |\n",
    "| SHA1 | $160$ | $512$ | $ 1.42\\cdot 10^{24} $ | $ 2.17\\cdot 10^{24} $ |\n",
    "| SHA256 | $256$ | $512$ | $ 4.01\\cdot 10^{38} $ | $ 6.11\\cdot 10^{38} $ |\n",
    "| SHA512 | $512$ | $1024$ | $ 1.37\\cdot 10^{77} $ | $ 2.08\\cdot 10^{77} $ |\n",
    "| SHA3_512 | $512$ | $576$ | $ 1.36\\cdot 10^{77} $ | $ 2.08\\cdot 10^{77} $ |"
   ]
  },
  {
   "cell_type": "markdown",
   "metadata": {},
   "source": [
    "## Exercise 2: True random number generator\n",
    "\n",
    "Check if Your computer can generate true random numbers, possibly through some special device? Find out the underlying physical principle (thermal noise, etc.). How can You use the random number generator in the power shell (Windows) or some shell (bash, sh, etc.) on Linux or MAC OS X?\n",
    "How are true random numbers generated on smart cards? Do some research on the internet!"
   ]
  },
  {
   "cell_type": "markdown",
   "metadata": {},
   "source": [
    "#### True random numbers:\n",
    "- The /dev/random device on Linux: Generates random numbers, “blocks” and doesn’t return a result until it gathers enough entropy to return a truly random number.\n",
    "- Intel chips include a hardware-based random number generator known as RdRand. This chip uses an entropy source on the processor and provides random numbers to software when the software requests them. The problem here is that the random number generator is essentially a black box and we don’t know what’s going on inside it.\n",
    "- Sources of randomness from the environment include \n",
    " - inter-keyboard timings, \n",
    " - inter-interrupt timings from some interrupts, \n",
    " - and other events which are both \n",
    "   - (a) non-deterministic and \n",
    "   - (b) hard for an outside observer to measure.  \n",
    "- Randomness from these sources are added to an \"entropy pool\", which is mixed using a CRC-like function.\n",
    "\n",
    "#### PowerShell\n",
    "- Get-Random sets a default seed for each session based on the system time clock when the session starts.\n",
    "\n",
    "#### Smart Cards\n",
    "Current random numbergenerators in the smart card micro-controllers are generallybased on Linear Feedback Shift Registers (LFSR) driven byvoltage-controlled oscillators.\n",
    "\n",
    "Source: http://www.academia.edu/2519923/Pseudorandom_Number_Generation_in_Smart_Cards_An_Implementation_Performance_and_Randomness_Analysis"
   ]
  },
  {
   "cell_type": "markdown",
   "metadata": {},
   "source": [
    "## Exercise 3: Linear congruential random number generator\n",
    "\n",
    "Compute the period of a **linear congruential number** generator if $m = 11$, $b = 5$, $a = 3$ and $x_0 = 7$ is used. Write down the sequence of random number! What is the maximal size of the period? Adapt the parameters, such that the period is maximal!"
   ]
  },
  {
   "cell_type": "code",
   "execution_count": 86,
   "metadata": {},
   "outputs": [],
   "source": [
    "def lcp(m, a, b, x):\n",
    "    periodsize = 0\n",
    "    numbers = []\n",
    "    def lcp_inner(m, a, b, x):\n",
    "        nonlocal periodsize\n",
    "        nonlocal numbers\n",
    "        random = (a*x+b)%m\n",
    "        if random not in numbers:\n",
    "            numbers.append(random)\n",
    "            periodsize += 1\n",
    "            lcp_inner(m, a, b, random)\n",
    "        else:\n",
    "            print(\"size of period: \" + str(periodsize))\n",
    "            print(\"randomnumbers: \" + str(numbers))\n",
    "    lcp_inner(m, a, b, x)"
   ]
  },
  {
   "cell_type": "code",
   "execution_count": 91,
   "metadata": {},
   "outputs": [
    {
     "name": "stdout",
     "output_type": "stream",
     "text": [
      "size of period: 5\n",
      "randomnumbers: [4, 6, 1, 8, 7]\n",
      "\n",
      "with maximal size of period\n",
      "size of period: 11\n",
      "randomnumbers: [1, 6, 0, 5, 10, 4, 9, 3, 8, 2, 7]\n"
     ]
    }
   ],
   "source": [
    "\n",
    "## with parameters\n",
    "lcp(11,3,5,7)\n",
    "\n",
    "\n",
    "print(\"\\nwith maximal size of period\")\n",
    "## a must be 1 and b between 2 and 10\n",
    "lcp(11,1,5,7)"
   ]
  },
  {
   "cell_type": "markdown",
   "metadata": {},
   "source": [
    "## Exercise 4a: LFSR\n",
    "\n",
    "Construct an LFSR of length $5$ which produces the sequence of bits $(1, 0, 1, 1, 0, 0, 1, 0, 1, 0,...)$. What is the period of this LFSR? What is the maximal period? Try to improve this LFSR such that it has maximum period!\n",
    "\n",
    "**Solution**: Connection (or feedback) polynomial $C(D) = 1 + D + D^3 + D^5$; recursive formula\n",
    "$$ s_j =\n",
    "\\sum_{k=1}^5{\n",
    "c_k s_{j−k}} \\text{mod}\\ 2= s_{j−1}+s_{j−3}+s_{j−5}\\text{mod}\\ 2, j ≥ 5.$$ \n",
    "Period is $15$ which can be improved to $31$ by adding $c_2 = 1$ as an example! To make computations easy, use the following python code\n",
    "```python\n",
    "def lfsr5(seed, taps):\n",
    "\tsr, xor = seed, 0\n",
    "\twhile 1:\n",
    "\t\tfor t in taps:\n",
    "\t\t\txor += int(sr[t − 1])\n",
    "\t\txor %= 2\n",
    "\t\tsr, xor = str(xor) + sr[: − 1], 0\n",
    "\t\tyield sr\n",
    "\t\tif sr == seed:\n",
    "\t\t\tbreak\n",
    "\n",
    "a = lfsr5(’10110’, (5,3,2,1))\n",
    "[next(a) for j in range(31)]\n",
    "```"
   ]
  },
  {
   "cell_type": "markdown",
   "metadata": {},
   "source": [
    "![Diagram of LFSR](img\\LinearFeedbackShiftRegister.png)\n",
    "\n",
    "To crack this LFSR we make ourself a table, where we know the length is five, and we know the output, and thus the state of each register:\n",
    "\n",
    "| Clock cycle | $S_4$ | $S_3$ | $S_2$ | $S_1$ | $S_0$ | Out |\n",
    "| :--- | :--- | :--- | :--- | :--- | :--- |\n",
    "| 0 | | | | | | - |\n",
    "| 1 | | | | | | 1 |\n",
    "| 2 | | | | | | 0 |\n",
    "| 3 | | | | | | 1 |\n",
    "| 4 | | | | | | 1 |\n",
    "| 5 | | | | | | 0 |\n",
    "| 6 | | | | | | 0 |\n",
    "| 7 | | | | | | 1 |\n",
    "| 8 | | | | | | 0 |\n",
    "| 9 | | | | | | 1 |\n",
    "| 10 | | | | | | 0 |\n",
    "\n",
    "Now we can use backwards induction to fill in the preceding registers:\n",
    "\n",
    "| Clock cycle | $S_4$ | $S_3$ | $S_2$ | $S_1$ | $S_0$ | Out |\n",
    "| :--- | :--- | :--- | :--- | :--- | :--- |\n",
    "| 0  | 0 | 1 | 1 | 0 | 1 | - |\n",
    "| 1  | 0 | 0 | 1 | 1 | 0 | 1 |\n",
    "| 2  | 1 | 0 | 0 | 1 | 1 | 0 |\n",
    "| 3  | 0 | 1 | 0 | 0 | 1 | 1 |\n",
    "| 4  | 1 | 0 | 1 | 0 | 0 | 1 |\n",
    "| 5  | 0 | 1 | 0 | 1 | 0 | 0 |\n",
    "| 6  |   | 0 | 1 | 0 | 1 | 0 |\n",
    "| 7  |   |   | 0 | 1 | 0 | 1 |\n",
    "| 8  |   |   |   | 0 | 1 | 0 |\n",
    "| 9  |   |   |   |   | 0 | 1 |\n",
    "| 10 |   |   |   |   |   | 0 |\n",
    "\n",
    "Now we _only_ have to induce the values $c_i$ of the AND-Gates:\n",
    "\n",
    "![Our LFSR](img\\LFSR5.png)\n",
    "\n",
    "We can calculate these values with the following equations:\n",
    "\n",
    "$$\n",
    "0 = (c_1 \\cdot 0 + c_2 \\cdot 1 + c_3 \\cdot 1 + c_4 \\cdot 0 + c_5 \\cdot 1) \\mod 2 \\\\\n",
    "1 = (c_1 \\cdot 0 + c_2 \\cdot 0 + c_3 \\cdot 1 + c_4 \\cdot 1 + c_5 \\cdot 0) \\mod 2 \\\\\n",
    "0 = (c_1 \\cdot 1 + c_2 \\cdot 0 + c_3 \\cdot 0 + c_4 \\cdot 1 + c_5 \\cdot 1) \\mod 2 \\\\\n",
    "1 = (c_1 \\cdot 0 + c_2 \\cdot 1 + c_3 \\cdot 0 + c_4 \\cdot 0 + c_5 \\cdot 1) \\mod 2 \\\\\n",
    "0 = (c_1 \\cdot 1 + c_2 \\cdot 0 + c_3 \\cdot 1 + c_4 \\cdot 0 + c_5 \\cdot 0) \\mod 2 \\\\\n",
    "$$\n",
    "\n",
    "This is of course nothing different than this matrix problem:\n",
    "\n",
    "$$ \n",
    "\\begin{bmatrix}\n",
    "0& 1& 1& 0& 1 \\\\\n",
    "0& 0& 1& 1& 0 \\\\\n",
    "1& 0& 0& 1& 1 \\\\\n",
    "0& 1& 0& 0& 1 \\\\\n",
    "1& 0& 1& 0& 0 \\\\\n",
    "\\end{bmatrix}\n",
    "\\cdot\n",
    "\\begin{bmatrix}\n",
    "c_1 \\\\\n",
    "c_2 \\\\\n",
    "c_3 \\\\\n",
    "c_4 \\\\\n",
    "c_5 \\\\\n",
    "\\end{bmatrix}\n",
    "\\equiv\n",
    "\\begin{bmatrix}\n",
    "0 \\\\\n",
    "1 \\\\\n",
    "0 \\\\\n",
    "1 \\\\\n",
    "0 \\\\\n",
    "\\end{bmatrix}\n",
    "\\mod 2\n",
    "$$\n",
    "\n",
    "Hence our $c_{1...5}$ are $1,0,1,0,1$"
   ]
  },
  {
   "cell_type": "code",
   "execution_count": 24,
   "metadata": {},
   "outputs": [
    {
     "name": "stdout",
     "output_type": "stream",
     "text": [
      "[[1.]\n",
      " [0.]\n",
      " [1.]\n",
      " [0.]\n",
      " [1.]]\n"
     ]
    }
   ],
   "source": [
    "import numpy\n",
    "import math\n",
    "from numpy import matrix\n",
    "from numpy import linalg\n",
    "\n",
    "### Shamelessly 'borrowed' from https://stackoverflow.com/questions/4287721/easiest-way-to-perform-modular-matrix-inversion-with-python\n",
    "# Finds the inverse of matrix A mod p\n",
    "def modMatInv(A,p):\n",
    "    n=len(A)\n",
    "    A=matrix(A)\n",
    "    adj=numpy.zeros(shape=(n,n))\n",
    "    for i in range(0,n):\n",
    "        for j in range(0,n):\n",
    "            adj[i][j]=((-1)**(i+j)*int(round(linalg.det(minor(A,j,i)))))%p\n",
    "    return (modInv(int(round(linalg.det(A))),p)*adj)%p\n",
    "\n",
    "# Finds the inverse of a mod p, if it exists\n",
    "def modInv(a,p):\n",
    "    for i in range(1,p):\n",
    "        if (i*a)%p==1:\n",
    "            return i\n",
    "    raise ValueError(str(a)+\" has no inverse mod \"+str(p))\n",
    "\n",
    "# Return matrix A with the ith row and jth column deleted\n",
    "def minor(A,i,j):\n",
    "    A=numpy.array(A)\n",
    "    minor=numpy.zeros(shape=(len(A)-1,len(A)-1))\n",
    "    p=0\n",
    "    for s in range(0,len(minor)):\n",
    "        if p==i:\n",
    "            p=p+1\n",
    "        q=0\n",
    "        for t in range(0,len(minor)):\n",
    "            if q==j:\n",
    "                q=q+1\n",
    "            minor[s][t]=A[p][q]\n",
    "            q=q+1\n",
    "        p=p+1\n",
    "    return minor\n",
    "\n",
    "S = np.matrix('0 1 1 0 1; 0 0 1 1 0; 1 0 0 1 1; 0 1 0 0 1; 1 0 1 0 0')\n",
    "o = np.matrix('0;1;0;1;0')\n",
    "c = (modMatInv(S,2).dot(o)%2)\n",
    "print(c)"
   ]
  },
  {
   "cell_type": "markdown",
   "metadata": {},
   "source": [
    "Which in turn enables us to complete the table:\n",
    "\n",
    "| Clock cycle | $S_4$ | $S_3$ | $S_2$ | $S_1$ | $S_0$ | Out |\n",
    "| :--- | :--- | :--- | :--- | :--- | :--- |\n",
    "| 0  | 0 | 1 | 1 | 0 | 1 | - |\n",
    "| 1  | 0 | 0 | 1 | 1 | 0 | 1 |\n",
    "| 2  | 1 | 0 | 0 | 1 | 1 | 0 |\n",
    "| 3  | 0 | 1 | 0 | 0 | 1 | 1 |\n",
    "| 4  | 1 | 0 | 1 | 0 | 0 | 1 |\n",
    "| 5  | 0 | 1 | 0 | 1 | 0 | 0 |\n",
    "| 6  | 0 | 0 | 1 | 0 | 1 | 0 |\n",
    "| 7  | 0 | 0 | 0 | 1 | 0 | 1 |\n",
    "| 8  | 0 | 0 | 0 | 0 | 1 | 0 |\n",
    "| 9  | 1 | 0 | 0 | 0 | 0 | 1 |\n",
    "| 10 | 1 | 1 | 0 | 0 | 0 | 0 |\n",
    "\n",
    "The maximum period for a LFSR is $2^{L}-1$, four our LFSR this value would be $2^5-1=31$, but our feedback (/connection) polynomial is $C(D) = 1 + D + D^3 + D^5$, as the number of tabs is uneven (3) this polynomial is not primitive, ie. does not have the maximum period.\n",
    "\n",
    "We can calculate the period m, by finding the smallest m for which $C(D)$ divides $x^m+1$ [link](http://www-math.ucdenver.edu/~wcherowi/courses/m5410/m5410fsr.html) .\n",
    "\n",
    "Starting from the factorization over the GF(2) of $x^{31}+1$:\n",
    "\n",
    "| m | Factorization over GF(2) |\n",
    "| :--- | :--- |\n",
    "| 31 | $(x + 1)(x^5 + x^2 + 1)(x^5 + x^3 + 1)(x^5 + x^3 + x^2 + x + 1)(x^5 + x^4 + x^2 + x + 1)(x^5 + x^4 + x^3 + x + 1)(x^5 + x^4 + x^3 + x^2 + 1)$ |\n",
    "| 30 | $(x + 1)^2 (x^2 + x + 1)^2 (x^4 + x + 1)^2 (x^4 + x^3 + 1)^2 (x^4 + x^3 + x^2 + x + 1)^2$ |\n",
    "| 29 | $(x + 1) (x^{28} + x^{27} + x^{26} + x^{25} + x^{24} + x^{23} + x^{22} + x^{21} + x^{20} + x^{19} + x^{18} + x^{17} + x^{16} + x^{15} + x^{14} + x^{13} + x^{12} + x^{11} + x^{10} + x^9 + x^8 + x^7 + x^6 + x^5 + x^4 + x^3 + x^2 + x + 1)$ |\n",
    "| 28 | $(x + 1)^4 (x^3 + x + 1)^4 (x^3 + x^2 + 1)^4$ |\n",
    "| 27 | $(x + 1) (x^2 + x + 1) (x^6 + x^3 + 1) (x^{18} + x^9 + 1)$ |\n",
    "| 26 | $(x + 1)^2 (x^{12} + x^11 + x^10 + x^9 + x^8 + x^7 + x^6 + x^5 + x^4 + x^3 + x^2 + x + 1)^2$ |\n",
    "| 25 | $(x + 1) (x^4 + x^3 + x^2 + x + 1) (x^{20} + x^{15} + x^{10} + x^5 + 1)$ |\n",
    "| 24 | $(x + 1)^8 (x^2 + x + 1)^8$ |\n",
    "| 23 | $(x + 1) (x^{11} + x^9 + x^7 + x^6 + x^5 + x + 1) (x^{11} + x^{10} + x^6 + x^5 + x^4 + x^2 + 1)$ |\n",
    "| 22 | $(x + 1)^2 (x^{10} + x^9 + x^8 + x^7 + x^6 + x^5 + x^4 + x^3 + x^2 + x + 1)^2$ |\n",
    "| 21 | $(x + 1) (x^2 + x + 1) (x^3 + x + 1) (x^3 + x^2 + 1) (x^6 + x^4 + x^2 + x + 1) (x^6 + x^5 + x^4 + x^2 + 1)$ |\n",
    "| 20 | $(x + 1)^4 (x^4 + x^3 + x^2 + x + 1)^4$ |\n",
    "| 19 | $(x + 1) (x^{18} + x^{17} + x^{16} + x^{15} + x^{14} + x^{13} + x^{12} + x^{11} + x^{10} + x^9 + x^8 + x^7 + x^6 + x^5 + x^4 + x^3 + x^2 + x + 1)$ |\n",
    "| 18 | $(x + 1)^2 (x^2 + x + 1)^2 (x^6 + x^3 + 1)^2$ |\n",
    "| 17 | $(x + 1) (x^8 + x^5 + x^4 + x^3 + 1) (x^8 + x^7 + x^6 + x^4 + x^2 + x + 1)$ |\n",
    "| 16 | $(x + 1)^{16}$ |\n",
    "| 15 | $(x + 1) (x^2 + x + 1) (x^4 + x + 1) (x^4 + x^3 + 1) (x^4 + x^3 + x^2 + x + 1)$ |\n",
    "| 14 | $(x + 1)^2 (x^3 + x + 1)^2 (x^3 + x^2 + 1)^2$ |\n",
    "| 13 | $(x + 1) (x^{12} + x^{11} + x^{10} + x^9 + x^8 + x^7 + x^6 + x^5 + x^4 + x^3 + x^2 + x + 1)$ |\n",
    "| 12 | $(x + 1)^4 (x^2 + x + 1)^4$ |\n",
    "| 11 | $(x + 1) (x^10 + x^9 + x^8 + x^7 + x^6 + x^5 + x^4 + x^3 + x^2 + x + 1)$ |\n",
    "| 10 | $(x + 1)^2 (x^4 + x^3 + x^2 + x + 1)^2$ |\n",
    "| 9 | $(x + 1) (x^2 + x + 1) (x^6 + x^3 + 1)$ |\n",
    "| 8 | $(x + 1)^8$ |\n",
    "| 7 | $(x + 1) (x^3 + x + 1) (x^3 + x^2 + 1)$ |\n",
    "| 6 | $(x + 1)^2 (x^2 + x + 1)^2$ |\n",
    "| 5 | $(x^4 + x^3 + x^2 + x + 1)$ |\n",
    "| 4 | $(x + 1)^4$ |\n",
    "| 3 | $(x + 1) (x^2 + x + 1)$ |\n",
    "| 2 | $(x + 1)^2$ |\n",
    "| 1 | $(x + 1)$ |\n",
    "\n",
    "At which point we did not find our polynomial, be sad, and conclude that polynomials are just sad losers and leave them galoising around =(."
   ]
  },
  {
   "cell_type": "markdown",
   "metadata": {},
   "source": [
    "## Exercise 4b: Is random really random (optional)\n",
    "Read section 5.4.4 in the _Handbook of Applied Cryptography_ by A. Menezes, P. van Oorschot and S. Vanstone (p 181, 182, 183). Here we will only look at the monobit and the two-bit test of example 5.31 in the same book.\n",
    "Consider the (probably non-random) sequence $s$ of length $n = 160$ obtained by replicating the following sequence four times\n",
    "\n",
    "$$11100\\ 01100\\ 01000\\ 10100\\ 11101\\ 11100\\ 10010\\ 01001$$\n",
    "\n",
    "Apply the monobit and two-bit test. Based on these two tests, would you say, the sequence random?\n",
    "\n",
    "\n",
    "**Solution**: monobit test passed because: $X_1 = 0.4 < 3.8415$; two-bit test passed because: $X_2 = 0.6252 <3.8415$; sequence would also pass poker test, but not runs and autocorrelation test."
   ]
  },
  {
   "cell_type": "code",
   "execution_count": null,
   "metadata": {},
   "outputs": [],
   "source": []
  },
  {
   "cell_type": "markdown",
   "metadata": {},
   "source": [
    "## Exercise 5: Probability for a collision\n",
    "There are 40 people in a room. You bet, that there are at least 2 people with the same birthday. What is the probability, that You win? Use the exact formula as well as the approximation!\n",
    "\n",
    "**Solution**: Probility of having two people with the same birthday is $0.882$ or $88.2\\%$. Use symbolic python for the exact answer:\n",
    "```python\n",
    "from sympy import *\n",
    "i = symbols(’i’,integer=True)\n",
    "p = 1 − product((365 − i)/365,(i,1,39))\n",
    "p.evalf()\n",
    "```"
   ]
  },
  {
   "cell_type": "markdown",
   "metadata": {},
   "source": [
    "Probability of at least 2 people having the same birthday = 1 - probability of all people having different birthdays\n",
    "\n",
    "probability of all people having different birthdays = $\\frac{\\prod_{n=0}^{39}(365-n)}{365^{40}} = 0.1088$\n",
    "\n",
    "Probability of at least 2 people having the same birthday = $1 - 0.1088 = 0.8912$"
   ]
  },
  {
   "cell_type": "markdown",
   "metadata": {},
   "source": [
    "## Exercise 6: Probability of a collision\n",
    "\n",
    "Suppose You use a hash function of length $128$ bits. How many hash values would you have to compute in order to find a collision with probability at least 90%? Use the approximate forumula from Slide 14/58:\n",
    "\n",
    "$$n \\approx 2^{(m+1)/2}\\sqrt{\\ln\\left(\\frac{1}{1−p}\\right)}$$\n",
    "\n",
    "where $m = 128$ and $p = 0.9$. How much storage would you need, if you need $16$ bytes for each hash?\n",
    "\n",
    "**Solution**: $n \\approx 3.95861\\cdot10^{19}$ ; $633'377'600$ terabytes storage."
   ]
  },
  {
   "cell_type": "code",
   "execution_count": null,
   "metadata": {},
   "outputs": [],
   "source": []
  }
 ],
 "metadata": {
  "kernelspec": {
   "display_name": "Python 3",
   "language": "python",
   "name": "python3"
  },
  "language_info": {
   "codemirror_mode": {
    "name": "ipython",
    "version": 3
   },
   "file_extension": ".py",
   "mimetype": "text/x-python",
   "name": "python",
   "nbconvert_exporter": "python",
   "pygments_lexer": "ipython3",
   "version": "3.6.5"
  }
 },
 "nbformat": 4,
 "nbformat_minor": 2
}
