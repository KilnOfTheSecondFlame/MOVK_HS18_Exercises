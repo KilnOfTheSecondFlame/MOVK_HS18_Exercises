{
 "cells": [
  {
   "cell_type": "markdown",
   "metadata": {},
   "source": [
    "# Mathematical Basis II"
   ]
  },
  {
   "cell_type": "markdown",
   "metadata": {},
   "source": [
    "## 1 Generator or primitive element of a group\n",
    "\n",
    "Is 3 a generator of $(\\mathbb{Z}*_{11};·)$. Find a generator of $(\\mathbb{Z}*_{11};·)$."
   ]
  },
  {
   "cell_type": "markdown",
   "metadata": {},
   "source": [
    "$3^1=3; \\> 3^2=9; \\> 3^3=6 \\mod 11; \\> 3^4=4 \\mod 11; \\> 3^5=1; \\> 3^6=3=3^1;$ -> **not cyclic**"
   ]
  },
  {
   "cell_type": "markdown",
   "metadata": {},
   "source": [
    "$2^1=2; \\> 2^2=4; \\> 2^3=8; \\> 2^4=5 \\mod 11; \\> 2^5=10; \\> 2^6=9; \\> 2^7=7; \\> 2^8=3; \\> 2^9=6; \\> 2^{10}=1; \\> 2^{11}=2=2^1;$ -> **cyclic**\n",
    "\n",
    "this will repeat 2,4,8,5,10,9,7,3,6,1,2..."
   ]
  },
  {
   "cell_type": "markdown",
   "metadata": {},
   "source": [
    "## 2 Field\n",
    "Show that if $p$ is prime, then $\\mathbb{Z}_p$ together with addition and multiplication modulo $p$ constitues\n",
    "a field. Check whether the rules (i)-(ix) hold?"
   ]
  },
  {
   "cell_type": "markdown",
   "metadata": {},
   "source": [
    "We check if the structure $(\\mathbb{Z}_p, +, \\cdot)$ is a field:\n",
    "\n",
    "(i) $(a+b)+c = a+(b+c) \\text{ mod } p$ \n",
    "\n",
    "(ii) $a+b = b+a \\text{ mod } p$\n",
    "\n",
    "(iii) $a + 0 = a \\text{ mod } p$\n",
    "\n",
    "(iv) $a + (-a) = 0 \\text{ mod } p$\n",
    "\n",
    "(v) $(a\\cdot b)\\cdot c = a\\cdot(b\\cdot c)\\text{ mod } p$\n",
    "\n",
    "(vi) $ a\\cdot b = b\\cdot a \\text{ mod } p$\n",
    "\n",
    "(vii) $ a\\cdot 1 = a\\text{ mod } p$\n",
    "\n",
    "(i)-(vii) are true in $\\mathbb{Z}$, hence also in $\\mathbb{Z}_p$\n",
    "\n",
    "(viii) $ a\\cdot a^{-1} = 1  \\text{ mod } p$\n",
    "\n",
    "$a^{-1}$ is the multiplicative inverse of $a$, it exists because $gcd(a, p)=1$ because $p$ is prime and $a<p$ cause $a\\in \\mathbb{Z}_p$.\n",
    "\n",
    "(ix) $ a\\cdot (b+c) = a\\cdot b + a\\cdot c  \\text{ mod } p$\n",
    "\n",
    "Follows from the commutativity from $\\mathbb{Z}_p$. Thus we follow that $\\mathbb{Z}_p$ is a field. Which we check with the slides from the input.\n",
    "![Fields summary](img/Fields_Summary.png)"
   ]
  },
  {
   "cell_type": "markdown",
   "metadata": {},
   "source": [
    "## 3 The Galois Field $GF(2^2)$"
   ]
  },
  {
   "cell_type": "markdown",
   "metadata": {},
   "source": [
    "A theorem says that there is a finite filed with $2^2 = 4$ elements, because 4 is the 2nd power of\n",
    "the prime number 2. Let’s call this field $GF(2^2)$. Let’s represent the elements by bitstrings of\n",
    "length two: 00, 01, 10, and 11. Assume 00 is the neutral element with respect to addition and\n",
    "01 the neutral element with respect to multiplication.\n",
    "\n",
    "Complete the following tables for addition (left) and multiplication (right):"
   ]
  },
  {
   "cell_type": "markdown",
   "metadata": {},
   "source": [
    "| +  | 00  | 01  | 10  | 11  |\n",
    "|----|---|----|----|----|\n",
    "| 00  | 00  | 01  | 10  | 11  |\n",
    "|01|01|10|11|00|\n",
    "|10|10|11|00|01|\n",
    "|11|11|00|01|10|\n",
    "\n",
    "|·| 00 |01 |10 |11|\n",
    "|----|---|----|----|----|\n",
    "|00 |00 |00 |00 |00|\n",
    "|01 |00 |01 |10 |11|\n",
    "|10 |00 |10|00|10|\n",
    "|11 |00 |11|10|01|"
   ]
  },
  {
   "cell_type": "markdown",
   "metadata": {},
   "source": [
    "Note: in order to have inverse elements, the tables must be latin squares, i.e. each element\n",
    "occurs exactly once in each row and exactly once in each column. It helps to watch the Youtube\n",
    "video *Was sind Galoiskörper?*"
   ]
  },
  {
   "cell_type": "markdown",
   "metadata": {},
   "source": [
    "## 4 Legendre symbol\n",
    "\n",
    "Compute $(\\frac{713}{1009})$ using the rules on slides of the presentation (Solution is −1)."
   ]
  },
  {
   "cell_type": "markdown",
   "metadata": {},
   "source": [
    "1009 is a prime, but 713 isn't, so we split it to get prime multplicatives of 713.\n",
    "we find\n",
    "\n",
    "$(\\frac{713}{1009})=(\\frac{31}{1009})(\\frac{23}{1009})$\n",
    "\n",
    "using the law of quadratic reciprocity,\n",
    "\n",
    "$(\\frac{31}{1009})(\\frac{1009}{31})=(-1)^{(1009-1)(31-1)/4}=(-1)^{(1008)(30)/4}=(-1)^{7560}=1$ rule (7)\n",
    "\n",
    "$(\\frac{23}{1009})(\\frac{1009}{23})=(-1)^{(1009-1)(23-1)/4}=(-1)^{(1008)(22)/4}=(-1)^{5544}=1$ rule (7)\n",
    "\n",
    "Thus in both cases the symbols have the same sign. Now,\n",
    "\n",
    "$1009 ≡ 17 \\mod 31$, which is a non-quadratic residue mod 31\n",
    "\n",
    "$1009 ≡ 20 \\mod 23$, which is a non-quadratic residue mod 23\n",
    "\n",
    "\n",
    "Therefore,\n",
    "\n",
    "$(\\frac{713}{1009})=(\\frac{31}{1009})(\\frac{23}{1009}) = (\\frac{1009}{31})(\\frac{1009}{23}) = -1 * -1 = 1$\n",
    "\n",
    "**713 is a quadratic residue module 1009.**"
   ]
  },
  {
   "cell_type": "code",
   "execution_count": 4,
   "metadata": {},
   "outputs": [],
   "source": [
    "def squarerootmod(quadratic, mod):\n",
    "    for i in range (1,mod):\n",
    "        if pow(i,2,mod)==quadratic:\n",
    "            return i\n",
    "    return -1"
   ]
  },
  {
   "cell_type": "code",
   "execution_count": 5,
   "metadata": {},
   "outputs": [
    {
     "data": {
      "text/plain": [
       "210"
      ]
     },
     "execution_count": 5,
     "metadata": {},
     "output_type": "execute_result"
    }
   ],
   "source": [
    "squarerootmod(713,1009)"
   ]
  },
  {
   "cell_type": "markdown",
   "metadata": {},
   "source": [
    "## 5 Quadratic congruence\n",
    "\n",
    "Does the linear congruence $x^2 ≡ 446 (mod 1129)$ have a solution x? You need not compute\n",
    "x; just decide, if a solution exists. Use the Legendre symbol $(\\frac{446}{1129})$ to answer this question!\n",
    "(Solution is YES)."
   ]
  },
  {
   "cell_type": "markdown",
   "metadata": {},
   "source": [
    "The linear congruence $x^2 \\equiv 446 (\\text{ mod } 1129)$ has a solution if 446 is a quadratic residue (mod p). If that's true then Legendre symbol must be one.\n",
    "\n",
    "$(\\frac{446}{1129})=(\\frac{223}{1129})(\\frac{2}{1129})$ | Rule (2)\n",
    "\n",
    "$(\\frac{223}{1129})(\\frac{2}{1129})=(\\frac{223}{1129})(-1)^{\\frac{1129-1}{8}}$ | Rule (6)\n",
    "\n",
    "$(\\frac{223}{1129})(\\frac{2}{1129})=(\\frac{223}{1129})\\cdot 1$\n",
    "\n",
    "$(\\frac{223}{1129})(\\frac{1129}{223})=(-1)^{\\frac{223-1}{2}\\cdot{\\frac{1129-1}{2}}}$ | Rule 7\n",
    "\n",
    "$(-1)^{\\frac{223-1}{2}\\cdot{\\frac{1129-1}{2}}}=1$"
   ]
  },
  {
   "cell_type": "markdown",
   "metadata": {},
   "source": [
    "## 6 Quadratic congruence\n",
    "Implement the square and multiply algorithm and check, if it works reasonable even the numbers have 100 or more digits. Compare Your results with the pow function in python."
   ]
  },
  {
   "cell_type": "code",
   "execution_count": 25,
   "metadata": {},
   "outputs": [],
   "source": [
    "def squareAndMultiply(a,e,m):\n",
    "    binexp = []\n",
    "    \n",
    "    while e != 0:\n",
    "        binexp.append(e % 2)\n",
    "        e = e // 2\n",
    "    \n",
    "    res = 1\n",
    "    binexp.reverse()\n",
    "    \n",
    "    for i in binexp:\n",
    "        if i == 0:\n",
    "            res = (res*res) % m\n",
    "        else:\n",
    "            res = (res*res*a) % m\n",
    "    \n",
    "    return res"
   ]
  },
  {
   "cell_type": "code",
   "execution_count": 26,
   "metadata": {},
   "outputs": [
    {
     "name": "stdout",
     "output_type": "stream",
     "text": [
      "\n",
      "result: 3\n",
      "pow: 3\n"
     ]
    }
   ],
   "source": [
    "print (\"\\nresult: \" + str(squareAndMultiply(3^300,17^439,13)))\n",
    "print(\"pow: \" + str(pow(3^300,17^439)%13))"
   ]
  },
  {
   "cell_type": "markdown",
   "metadata": {},
   "source": [
    "## 7 Bases $a$ to which $45$ is a Fermat pseudoprimes ($< 45$)\n",
    "Show, that the bases $a$ to which 45 is a Fermat pseudoprime are 1; 8; 17; 19; 26; 28; 37; 44."
   ]
  },
  {
   "cell_type": "code",
   "execution_count": 14,
   "metadata": {
    "scrolled": true
   },
   "outputs": [
    {
     "name": "stdout",
     "output_type": "stream",
     "text": [
      "1\n",
      "8\n",
      "17\n",
      "19\n",
      "26\n",
      "28\n",
      "37\n",
      "44\n"
     ]
    }
   ],
   "source": [
    "for a in range(1,45):\n",
    "    if pow(a,45-1,45)==1: print(a)"
   ]
  },
  {
   "cell_type": "markdown",
   "metadata": {},
   "source": [
    "## 8 Fermat pseudoprimes to base $a = 2$\n",
    "A Fermat pseudoprime to base $a$ is a number $p$ such that $a^{p−1} ≡ 1 (mod p)$. Compute, using\n",
    "appropriate python code, all Fermat pseudoprimes to base $2$ for $2 < p ≤ 2000$."
   ]
  },
  {
   "cell_type": "code",
   "execution_count": 4,
   "metadata": {
    "scrolled": true
   },
   "outputs": [
    {
     "name": "stdout",
     "output_type": "stream",
     "text": [
      "3\n",
      "5\n",
      "7\n",
      "11\n",
      "13\n",
      "17\n",
      "19\n",
      "23\n",
      "29\n",
      "31\n",
      "37\n",
      "41\n",
      "43\n",
      "47\n",
      "53\n",
      "59\n",
      "61\n",
      "67\n",
      "71\n",
      "73\n",
      "79\n",
      "83\n",
      "89\n",
      "97\n",
      "101\n",
      "103\n",
      "107\n",
      "109\n",
      "113\n",
      "127\n",
      "131\n",
      "137\n",
      "139\n",
      "149\n",
      "151\n",
      "157\n",
      "163\n",
      "167\n",
      "173\n",
      "179\n",
      "181\n",
      "191\n",
      "193\n",
      "197\n",
      "199\n",
      "211\n",
      "223\n",
      "227\n",
      "229\n",
      "233\n",
      "239\n",
      "241\n",
      "251\n",
      "257\n",
      "263\n",
      "269\n",
      "271\n",
      "277\n",
      "281\n",
      "283\n",
      "293\n",
      "307\n",
      "311\n",
      "313\n",
      "317\n",
      "331\n",
      "337\n",
      "341\n",
      "347\n",
      "349\n",
      "353\n",
      "359\n",
      "367\n",
      "373\n",
      "379\n",
      "383\n",
      "389\n",
      "397\n",
      "401\n",
      "409\n",
      "419\n",
      "421\n",
      "431\n",
      "433\n",
      "439\n",
      "443\n",
      "449\n",
      "457\n",
      "461\n",
      "463\n",
      "467\n",
      "479\n",
      "487\n",
      "491\n",
      "499\n",
      "503\n",
      "509\n",
      "521\n",
      "523\n",
      "541\n",
      "547\n",
      "557\n",
      "561\n",
      "563\n",
      "569\n",
      "571\n",
      "577\n",
      "587\n",
      "593\n",
      "599\n",
      "601\n",
      "607\n",
      "613\n",
      "617\n",
      "619\n",
      "631\n",
      "641\n",
      "643\n",
      "645\n",
      "647\n",
      "653\n",
      "659\n",
      "661\n",
      "673\n",
      "677\n",
      "683\n",
      "691\n",
      "701\n",
      "709\n",
      "719\n",
      "727\n",
      "733\n",
      "739\n",
      "743\n",
      "751\n",
      "757\n",
      "761\n",
      "769\n",
      "773\n",
      "787\n",
      "797\n",
      "809\n",
      "811\n",
      "821\n",
      "823\n",
      "827\n",
      "829\n",
      "839\n",
      "853\n",
      "857\n",
      "859\n",
      "863\n",
      "877\n",
      "881\n",
      "883\n",
      "887\n",
      "907\n",
      "911\n",
      "919\n",
      "929\n",
      "937\n",
      "941\n",
      "947\n",
      "953\n",
      "967\n",
      "971\n",
      "977\n",
      "983\n",
      "991\n",
      "997\n",
      "1009\n",
      "1013\n",
      "1019\n",
      "1021\n",
      "1031\n",
      "1033\n",
      "1039\n",
      "1049\n",
      "1051\n",
      "1061\n",
      "1063\n",
      "1069\n",
      "1087\n",
      "1091\n",
      "1093\n",
      "1097\n",
      "1103\n",
      "1105\n",
      "1109\n",
      "1117\n",
      "1123\n",
      "1129\n",
      "1151\n",
      "1153\n",
      "1163\n",
      "1171\n",
      "1181\n",
      "1187\n",
      "1193\n",
      "1201\n",
      "1213\n",
      "1217\n",
      "1223\n",
      "1229\n",
      "1231\n",
      "1237\n",
      "1249\n",
      "1259\n",
      "1277\n",
      "1279\n",
      "1283\n",
      "1289\n",
      "1291\n",
      "1297\n",
      "1301\n",
      "1303\n",
      "1307\n",
      "1319\n",
      "1321\n",
      "1327\n",
      "1361\n",
      "1367\n",
      "1373\n",
      "1381\n",
      "1387\n",
      "1399\n",
      "1409\n",
      "1423\n",
      "1427\n",
      "1429\n",
      "1433\n",
      "1439\n",
      "1447\n",
      "1451\n",
      "1453\n",
      "1459\n",
      "1471\n",
      "1481\n",
      "1483\n",
      "1487\n",
      "1489\n",
      "1493\n",
      "1499\n",
      "1511\n",
      "1523\n",
      "1531\n",
      "1543\n",
      "1549\n",
      "1553\n",
      "1559\n",
      "1567\n",
      "1571\n",
      "1579\n",
      "1583\n",
      "1597\n",
      "1601\n",
      "1607\n",
      "1609\n",
      "1613\n",
      "1619\n",
      "1621\n",
      "1627\n",
      "1637\n",
      "1657\n",
      "1663\n",
      "1667\n",
      "1669\n",
      "1693\n",
      "1697\n",
      "1699\n",
      "1709\n",
      "1721\n",
      "1723\n",
      "1729\n",
      "1733\n",
      "1741\n",
      "1747\n",
      "1753\n",
      "1759\n",
      "1777\n",
      "1783\n",
      "1787\n",
      "1789\n",
      "1801\n",
      "1811\n",
      "1823\n",
      "1831\n",
      "1847\n",
      "1861\n",
      "1867\n",
      "1871\n",
      "1873\n",
      "1877\n",
      "1879\n",
      "1889\n",
      "1901\n",
      "1905\n",
      "1907\n",
      "1913\n",
      "1931\n",
      "1933\n",
      "1949\n",
      "1951\n",
      "1973\n",
      "1979\n",
      "1987\n",
      "1993\n",
      "1997\n",
      "1999\n"
     ]
    }
   ],
   "source": [
    "for p in range(2,2000):\n",
    "    if (2**(p-1)%p == 1): print(str(p))"
   ]
  },
  {
   "cell_type": "markdown",
   "metadata": {},
   "source": [
    "## 9 Prime number tests\n",
    "Verify, that\n",
    "\n",
    "$2^{561} ≡ 2 mod 561$\n",
    "\n",
    "$3^{561} ≡ 3 mod 561$\n",
    "\n",
    "$4^{561} ≡ 4 mod 561$\n",
    "\n",
    "...\n",
    "\n",
    "$560^{561} ≡ 560 mod 561$"
   ]
  },
  {
   "cell_type": "code",
   "execution_count": 27,
   "metadata": {},
   "outputs": [
    {
     "name": "stdout",
     "output_type": "stream",
     "text": [
      "True\n"
     ]
    }
   ],
   "source": [
    "def Test():\n",
    "    for i in range(2, 561):\n",
    "        if squareAndMultiply(i,561,561) != i:\n",
    "            return False\n",
    "\n",
    "    return True\n",
    "\n",
    "print(Test())"
   ]
  },
  {
   "cell_type": "code",
   "execution_count": null,
   "metadata": {},
   "outputs": [],
   "source": []
  }
 ],
 "metadata": {
  "kernelspec": {
   "display_name": "Python 3",
   "language": "python",
   "name": "python3"
  },
  "language_info": {
   "codemirror_mode": {
    "name": "ipython",
    "version": 3
   },
   "file_extension": ".py",
   "mimetype": "text/x-python",
   "name": "python",
   "nbconvert_exporter": "python",
   "pygments_lexer": "ipython3",
   "version": "3.6.6"
  }
 },
 "nbformat": 4,
 "nbformat_minor": 2
}
