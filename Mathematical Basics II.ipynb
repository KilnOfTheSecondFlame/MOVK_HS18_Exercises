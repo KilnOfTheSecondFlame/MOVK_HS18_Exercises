{
 "cells": [
  {
   "cell_type": "markdown",
   "metadata": {},
   "source": [
    "# Mathematical Basis II"
   ]
  },
  {
   "cell_type": "markdown",
   "metadata": {},
   "source": [
    "## 1 Generator or primitive element of a group\n",
    "\n",
    "Is 3 a generator of $(\\mathbb{Z}*_11;·)$. Find a generator of $(\\mathbb{Z}*_11;·)$."
   ]
  },
  {
   "cell_type": "markdown",
   "metadata": {},
   "source": [
    "## 2 Field\n",
    "Show that if $p$ is prime, then $\\mathbb{Z}_p$ together with addition and multiplication modulo $p$ constitues\n",
    "a field. Check whether the rules (i)-(ix) hold?"
   ]
  },
  {
   "cell_type": "markdown",
   "metadata": {},
   "source": [
    "## 3 The Galois Field $GF(22)$"
   ]
  },
  {
   "cell_type": "markdown",
   "metadata": {},
   "source": [
    "A theorem says that there is a finite filed with $2^2 = 4$ elements, because 4 is the 2nd power of\n",
    "the prime number 2. Let’s call this field $GF(2^2)$. Let’s represent the elements by bitstrings of\n",
    "length two: 00, 01, 10, and 11. Assume 00 is the neutral element with respect to addition and\n",
    "01 the neutral element with respect to multiplication.\n",
    "\n",
    "Complete the following tables for addition (left) and multiplication (right):"
   ]
  },
  {
   "cell_type": "markdown",
   "metadata": {},
   "source": [
    "| +  | 00  | 01  | 10  | 11  |\n",
    "|----|---|----|----|----|\n",
    "| 00  | 00  | 01  | 10  | 11  |\n",
    "|01|01||||\n",
    "|10|10||||\n",
    "|11|11||||\n",
    "\n",
    "|·| 00 |01 |10 |11|\n",
    "|----|---|----|----|----|\n",
    "|00 |00 |00 |00 |00|\n",
    "|01 |00 |01 |10 |11|\n",
    "|10 |00 |10|||\n",
    "|11 |00 |11|||"
   ]
  },
  {
   "cell_type": "markdown",
   "metadata": {},
   "source": [
    "Note: in order to have inverse elements, the tables must be latin squares, i.e. each element\n",
    "occurs exactly once in each row and exactly once in each column. It helps to watch the Youtube\n",
    "video *Was sind Galoiskörper?*"
   ]
  },
  {
   "cell_type": "markdown",
   "metadata": {},
   "source": [
    "## 4 Legendre symbol\n",
    "\n",
    "Compute $1009/713$ using the rules on slides of the presentation (Solution is −1)."
   ]
  },
  {
   "cell_type": "markdown",
   "metadata": {},
   "source": [
    "## 5 Quadratic congruence\n",
    "\n",
    "Does the linear congruence $x^2 ≡ 446 (mod 1129)$ have a solution x? You need not compute\n",
    "x; just decide, if a solution exists. Use the Legendre symbol $1129/446$ to answer this question!\n",
    "(Solution is YES)."
   ]
  },
  {
   "cell_type": "markdown",
   "metadata": {},
   "source": [
    "## 6 Quadratic congruence\n",
    "Implement the square and multiply algorithm and check, if it works reasonable even the numbers have 100 or more digits. Compare Your results with the pow function in python."
   ]
  },
  {
   "cell_type": "markdown",
   "metadata": {},
   "source": [
    "## 7 Bases $a$ to which $45$ is a Fermat pseudoprimes ($< 45$)\n",
    "Show, that the bases $a$ to which 45 is a Fermat pseudoprime are 1; 8; 17; 19; 26; 28; 37; 44."
   ]
  },
  {
   "cell_type": "markdown",
   "metadata": {},
   "source": [
    "## 8 Fermat pseudoprimes to base a = 2\n",
    "A Fermat pseudoprime to base a is a number p such that $a^p−1 ≡ 1 (mod p)$. Compute, using\n",
    "appropriate python code, all Fermat pseudoprimes to base 2 for $2 < p ≤ 2000$."
   ]
  },
  {
   "cell_type": "markdown",
   "metadata": {},
   "source": [
    "## 9 Prime number tests\n",
    "Verify, that\n",
    "\n",
    "$2561 ≡ 2 mod 561$\n",
    "\n",
    "$3561 ≡ 3 mod 561$\n",
    "\n",
    "$4561 ≡ 4 mod 561$\n",
    "\n",
    "...\n",
    "\n",
    "$560561 ≡ 560 mod 561$"
   ]
  },
  {
   "cell_type": "code",
   "execution_count": null,
   "metadata": {},
   "outputs": [],
   "source": []
  }
 ],
 "metadata": {
  "kernelspec": {
   "display_name": "Python 3",
   "language": "python",
   "name": "python3"
  },
  "language_info": {
   "codemirror_mode": {
    "name": "ipython",
    "version": 3
   },
   "file_extension": ".py",
   "mimetype": "text/x-python",
   "name": "python",
   "nbconvert_exporter": "python",
   "pygments_lexer": "ipython3",
   "version": "3.6.5"
  }
 },
 "nbformat": 4,
 "nbformat_minor": 2
}
