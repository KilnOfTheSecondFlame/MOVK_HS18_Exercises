{
 "cells": [
  {
   "cell_type": "markdown",
   "metadata": {},
   "source": [
    "## 1 Divisibility and Congruences\n",
    "\n",
    "Prove that $n$ is divisible by $9$, i.e. $9\\ |\\ n$, if the sum of the\n",
    "digits of $n$ is divisible by $9$. Hint: use the identity $10 = 9+1$."
   ]
  },
  {
   "cell_type": "markdown",
   "metadata": {},
   "source": [
    "$n=d_m\\cdot10^m+d_{m-1}\\cdot10(m-1)+\\cdots+d_2\\cdot10^2+d_1\\cdot10+d_0$\n",
    "\n",
    "$10^n=(9+1)^n=\\displaystyle\\sum_{k=0}^{n} \\binom{n}{k} 9^{n-k}1^k$\n",
    "\n",
    "$n\\equiv_9 \\displaystyle\\sum_{i=0}^{n} d_i+10^i \\equiv_9 \\displaystyle\\sum_{i=0}^{n} d_i \\cdot \\displaystyle\\sum_{k=0}^{n} \\binom{n}{k} 9^{n-k}1^k \\equiv_9 \\displaystyle\\sum_{i=0}^{n} d_i \\cdot 1 \\equiv_9 \\displaystyle\\sum_{i=0}^{n} d_i$"
   ]
  },
  {
   "cell_type": "code",
   "execution_count": null,
   "metadata": {},
   "outputs": [],
   "source": []
  }
 ],
 "metadata": {
  "kernelspec": {
   "display_name": "Python 3",
   "language": "python",
   "name": "python3"
  },
  "language_info": {
   "codemirror_mode": {
    "name": "ipython",
    "version": 3
   },
   "file_extension": ".py",
   "mimetype": "text/x-python",
   "name": "python",
   "nbconvert_exporter": "python",
   "pygments_lexer": "ipython3",
   "version": "3.6.5"
  }
 },
 "nbformat": 4,
 "nbformat_minor": 2
}
