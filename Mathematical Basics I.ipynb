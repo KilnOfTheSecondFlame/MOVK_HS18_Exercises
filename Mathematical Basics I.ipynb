{
 "cells": [
  {
   "cell_type": "markdown",
   "metadata": {},
   "source": [
    "$n=d_m*10^m+d_(m-1)*10(m-1)+\\cdots+d_2*10^2+d_1*10+d_0$\n",
    "\n",
    "$10^n=(9+1)^n=\\displaystyle\\sum_{k=0}^{n} \\binom{n}{k} 9^{n-k}1^k$\n",
    "\n",
    "$n\\equiv_9 \\displaystyle\\sum_{i=0}^{n} d_i+10^i$"
   ]
  },
  {
   "cell_type": "code",
   "execution_count": null,
   "metadata": {},
   "outputs": [],
   "source": []
  }
 ],
 "metadata": {
  "kernelspec": {
   "display_name": "Python 3",
   "language": "python",
   "name": "python3"
  },
  "language_info": {
   "codemirror_mode": {
    "name": "ipython",
    "version": 3
   },
   "file_extension": ".py",
   "mimetype": "text/x-python",
   "name": "python",
   "nbconvert_exporter": "python",
   "pygments_lexer": "ipython3",
   "version": "3.6.5"
  }
 },
 "nbformat": 4,
 "nbformat_minor": 2
}
