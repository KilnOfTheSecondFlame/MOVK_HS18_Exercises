{
 "cells": [
  {
   "cell_type": "markdown",
   "metadata": {},
   "source": [
    "# Mathematical Basis I"
   ]
  },
  {
   "cell_type": "markdown",
   "metadata": {},
   "source": [
    "## 1 Divisibility and Congruences\n",
    "\n",
    "Prove that $n$ is divisible by $9$, i.e. $9\\ |\\ n$, if the sum of the\n",
    "digits of $n$ is divisible by $9$. Hint: use the identity $10 = 9+1$."
   ]
  },
  {
   "cell_type": "markdown",
   "metadata": {},
   "source": [
    "$n=d_m\\cdot10^m+d_{m-1}\\cdot10(m-1)+\\cdots+d_2\\cdot10^2+d_1\\cdot10+d_0$\n",
    "\n",
    "$10^n=(9+1)^n=\\displaystyle\\sum_{k=0}^{n} \\binom{n}{k} 9^{n-k}1^k$\n",
    "\n",
    "$n\\equiv_9 \\displaystyle\\sum_{i=0}^{n} d_i*10^i \\equiv_9 \\displaystyle\\sum_{i=0}^{n} d_i \\cdot \\displaystyle\\sum_{k=0}^{n} \\binom{n}{k} 9^{n-k}1^k \\equiv_9 \\displaystyle\\sum_{i=0}^{n} d_i \\cdot 1 \\equiv_9 \\displaystyle\\sum_{i=0}^{n} d_i$"
   ]
  },
  {
   "cell_type": "markdown",
   "metadata": {},
   "source": [
    "## 2 Divisibility\n",
    "Do there exist integers x, y, and z such that 6x+9y+15z = 107? Hint: what are the divisors of\n",
    "the right hand and the left hand side of this equation?"
   ]
  },
  {
   "cell_type": "markdown",
   "metadata": {},
   "source": [
    "6x+9y+15z = 107\n",
    "\n",
    "=3(2x+3y+5z) = 107\n",
    "\n",
    "This means 107 needs to be divisable by 3 if a solution to the equation exists.\n",
    "But 107 is prime and thus no solution exists."
   ]
  },
  {
   "cell_type": "markdown",
   "metadata": {},
   "source": [
    "## 3 Computing the (multiplicative) inverse I"
   ]
  },
  {
   "cell_type": "markdown",
   "metadata": {},
   "source": [
    "The multiplicative inverse of a modulo n exists iff (if and only if) gcd(a;n) = 1. If this is the\n",
    "case, it can be computed using the extended GCD algorithm. This amounts to find x and y s.t.\n",
    "(such that)\n",
    "\n",
    "$ax+ ny = gcd(a;n) = 1:$\n",
    "\n",
    "As an example with n = 47 and a = 12 we have\n",
    "\n",
    "$12 ·4+47 ·(−1) = gcd(12;47) = 1:$\n",
    "\n",
    "If take both sides of this equation modulo 47, we get\n",
    "\n",
    "(12 ·4+47 ·(−1)) mod 47 = 1;\n",
    "(12 ·4) mod 47 = 1;\n",
    "\n",
    "This tells us, that 4 is the (multiplicative) inverse of 12 modulo 47. In fact 12 ·4 mod 47 = 48\n",
    "mod 47 = 1.\n",
    "\n",
    "**Your Task:** Find the multiplicative inverses of a modulo n (if it exists) if"
   ]
  },
  {
   "cell_type": "code",
   "execution_count": 1,
   "metadata": {},
   "outputs": [],
   "source": [
    "def EuclideanGCD(a,b):\n",
    "    while b:\n",
    "        a,b = b, a % b\n",
    "    return a"
   ]
  },
  {
   "cell_type": "code",
   "execution_count": 3,
   "metadata": {},
   "outputs": [
    {
     "data": {
      "text/plain": [
       "1"
      ]
     },
     "execution_count": 3,
     "metadata": {},
     "output_type": "execute_result"
    }
   ],
   "source": [
    "EuclideanGCD(47,8)"
   ]
  },
  {
   "cell_type": "markdown",
   "metadata": {},
   "source": [
    "A function for displaying the summary of a notebook object.\n",
    "It prints a simple summary, such as:\n",
    "\n",
    "```\n",
    "  1   markdown cells, total:   4 lines\n",
    "  5       code cells, total:   4 lines\n",
    "  1    heading cells, total:   1 lines\n",
    "```"
   ]
  },
  {
   "cell_type": "code",
   "execution_count": 5,
   "metadata": {},
   "outputs": [],
   "source": [
    "def ExtendedGCD(a,b):\n",
    "   # initialization\n",
    "    s1 = a; s2 = b\n",
    "    u1 = 1; u2 = 0\n",
    "    v1 = 0; v2 = 1\n",
    "    while s2 > 0: # loop if not finished\n",
    "        q = s1 // s2\n",
    "        r = s1 % s2\n",
    "        s1 = s2; s2 = r\n",
    "        t = u2; u2 = u1 - q*u2; u1 = t\n",
    "        t = v2; v2 = v1 - q*v2; v1 = t\n",
    "    return u1, v1, s1"
   ]
  },
  {
   "cell_type": "code",
   "execution_count": 6,
   "metadata": {},
   "outputs": [
    {
     "data": {
      "text/plain": [
       "(-1, 6, 1)"
      ]
     },
     "execution_count": 6,
     "metadata": {},
     "output_type": "execute_result"
    }
   ],
   "source": [
    "ExtendedGCD(47,8)"
   ]
  },
  {
   "cell_type": "code",
   "execution_count": 7,
   "metadata": {},
   "outputs": [
    {
     "data": {
      "text/plain": [
       "(-13, 37, 1)"
      ]
     },
     "execution_count": 7,
     "metadata": {},
     "output_type": "execute_result"
    }
   ],
   "source": [
    "ExtendedGCD(202,71)"
   ]
  },
  {
   "cell_type": "markdown",
   "metadata": {},
   "source": [
    "## 4 Computing the (multiplicative) inverse II\n",
    "\n",
    "Which of the elements in $\\mathbb{Z}_6$ do have a (multiplicative) inverse modulo $6$? For each of these\n",
    "elements compute the inverse and prove, that it is indeed the inverse by computing $a\\cdot a^{−1}\\ \\text{mod}\\ 6$."
   ]
  },
  {
   "cell_type": "code",
   "execution_count": 41,
   "metadata": {},
   "outputs": [
    {
     "name": "stdout",
     "output_type": "stream",
     "text": [
      "1: \n",
      "[1 2 3 4 5]\n",
      "2: \n",
      "[2 4 0 2 4]\n",
      "3: \n",
      "[3 0 3 0 3]\n",
      "4: \n",
      "[4 2 0 4 2]\n",
      "5: \n",
      "[5 4 3 2 1]\n"
     ]
    }
   ],
   "source": [
    "import numpy as np\n",
    "i = np.arange(1,6)\n",
    "for j in range(1,6):\n",
    "    print(str(j) + \": \")\n",
    "    print(np.mod((i*j),6))"
   ]
  },
  {
   "cell_type": "code",
   "execution_count": 37,
   "metadata": {},
   "outputs": [
    {
     "data": {
      "text/plain": [
       "1"
      ]
     },
     "execution_count": 37,
     "metadata": {},
     "output_type": "execute_result"
    }
   ],
   "source": [
    "(1*1)%6"
   ]
  },
  {
   "cell_type": "markdown",
   "metadata": {},
   "source": [
    "## 5 Computing the (multiplicative) inverse III\n",
    "\n",
    "The multiplicative inverse of a modulo n can be computed\n",
    "- by guessing which works well if n is small\n",
    "- by writing down the multiplication table; which also only works when n is small,\n",
    "- by advocating the extended GCD\n",
    "- with the help of Fermat’s little theorem\n",
    "\n",
    "**Your Task**: Compute the multiplicative inverse of 9 modulo 11 by using all of the four methods."
   ]
  },
  {
   "cell_type": "markdown",
   "metadata": {},
   "source": [
    "- **Guessing**: $5 * 9 = 45, 45 mod 11 = 1$\n",
    "- **Multiplication table**: \n",
    "\n",
    "| -  | 0 | 1  | 2  | 3  | 4  | 5  | 6  | 7  | 8  | 9  | 10 |\n",
    "|----|---|----|----|----|----|----|----|----|----|----|----|\n",
    "| **0**  | 0 | 0  | 0  | 0  | 0  | 0  | 0  | 0  | 0  | 0  | 0  |\n",
    "| **1**  | 0 | 1  | 2  | 3  | 4  | 5  | 6  | 7  | 8  | 9  | 10 |\n",
    "| **2**  | 0 | 2  | 4  | 6  | 8  | 10 | 1  | 3  | 5  | 7  | 9  |\n",
    "| **3**  | 0 | 3  | 6  | 9  | 1  | 4  | 7  | 10 | 2  | 5  | 8  |\n",
    "| **4**  | 0 | 4  | 8  | 1  | 5  | 9  | 2  | 6  | 10 | 3  | 7  |\n",
    "| **5**  | 0 | 5  | 10 | 4  | 9  | 3  | 8  | 2  | 7  | **1**  | 6  |\n",
    "| **6**  | 0 | 6  | 1  | 7  | 2  | 8  | 3  | 9  | 4  | 10 | 5  |\n",
    "| **7**  | 0 | 7  | 3  | 10 | 6  | 2  | 9  | 5  | 1  | 8  | 4  |\n",
    "| **8**  | 0 | 8  | 5  | 2  | 10 | 7  | 4  | 1  | 9  | 6  | 3  |\n",
    "| **9**  | 0 | 9  | 7  | 5  | 3  | **1**  | 10 | 8  | 6  | 4  | 2  |\n",
    "| **10** | 0 | 10 | 9  | 8  | 7  | 6  | 5  | 4  | 3  | 2  | 1  |\n",
    "\n",
    "- **Extended GCD**:"
   ]
  },
  {
   "cell_type": "markdown",
   "metadata": {},
   "source": [
    "| - | - | - | - |\n",
    "| --- | --- | --- | --- |\n",
    "| 11 | 0 | 1 | 0 |\n",
    "| 9 | 1 | 0 | 1 |\n",
    "| 2 | 4 | 1 | -1 |\n",
    "| 1 | 2 | -4 | **5** |\n",
    "| 0 | - | - | - |\n",
    "\n",
    "$11*(-4) + 9*5 = 9*5 = 1$"
   ]
  },
  {
   "cell_type": "markdown",
   "metadata": {},
   "source": [
    "- **Fermat's little theorem**: \n",
    "9 mod 11 \n",
    "          = (9)^(11-2) \n",
    "          = 9^9 \n",
    "          = ((9^2)^2)^2 * 9 \n",
    "          = (81^2)^2 * 9 \n",
    "          = (4^2)^2 * 9 \n",
    "          = 16^2 * 9 \n",
    "          = 5^2 * 9 \n",
    "          = 25 *9 \n",
    "          = 3 * 9 \n",
    "          = 27 \n",
    "          = 5"
   ]
  },
  {
   "cell_type": "code",
   "execution_count": null,
   "metadata": {},
   "outputs": [],
   "source": []
  }
 ],
 "metadata": {
  "kernelspec": {
   "display_name": "Python 3",
   "language": "python",
   "name": "python3"
  },
  "language_info": {
   "codemirror_mode": {
    "name": "ipython",
    "version": 3
   },
   "file_extension": ".py",
   "mimetype": "text/x-python",
   "name": "python",
   "nbconvert_exporter": "python",
   "pygments_lexer": "ipython3",
   "version": "3.7.0"
  }
 },
 "nbformat": 4,
 "nbformat_minor": 2
}
